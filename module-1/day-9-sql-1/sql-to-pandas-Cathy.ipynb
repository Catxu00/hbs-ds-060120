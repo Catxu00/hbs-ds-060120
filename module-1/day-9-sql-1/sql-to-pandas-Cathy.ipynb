{
 "cells": [
  {
   "cell_type": "markdown",
   "metadata": {
    "slideshow": {
     "slide_type": "slide"
    }
   },
   "source": [
    "![sql](img/sql-logo.jpg)\n",
    "\n",
    "# A beginner's guide to databases, SQL, & using them with `pandas`"
   ]
  },
  {
   "cell_type": "markdown",
   "metadata": {
    "slideshow": {
     "slide_type": "slide"
    }
   },
   "source": [
    "**Scenario:** You are a data analyst for the Homeland Security, trying to create reports on the active airports world wide. The data you need to access is in a SQL database. YOu need to be able to query for the data in a database!"
   ]
  },
  {
   "cell_type": "markdown",
   "metadata": {
    "slideshow": {
     "slide_type": "slide"
    }
   },
   "source": [
    "## Learning goals:\n",
    "- Goal 1: Summarize the use case for sql in the data science skill set\n",
    "- Goal 2: Define key sql terminology\n",
    "- Goal 3: Get information about DB schema and table structure\n",
    "- Goal 4: Use basic SQL commands:\n",
    "    - Construct SQL queries\n",
    "    - Use `JOIN` to merge tables along logical columns\n",
    "    - Grouping Data with SQL, inlcuding `HAVING`\n",
    "- Goal 5: Convert SQL to pandas"
   ]
  },
  {
   "cell_type": "markdown",
   "metadata": {
    "slideshow": {
     "slide_type": "slide"
    }
   },
   "source": [
    "## Goal 1: Summarize\n",
    "\n",
    "To date the data we've seen has looked like [this.](https://data.austintexas.gov/Health-and-Community-Services/Austin-Animal-Center-Intakes/wter-evkm)\n",
    "\n",
    "That is how we need data to look to run analysis and build models.<br>\n",
    "But it doesn't _live_ there in it's native state."
   ]
  },
  {
   "cell_type": "markdown",
   "metadata": {
    "slideshow": {
     "slide_type": "slide"
    }
   },
   "source": [
    "[Netflix has a great article](https://medium.com/netflix-techblog/notebook-innovation-591ee3221233) describing three different data roles at their company, their different needs, and their toolsets.\n",
    "\n",
    "![netflix](img/netflix-data-roles.jpeg)\n",
    "\n",
    "Examining that graphic, SQL shows up as one of the tools of the _Data Engineer_ "
   ]
  },
  {
   "cell_type": "markdown",
   "metadata": {
    "slideshow": {
     "slide_type": "slide"
    }
   },
   "source": [
    "Data Engineers provide the essential data architecture services that make data science possible.\n",
    "\n",
    "![hierarchy](img/ai-hierachy.png)\n",
    "\n",
    "[Source: Monica Rogati’s fantastic Medium post “The AI Hierarchy of Needs”\n",
    "](https://hackernoon.com/the-ai-hierarchy-of-needs-18f111fcc007)"
   ]
  },
  {
   "cell_type": "markdown",
   "metadata": {},
   "source": [
    "## What does it mean to **Engineer Data**?\n",
    "\n",
    "Let's start with a basic scenario:<br>\n",
    "You are HR. You have *no* current database. \n",
    "How would you set it up?\n",
    "\n",
    "Data needs considerations:\n",
    "- What you want to store\n",
    "- What \"views\" you anticipate wanting in the future\n",
    "\n",
    "Structure considerations:\n",
    "- Speed of retrieval\n",
    "- How much data you are accessing\n",
    "- How much you are storing"
   ]
  },
  {
   "cell_type": "markdown",
   "metadata": {
    "slideshow": {
     "slide_type": "slide"
    }
   },
   "source": [
    "![etl](img/etl.png)\n",
    "\n",
    "[img source: Jeff Hammerbacher’s slide from UC Berkeley CS 194 course ](https://bcourses.berkeley.edu/courses/1377158/pages/cs-194-16-introduction-to-data-science-fall-2015)"
   ]
  },
  {
   "cell_type": "markdown",
   "metadata": {
    "slideshow": {
     "slide_type": "slide"
    }
   },
   "source": [
    "### What is a Relational Database? \n",
    "\n",
    "![rdb](img/relational-dbms-model.png)\n",
    "[reference for image ](https://www.studytonight.com/dbms/database-model.php)"
   ]
  },
  {
   "cell_type": "markdown",
   "metadata": {
    "slideshow": {
     "slide_type": "slide"
    }
   },
   "source": [
    "### POPULAR RDBMS\n",
    "\n",
    "- SQLite\n",
    "- MySQL\n",
    "- PostgreSql\n",
    "- Oracle DB\n",
    "- SQL Server"
   ]
  },
  {
   "cell_type": "markdown",
   "metadata": {},
   "source": [
    "***\n",
    "### SQL Readings\n",
    "\n",
    "[History of SQL](https://www.businessnewsdaily.com/5804-what-is-sql.html)\n",
    "\n",
    "[The original SQL paper from the 1970s.](https://www.seas.upenn.edu/~zives/03f/cis550/codd.pdf)"
   ]
  },
  {
   "cell_type": "markdown",
   "metadata": {
    "slideshow": {
     "slide_type": "slide"
    }
   },
   "source": [
    "***\n",
    "## Goal 2: Database terminology\n",
    "\n",
    "### Relational Database Schema\n",
    "\n",
    "![schema](img/MySQL_Schema_Music_Example.png)\n",
    "\n",
    "[source of image](https://database.guide/what-is-a-database-schema/)"
   ]
  },
  {
   "cell_type": "markdown",
   "metadata": {
    "slideshow": {
     "slide_type": "slide"
    }
   },
   "source": [
    "***\n",
    "### SQLite\n",
    "\n",
    "<img src=\"img/SQLite-Python.jpg\" width=500>\n",
    "\n",
    "- C library (fast)\n",
    "- lightweight disk-based database\n",
    "- that doesn’t require a separate server process\n",
    "- nonstandard variant of the SQL query language\n",
    "- applications can use SQLite for internal data storage\n",
    "- use case: prototype an application using SQLite and then port the code to a larger database such as PostgreSQL or Oracle\n",
    "\n",
    "[sqlite documentation](https://docs.python.org/2/library/sqlite3.html)\n",
    "\n"
   ]
  },
  {
   "cell_type": "markdown",
   "metadata": {
    "slideshow": {
     "slide_type": "slide"
    }
   },
   "source": [
    "## But what about connecting to database servers?\n",
    "\n",
    "To connect to other database types there are many different libraries:\n",
    "- Oracle: [cx_Oracle](https://oracle.github.io/python-cx_Oracle/)\n",
    "- MySQL: [MySQL-python](https://github.com/farcepest/MySQLdb1)\n",
    "- PostgreSQL: [Psycopg2](http://initd.org/psycopg/docs/)\n",
    "- Microsoft SQL Server: [pymssql](http://www.pymssql.org/en/stable/)\n",
    "\n",
    "These all implement [PEP 249: DB API v2](https://www.python.org/dev/peps/pep-0249/)"
   ]
  },
  {
   "cell_type": "markdown",
   "metadata": {
    "slideshow": {
     "slide_type": "slide"
    }
   },
   "source": [
    "## Goal 3: Get going with sqlite!"
   ]
  },
  {
   "cell_type": "code",
   "execution_count": 2,
   "metadata": {
    "slideshow": {
     "slide_type": "fragment"
    }
   },
   "outputs": [],
   "source": [
    "import sqlite3"
   ]
  },
  {
   "cell_type": "markdown",
   "metadata": {
    "slideshow": {
     "slide_type": "slide"
    }
   },
   "source": [
    "#### Load a DB object with `connect` and `cursor`"
   ]
  },
  {
   "cell_type": "code",
   "execution_count": 3,
   "metadata": {
    "slideshow": {
     "slide_type": "fragment"
    }
   },
   "outputs": [],
   "source": [
    "con = sqlite3.connect('data/flights.db') #connection object\n",
    "cursor = con.cursor() #create a cursor"
   ]
  },
  {
   "cell_type": "code",
   "execution_count": 4,
   "metadata": {},
   "outputs": [
    {
     "name": "stdout",
     "output_type": "stream",
     "text": [
      "SQLite format 3\u0000\u0004\u0000\u0001\u0001\u0000@  \u0000\u0000\u0000\t\u0000\u0000\u0014�\u0000\u0000\u0000\u0000\u0000\u0000\u0000\u0000\u0000\u0000\u0000\u0006\u0000\u0000\u0000\u0004\u0000\u0000\u0000\u0000\u0000\u0000\u0000\u0000\u0000\u0000\u0000\u0001\u0000\u0000\u0000\u0000\u0000\u0000\u0000\u0000\u0000\u0000\u0000\u0000\u0000\u0000\u0000\u0000\u0000\u0000\u0000\u0000\u0000\u0000\u0000\u0000\u0000\u0000\u0000\u0000\u0000\u0000\u0000\u0000\u0000\u0000\u0000\t\u0000-�\u0003\u0005\u0000\u0000\u0000\u0000\u0004\u0000\u0000\u0000\u0000\u0005s\u0001�\u0001o\u0000�\u0000\u0000\u0000\u0000\u0000\u0000\u0000\u0000\u0000\u0000\u0000\u0000\u0000\u0000\u0000\u0000�f\u0005\u0007\u0017\u0019\u0019\u0002�%tableroutesroutes\u0005qCREATE TABLE routes (\r\n",
      "[index] INTEGER,\r\n",
      "  [airline] TEXT,\r\n",
      "  [airline_id] TEXT,\r\n",
      "  [source] TEXT,\r\n",
      "  [source_id] TEXT,\r\n",
      "  [dest] TEXT,\r\n",
      "  [dest_id] TEXT,\r\n",
      "  [codeshare] TEXT,\r\n",
      "  [stops] TEXT,\r\n"
     ]
    }
   ],
   "source": [
    "!head data/flights.db"
   ]
  },
  {
   "cell_type": "code",
   "execution_count": 5,
   "metadata": {},
   "outputs": [
    {
     "ename": "SyntaxError",
     "evalue": "invalid syntax (<ipython-input-5-88bfe616d864>, line 1)",
     "output_type": "error",
     "traceback": [
      "\u001b[0;36m  File \u001b[0;32m\"<ipython-input-5-88bfe616d864>\"\u001b[0;36m, line \u001b[0;32m1\u001b[0m\n\u001b[0;31m    cursor.\u001b[0m\n\u001b[0m           ^\u001b[0m\n\u001b[0;31mSyntaxError\u001b[0m\u001b[0;31m:\u001b[0m invalid syntax\n"
     ]
    }
   ],
   "source": [
    "cursor."
   ]
  },
  {
   "cell_type": "markdown",
   "metadata": {
    "slideshow": {
     "slide_type": "slide"
    }
   },
   "source": [
    "#### Use sqlite_master to find all the tables in the schema\n",
    "Get the schema of a database from a db in sqlite"
   ]
  },
  {
   "cell_type": "code",
   "execution_count": 6,
   "metadata": {},
   "outputs": [
    {
     "name": "stdout",
     "output_type": "stream",
     "text": [
      "[('airports', 'table'), ('airlines', 'table'), ('routes', 'table')]\n"
     ]
    }
   ],
   "source": [
    "cursor.execute(\"SELECT name, type FROM sqlite_master WHERE type='table';\")\n",
    "print(cursor.fetchall())"
   ]
  },
  {
   "cell_type": "code",
   "execution_count": 7,
   "metadata": {},
   "outputs": [
    {
     "data": {
      "text/plain": [
       "(('name', None, None, None, None, None, None),\n",
       " ('type', None, None, None, None, None, None))"
      ]
     },
     "execution_count": 7,
     "metadata": {},
     "output_type": "execute_result"
    }
   ],
   "source": [
    "cursor.description"
   ]
  },
  {
   "cell_type": "code",
   "execution_count": 8,
   "metadata": {},
   "outputs": [],
   "source": [
    "# The Nones are only there to comply with the PEP 249 convention."
   ]
  },
  {
   "cell_type": "code",
   "execution_count": 9,
   "metadata": {},
   "outputs": [
    {
     "name": "stdout",
     "output_type": "stream",
     "text": [
      "[('airports', 'table'), ('ix_airports_index', 'index'), ('airlines', 'table'), ('ix_airlines_index', 'index'), ('routes', 'table'), ('ix_routes_index', 'index')]\n"
     ]
    }
   ],
   "source": [
    "cursor.execute(\"SELECT name, type FROM sqlite_master;\")\n",
    "print(cursor.fetchall())"
   ]
  },
  {
   "cell_type": "code",
   "execution_count": 10,
   "metadata": {},
   "outputs": [
    {
     "name": "stdout",
     "output_type": "stream",
     "text": [
      "('table', 'airports', 'airports', 2, 'CREATE TABLE airports (\\n[index] INTEGER,\\n  [id] TEXT,\\n  [name] TEXT,\\n  [city] TEXT,\\n  [country] TEXT,\\n  [code] TEXT,\\n  [icao] TEXT,\\n  [latitude] TEXT,\\n  [longitude] TEXT,\\n  [altitude] TEXT,\\n  [offset] TEXT,\\n  [dst] TEXT,\\n  [timezone] TEXT\\n)')\n",
      "('index', 'ix_airports_index', 'airports', 3, 'CREATE INDEX ix_airports_index ON airports ([index])')\n",
      "('table', 'airlines', 'airlines', 945, 'CREATE TABLE airlines (\\n[index] INTEGER,\\n  [id] TEXT,\\n  [name] TEXT,\\n  [alias] TEXT,\\n  [iata] TEXT,\\n  [icao] TEXT,\\n  [callsign] TEXT,\\n  [country] TEXT,\\n  [active] TEXT\\n)')\n",
      "('index', 'ix_airlines_index', 'airlines', 946, 'CREATE INDEX ix_airlines_index ON airlines ([index])')\n",
      "('table', 'routes', 'routes', 1393, 'CREATE TABLE routes (\\n[index] INTEGER,\\n  [airline] TEXT,\\n  [airline_id] TEXT,\\n  [source] TEXT,\\n  [source_id] TEXT,\\n  [dest] TEXT,\\n  [dest_id] TEXT,\\n  [codeshare] TEXT,\\n  [stops] TEXT,\\n  [equipment] TEXT\\n)')\n",
      "('index', 'ix_routes_index', 'routes', 1394, 'CREATE INDEX ix_routes_index ON routes ([index])')\n"
     ]
    }
   ],
   "source": [
    "cursor.execute(\"SELECT * FROM sqlite_master;\")\n",
    "results = cursor.fetchall()\n",
    "for res in results:\n",
    "    print(res)"
   ]
  },
  {
   "cell_type": "code",
   "execution_count": 11,
   "metadata": {},
   "outputs": [
    {
     "data": {
      "text/plain": [
       "(('type', None, None, None, None, None, None),\n",
       " ('name', None, None, None, None, None, None),\n",
       " ('tbl_name', None, None, None, None, None, None),\n",
       " ('rootpage', None, None, None, None, None, None),\n",
       " ('sql', None, None, None, None, None, None))"
      ]
     },
     "execution_count": 11,
     "metadata": {},
     "output_type": "execute_result"
    }
   ],
   "source": [
    "cursor.description\n",
    "# We got all 5 columns because we put the * in query."
   ]
  },
  {
   "cell_type": "code",
   "execution_count": 12,
   "metadata": {},
   "outputs": [
    {
     "name": "stdout",
     "output_type": "stream",
     "text": [
      "('airports', 'table', 2)\n",
      "('ix_airports_index', 'index', 3)\n",
      "('airlines', 'table', 945)\n",
      "('ix_airlines_index', 'index', 946)\n",
      "('routes', 'table', 1393)\n",
      "('ix_routes_index', 'index', 1394)\n"
     ]
    }
   ],
   "source": [
    "cursor.execute(\"SELECT name, type, rootpage FROM sqlite_master;\")\n",
    "results = cursor.fetchall()\n",
    "for res in results:\n",
    "    print(res)"
   ]
  },
  {
   "cell_type": "markdown",
   "metadata": {
    "slideshow": {
     "slide_type": "slide"
    }
   },
   "source": [
    "#### Get information about one table\n",
    "\n",
    "**A note about** `execute`<br>\n",
    "Each time you use it, you reset the value of cursor"
   ]
  },
  {
   "cell_type": "code",
   "execution_count": 15,
   "metadata": {},
   "outputs": [
    {
     "data": {
      "text/plain": [
       "(0,\n",
       " '1',\n",
       " 'Goroka',\n",
       " 'Goroka',\n",
       " 'Papua New Guinea',\n",
       " 'GKA',\n",
       " 'AYGA',\n",
       " '-6.081689',\n",
       " '145.391881',\n",
       " '5282',\n",
       " '10',\n",
       " 'U',\n",
       " 'Pacific/Port_Moresby')"
      ]
     },
     "execution_count": 15,
     "metadata": {},
     "output_type": "execute_result"
    }
   ],
   "source": [
    "cursor.execute(\"SELECT * FROM airports\").fetchone()"
   ]
  },
  {
   "cell_type": "code",
   "execution_count": 21,
   "metadata": {},
   "outputs": [
    {
     "data": {
      "text/plain": [
       "(8,\n",
       " '9',\n",
       " 'Sondre Stromfjord',\n",
       " 'Sondrestrom',\n",
       " 'Greenland',\n",
       " 'SFJ',\n",
       " 'BGSF',\n",
       " '67.016969',\n",
       " '-50.689325',\n",
       " '165',\n",
       " '-3',\n",
       " 'E',\n",
       " 'America/Godthab')"
      ]
     },
     "execution_count": 21,
     "metadata": {},
     "output_type": "execute_result"
    }
   ],
   "source": [
    "cursor.fetchone()\n",
    "# The cursor moves through rows as it retrieves data."
   ]
  },
  {
   "cell_type": "code",
   "execution_count": 23,
   "metadata": {},
   "outputs": [
    {
     "data": {
      "text/plain": [
       "[(13,\n",
       "  '14',\n",
       "  'Husavik',\n",
       "  'Husavik',\n",
       "  'Iceland',\n",
       "  'HZK',\n",
       "  'BIHU',\n",
       "  '65.952328',\n",
       "  '-17.425978',\n",
       "  '48',\n",
       "  '0',\n",
       "  'N',\n",
       "  'Atlantic/Reykjavik'),\n",
       " (14,\n",
       "  '15',\n",
       "  'Isafjordur',\n",
       "  'Isafjordur',\n",
       "  'Iceland',\n",
       "  'IFJ',\n",
       "  'BIIS',\n",
       "  '66.058056',\n",
       "  '-23.135278',\n",
       "  '8',\n",
       "  '0',\n",
       "  'N',\n",
       "  'Atlantic/Reykjavik'),\n",
       " (15,\n",
       "  '16',\n",
       "  'Keflavik International Airport',\n",
       "  'Keflavik',\n",
       "  'Iceland',\n",
       "  'KEF',\n",
       "  'BIKF',\n",
       "  '63.985',\n",
       "  '-22.605556',\n",
       "  '171',\n",
       "  '0',\n",
       "  'N',\n",
       "  'Atlantic/Reykjavik'),\n",
       " (16,\n",
       "  '17',\n",
       "  'Patreksfjordur',\n",
       "  'Patreksfjordur',\n",
       "  'Iceland',\n",
       "  'PFJ',\n",
       "  'BIPA',\n",
       "  '65.555833',\n",
       "  '-23.965',\n",
       "  '11',\n",
       "  '0',\n",
       "  'N',\n",
       "  'Atlantic/Reykjavik')]"
      ]
     },
     "execution_count": 23,
     "metadata": {},
     "output_type": "execute_result"
    }
   ],
   "source": [
    "cursor.fetchmany(4)"
   ]
  },
  {
   "cell_type": "code",
   "execution_count": 31,
   "metadata": {},
   "outputs": [
    {
     "name": "stdout",
     "output_type": "stream",
     "text": [
      "37\t38\tCoronation\tCoronation\tCanada\tYCT\tCYCT\t52.075001\t-111.445278\t2595\t-7\tA\tAmerica/Edmonton\n",
      "38\t39\tChilliwack\tChilliwack\tCanada\tYCW\tCYCW\t49.152779\t-121.93889\t32\t-8\tA\tAmerica/Vancouver\n",
      "39\t40\tClyde River\tClyde River\tCanada\tYCY\tCYCY\t70.486111\t-68.516667\t87\t-5\tA\tAmerica/Toronto\n",
      "40\t41\tFairmont Hot Springs\tCoral Harbour\tCanada\tYZS\tCYCZ\t64.193333\t-83.359444\t2661\t-5\tA\tAmerica/Coral_Harbour\n"
     ]
    }
   ],
   "source": [
    "for row in cursor.fetchmany(4):\n",
    "    print('\\t'.join([str(x) for x in row]))"
   ]
  },
  {
   "cell_type": "markdown",
   "metadata": {
    "slideshow": {
     "slide_type": "slide"
    }
   },
   "source": [
    "#### Use description"
   ]
  },
  {
   "cell_type": "code",
   "execution_count": 20,
   "metadata": {
    "slideshow": {
     "slide_type": "fragment"
    }
   },
   "outputs": [
    {
     "data": {
      "text/plain": [
       "(('index', None, None, None, None, None, None),\n",
       " ('id', None, None, None, None, None, None),\n",
       " ('name', None, None, None, None, None, None),\n",
       " ('city', None, None, None, None, None, None),\n",
       " ('country', None, None, None, None, None, None),\n",
       " ('code', None, None, None, None, None, None),\n",
       " ('icao', None, None, None, None, None, None),\n",
       " ('latitude', None, None, None, None, None, None),\n",
       " ('longitude', None, None, None, None, None, None),\n",
       " ('altitude', None, None, None, None, None, None),\n",
       " ('offset', None, None, None, None, None, None),\n",
       " ('dst', None, None, None, None, None, None),\n",
       " ('timezone', None, None, None, None, None, None))"
      ]
     },
     "execution_count": 20,
     "metadata": {},
     "output_type": "execute_result"
    }
   ],
   "source": [
    "cursor.description"
   ]
  },
  {
   "cell_type": "markdown",
   "metadata": {
    "slideshow": {
     "slide_type": "slide"
    }
   },
   "source": [
    "#### Or use `Pragma`\n",
    "`Pragma` tool [link here](https://www.sqlite.org/pragma.html#pragma_table_info)\n",
    "\n",
    "**output**<br>\n",
    "`(column id, column name, data type, whether or not the column can be NULL, and the default value for the column)`"
   ]
  },
  {
   "cell_type": "code",
   "execution_count": 32,
   "metadata": {
    "slideshow": {
     "slide_type": "slide"
    }
   },
   "outputs": [
    {
     "name": "stdout",
     "output_type": "stream",
     "text": [
      "(0, 'index', 'INTEGER', 0, None, 0)\n",
      "(1, 'id', 'TEXT', 0, None, 0)\n",
      "(2, 'name', 'TEXT', 0, None, 0)\n",
      "(3, 'city', 'TEXT', 0, None, 0)\n",
      "(4, 'country', 'TEXT', 0, None, 0)\n",
      "(5, 'code', 'TEXT', 0, None, 0)\n",
      "(6, 'icao', 'TEXT', 0, None, 0)\n",
      "(7, 'latitude', 'TEXT', 0, None, 0)\n",
      "(8, 'longitude', 'TEXT', 0, None, 0)\n",
      "(9, 'altitude', 'TEXT', 0, None, 0)\n",
      "(10, 'offset', 'TEXT', 0, None, 0)\n",
      "(11, 'dst', 'TEXT', 0, None, 0)\n",
      "(12, 'timezone', 'TEXT', 0, None, 0)\n"
     ]
    }
   ],
   "source": [
    "cursor.execute(\"PRAGMA table_info(airports)\")\n",
    "info = cursor.fetchall()\n",
    "print(*info, sep = \"\\n\") "
   ]
  },
  {
   "cell_type": "code",
   "execution_count": 33,
   "metadata": {},
   "outputs": [
    {
     "data": {
      "text/plain": [
       "int"
      ]
     },
     "execution_count": 33,
     "metadata": {},
     "output_type": "execute_result"
    }
   ],
   "source": [
    "# unpacking a tuple:\n",
    "x, y = (1,2)\n",
    "type(x)"
   ]
  },
  {
   "cell_type": "code",
   "execution_count": 36,
   "metadata": {},
   "outputs": [
    {
     "name": "stdout",
     "output_type": "stream",
     "text": [
      "(1, 2)\n",
      "1 2\n"
     ]
    }
   ],
   "source": [
    "z = (1,2)\n",
    "print(z)\n",
    "print(z[0],z[1])"
   ]
  },
  {
   "cell_type": "code",
   "execution_count": 40,
   "metadata": {},
   "outputs": [
    {
     "name": "stdout",
     "output_type": "stream",
     "text": [
      "1 2\n",
      "1\n",
      "~~~~~~~~~~~~~~~\n",
      "2\n"
     ]
    }
   ],
   "source": [
    "print(*z)\n",
    "print(*z, sep = '\\n'+'~'*15 +'\\n')"
   ]
  },
  {
   "cell_type": "markdown",
   "metadata": {
    "slideshow": {
     "slide_type": "slide"
    }
   },
   "source": [
    "#### Making fetch happen\n",
    "\n",
    "`.fetchall()` is how you get the query results out of the object.\n",
    "\n",
    "You can also `.fetchone()` or `.fetchmany()`"
   ]
  },
  {
   "cell_type": "markdown",
   "metadata": {
    "slideshow": {
     "slide_type": "slide"
    }
   },
   "source": [
    "**Task:** Get the descriptive data for airlines and routes tables"
   ]
  },
  {
   "cell_type": "code",
   "execution_count": null,
   "metadata": {},
   "outputs": [],
   "source": [
    "cursor.execute(\"PRAGMA table_info(airlines)\")\n",
    "info = cursor.fetchall()\n",
    "print(*info, sep = \"\\n\")"
   ]
  },
  {
   "cell_type": "code",
   "execution_count": null,
   "metadata": {},
   "outputs": [],
   "source": [
    "cursor.execute(\"PRAGMA table_info(routes)\")\n",
    "info = cursor.fetchall()\n",
    "print(*info, sep = \"\\n\")"
   ]
  },
  {
   "cell_type": "markdown",
   "metadata": {
    "slideshow": {
     "slide_type": "slide"
    }
   },
   "source": [
    "***\n",
    "## Goal 4: Use basic SQL commands "
   ]
  },
  {
   "cell_type": "markdown",
   "metadata": {
    "slideshow": {
     "slide_type": "slide"
    }
   },
   "source": [
    "### The Structure of a SQL Query"
   ]
  },
  {
   "cell_type": "markdown",
   "metadata": {
    "slideshow": {
     "slide_type": "slide"
    }
   },
   "source": [
    "<img src='img/sql_statement.jpg'/>"
   ]
  },
  {
   "cell_type": "markdown",
   "metadata": {
    "slideshow": {
     "slide_type": "slide"
    }
   },
   "source": [
    "### Constructing SQL queries"
   ]
  },
  {
   "cell_type": "markdown",
   "metadata": {
    "slideshow": {
     "slide_type": "fragment"
    }
   },
   "source": [
    "**`SELECT`**:  The columns you want\n",
    "  - options: `DISTINCT`, using `AS` to rename columns, single number aggregates"
   ]
  },
  {
   "cell_type": "markdown",
   "metadata": {
    "slideshow": {
     "slide_type": "fragment"
    }
   },
   "source": [
    "**`FROM`:** the source tables\n",
    "  - options: also uses aliasing with `AS`; joining with `[LEFT|INNER|RIGHT|FULL] JOIN ___ [ON|USING]`"
   ]
  },
  {
   "cell_type": "markdown",
   "metadata": {
    "slideshow": {
     "slide_type": "fragment"
    }
   },
   "source": [
    "**`WHERE`**: your filters\n",
    "  - options: comparators like `=` & `>=`; `BETWEEN`, `IN`, `LIKE` (with wildcards `%`); booleans like `AND`, `OR`, `NOT`"
   ]
  },
  {
   "cell_type": "markdown",
   "metadata": {
    "slideshow": {
     "slide_type": "fragment"
    }
   },
   "source": [
    "**`ORDER BY`**: sorting\n",
    "  - options: `ASC` (default) and `DESC`"
   ]
  },
  {
   "cell_type": "markdown",
   "metadata": {
    "slideshow": {
     "slide_type": "fragment"
    }
   },
   "source": [
    "**`LIMIT`**:  # of rows to return (pair with `OFFSET`)"
   ]
  },
  {
   "cell_type": "markdown",
   "metadata": {
    "slideshow": {
     "slide_type": "slide"
    }
   },
   "source": [
    "**Task**: \n",
    "- Select only active airlines in the UK from the airlines table\n",
    "- Select the unique list of countries with airports"
   ]
  },
  {
   "cell_type": "code",
   "execution_count": 42,
   "metadata": {},
   "outputs": [
    {
     "data": {
      "text/plain": [
       "[('AD Aviation',),\n",
       " ('Air Cudlua',),\n",
       " ('Air Foyle',),\n",
       " ('Air Southwest',),\n",
       " ('Air Wales',),\n",
       " ('All Europe',),\n",
       " ('Astraeus',),\n",
       " ('Aurigny Air Services',),\n",
       " ('BA CityFlyer',),\n",
       " ('BBN-Airways',),\n",
       " ('bmi',),\n",
       " ('bmibaby',),\n",
       " ('British Airways',),\n",
       " ('British International Helicopters',),\n",
       " ('British Mediterranean Airways',),\n",
       " ('British Midland Regional',),\n",
       " ('CB Airways UK ( Interliging Flights )',),\n",
       " ('Crest Aviation',),\n",
       " ('Eastern Airways',),\n",
       " ('easyJet',),\n",
       " ('Excel Airways',),\n",
       " ('Excel Charter',),\n",
       " ('First Choice Airways',),\n",
       " ('Flightline',),\n",
       " ('Flybe',),\n",
       " ('Flyglobespan',),\n",
       " ('GB Airways',),\n",
       " ('Highland Airways',),\n",
       " ('Jc royal.britannica',),\n",
       " ('Jet2.com',),\n",
       " ('Kinloss Flying Training Unit',),\n",
       " ('Monarch Airlines',),\n",
       " ('MyTravel Airways',),\n",
       " ('Norfolk County Flight College',),\n",
       " ('Rainbow Air Euro',),\n",
       " ('Royal European Airlines',),\n",
       " ('ScotAirways',),\n",
       " ('Thomas Cook Airlines',),\n",
       " ('Thomsonfly',),\n",
       " ('Virgin Atlantic Airways',)]"
      ]
     },
     "execution_count": 42,
     "metadata": {},
     "output_type": "execute_result"
    }
   ],
   "source": [
    "cursor.execute(\"\"\"SELECT name\n",
    "FROM airlines \n",
    "WHERE active = 'Y' \n",
    "AND country = 'United Kingdom'\n",
    "ORDER BY lower(name)\n",
    "\"\"\")\n",
    "cursor.fetchall()"
   ]
  },
  {
   "cell_type": "code",
   "execution_count": 43,
   "metadata": {},
   "outputs": [
    {
     "name": "stdout",
     "output_type": "stream",
     "text": [
      "('Afghanistan',)\n",
      "('Albania',)\n",
      "('Algeria',)\n",
      "('American Samoa',)\n",
      "('Angola',)\n",
      "('Anguilla',)\n",
      "('Antarctica',)\n",
      "('Antigua and Barbuda',)\n",
      "('Argentina',)\n",
      "('Armenia',)\n",
      "('Aruba',)\n",
      "('Australia',)\n",
      "('Austria',)\n",
      "('Azerbaijan',)\n",
      "('Bahamas',)\n",
      "('Bahrain',)\n",
      "('Bangladesh',)\n",
      "('Barbados',)\n",
      "('Belarus',)\n",
      "('Belgium',)\n",
      "('Belize',)\n",
      "('Benin',)\n",
      "('Bermuda',)\n",
      "('Bhutan',)\n",
      "('Bolivia',)\n",
      "('Bosnia and Herzegovina',)\n",
      "('Botswana',)\n",
      "('Brazil',)\n",
      "('British Indian Ocean Territory',)\n",
      "('British Virgin Islands',)\n",
      "('Brunei',)\n",
      "('Bulgaria',)\n",
      "('Burkina Faso',)\n",
      "('Burma',)\n",
      "('Burundi',)\n",
      "('Cambodia',)\n",
      "('Cameroon',)\n",
      "('Canada',)\n",
      "('Cape Verde',)\n",
      "('Cayman Islands',)\n",
      "('Central African Republic',)\n",
      "('Chad',)\n",
      "('Chile',)\n",
      "('China',)\n",
      "('Christmas Island',)\n",
      "('Cocos (Keeling) Islands',)\n",
      "('Colombia',)\n",
      "('Comoros',)\n",
      "('Congo (Brazzaville)',)\n",
      "('Congo (Kinshasa)',)\n",
      "('Cook Islands',)\n",
      "('Costa Rica',)\n",
      "(\"Cote d'Ivoire\",)\n",
      "('Croatia',)\n",
      "('Cuba',)\n",
      "('Cyprus',)\n",
      "('Czech Republic',)\n",
      "('Denmark',)\n",
      "('Djibouti',)\n",
      "('Dominica',)\n",
      "('Dominican Republic',)\n",
      "('East Timor',)\n",
      "('Ecuador',)\n",
      "('Egypt',)\n",
      "('El Salvador',)\n",
      "('Equatorial Guinea',)\n",
      "('Eritrea',)\n",
      "('Estonia',)\n",
      "('Ethiopia',)\n",
      "('Falkland Islands',)\n",
      "('Faroe Islands',)\n",
      "('Fiji',)\n",
      "('Finland',)\n",
      "('France',)\n",
      "('French Guiana',)\n",
      "('French Polynesia',)\n",
      "('Gabon',)\n",
      "('Gambia',)\n",
      "('Georgia',)\n",
      "('Germany',)\n",
      "('Ghana',)\n",
      "('Gibraltar',)\n",
      "('Greece',)\n",
      "('Greenland',)\n",
      "('Grenada',)\n",
      "('Guadeloupe',)\n",
      "('Guam',)\n",
      "('Guatemala',)\n",
      "('Guernsey',)\n",
      "('Guinea',)\n",
      "('Guinea-Bissau',)\n",
      "('Guyana',)\n",
      "('Haiti',)\n",
      "('Honduras',)\n",
      "('Hong Kong',)\n",
      "('Hungary',)\n",
      "('Iceland',)\n",
      "('India',)\n",
      "('Indonesia',)\n",
      "('Iran',)\n",
      "('Iraq',)\n",
      "('Ireland',)\n",
      "('Isle of Man',)\n",
      "('Israel',)\n",
      "('Italy',)\n",
      "('Jamaica',)\n",
      "('Japan',)\n",
      "('Jersey',)\n",
      "('Johnston Atoll',)\n",
      "('Jordan',)\n",
      "('Kazakhstan',)\n",
      "('Kenya',)\n",
      "('Kiribati',)\n",
      "('Korea',)\n",
      "('Kuwait',)\n",
      "('Kyrgyzstan',)\n",
      "('Laos',)\n",
      "('Latvia',)\n",
      "('Lebanon',)\n",
      "('Lesotho',)\n",
      "('Liberia',)\n",
      "('Libya',)\n",
      "('Lithuania',)\n",
      "('Luxembourg',)\n",
      "('Macau',)\n",
      "('Macedonia',)\n",
      "('Madagascar',)\n",
      "('Malawi',)\n",
      "('Malaysia',)\n",
      "('Maldives',)\n",
      "('Mali',)\n",
      "('Malta',)\n",
      "('Marshall Islands',)\n",
      "('Martinique',)\n",
      "('Mauritania',)\n",
      "('Mauritius',)\n",
      "('Mayotte',)\n",
      "('Mexico',)\n",
      "('Micronesia',)\n",
      "('Midway Islands',)\n",
      "('Moldova',)\n",
      "('Monaco',)\n",
      "('Mongolia',)\n",
      "('Montenegro',)\n",
      "('Montserrat',)\n",
      "('Morocco',)\n",
      "('Mozambique',)\n",
      "('Myanmar',)\n",
      "('Namibia',)\n",
      "('Nauru',)\n",
      "('Nepal',)\n",
      "('Netherlands',)\n",
      "('Netherlands Antilles',)\n",
      "('New Caledonia',)\n",
      "('New Zealand',)\n",
      "('Nicaragua',)\n",
      "('Niger',)\n",
      "('Nigeria',)\n",
      "('Niue',)\n",
      "('Norfolk Island',)\n",
      "('North Korea',)\n",
      "('Northern Mariana Islands',)\n",
      "('Norway',)\n",
      "('Oman',)\n",
      "('Pakistan',)\n",
      "('Palau',)\n",
      "('Palestine',)\n",
      "('Panama',)\n",
      "('Papua New Guinea',)\n",
      "('Paraguay',)\n",
      "('Peru',)\n",
      "('Philippines',)\n",
      "('Poland',)\n",
      "('Portugal',)\n",
      "('Puerto Rico',)\n",
      "('Qatar',)\n",
      "('Reunion',)\n",
      "('Romania',)\n",
      "('Russia',)\n",
      "('Rwanda',)\n",
      "('Saint Helena',)\n",
      "('Saint Kitts and Nevis',)\n",
      "('Saint Lucia',)\n",
      "('Saint Pierre and Miquelon',)\n",
      "('Saint Vincent and the Grenadines',)\n",
      "('Samoa',)\n",
      "('Sao Tome and Principe',)\n",
      "('Saudi Arabia',)\n",
      "('Senegal',)\n",
      "('Serbia',)\n",
      "('Seychelles',)\n",
      "('Sierra Leone',)\n",
      "('Singapore',)\n",
      "('Slovakia',)\n",
      "('Slovenia',)\n",
      "('Solomon Islands',)\n",
      "('Somalia',)\n",
      "('South Africa',)\n",
      "('South Georgia and the Islands',)\n",
      "('South Korea',)\n",
      "('South Sudan',)\n",
      "('Spain',)\n",
      "('Sri Lanka',)\n",
      "('Sudan',)\n",
      "('Suriname',)\n",
      "('Svalbard',)\n",
      "('Swaziland',)\n",
      "('Sweden',)\n",
      "('Switzerland',)\n",
      "('Syria',)\n",
      "('Taiwan',)\n",
      "('Tajikistan',)\n",
      "('Tanzania',)\n",
      "('Thailand',)\n",
      "('Togo',)\n",
      "('Tonga',)\n",
      "('Trinidad and Tobago',)\n",
      "('Tunisia',)\n",
      "('Turkey',)\n",
      "('Turkmenistan',)\n",
      "('Turks and Caicos Islands',)\n",
      "('Tuvalu',)\n",
      "('Uganda',)\n",
      "('Ukraine',)\n",
      "('United Arab Emirates',)\n",
      "('United Kingdom',)\n",
      "('United States',)\n",
      "('Uruguay',)\n",
      "('Uzbekistan',)\n",
      "('Vanuatu',)\n",
      "('Venezuela',)\n",
      "('Vietnam',)\n",
      "('Virgin Islands',)\n",
      "('Wake Island',)\n",
      "('Wallis and Futuna',)\n",
      "('West Bank',)\n",
      "('Western Sahara',)\n",
      "('Yemen',)\n",
      "('Zambia',)\n",
      "('Zimbabwe',)\n"
     ]
    }
   ],
   "source": [
    "# Select the unique list of countries with airports\n",
    "# method 1: use DISTINCT\n",
    "cursor.execute(\"\"\"SELECT DISTINCT(country)\n",
    "FROM airports\n",
    "ORDER BY 1\n",
    "\"\"\")\n",
    "print(*cursor.fetchall(), sep = '\\n')\n",
    "# The trailing , in result is Python showing the tuple only has 1 element. "
   ]
  },
  {
   "cell_type": "code",
   "execution_count": null,
   "metadata": {},
   "outputs": [],
   "source": [
    "# method 2: use GROUP BY\n",
    "cursor.execute(\"\"\"SELECT country\n",
    "FROM airports\n",
    "GROUP BY 1\n",
    "ORDER BY 1\n",
    "\"\"\")\n",
    "print(*cursor.fetchall(), sep = '\\n')"
   ]
  },
  {
   "cell_type": "code",
   "execution_count": 44,
   "metadata": {},
   "outputs": [
    {
     "name": "stdout",
     "output_type": "stream",
     "text": [
      "('Afghanistan', 21)\n",
      "('Albania', 1)\n",
      "('Algeria', 44)\n",
      "('American Samoa', 3)\n",
      "('Angola', 26)\n",
      "('Anguilla', 1)\n",
      "('Antarctica', 19)\n",
      "('Antigua and Barbuda', 2)\n",
      "('Argentina', 103)\n",
      "('Armenia', 4)\n",
      "('Aruba', 1)\n",
      "('Australia', 263)\n",
      "('Austria', 29)\n",
      "('Azerbaijan', 11)\n",
      "('Bahamas', 37)\n",
      "('Bahrain', 2)\n",
      "('Bangladesh', 13)\n",
      "('Barbados', 1)\n",
      "('Belarus', 9)\n",
      "('Belgium', 34)\n",
      "('Belize', 12)\n",
      "('Benin', 1)\n",
      "('Bermuda', 2)\n",
      "('Bhutan', 1)\n",
      "('Bolivia', 27)\n",
      "('Bosnia and Herzegovina', 4)\n",
      "('Botswana', 29)\n",
      "('Brazil', 213)\n",
      "('British Indian Ocean Territory', 1)\n",
      "('British Virgin Islands', 2)\n",
      "('Brunei', 3)\n",
      "('Bulgaria', 7)\n",
      "('Burkina Faso', 2)\n",
      "('Burma', 43)\n",
      "('Burundi', 1)\n",
      "('Cambodia', 13)\n",
      "('Cameroon', 10)\n",
      "('Canada', 435)\n",
      "('Cape Verde', 7)\n",
      "('Cayman Islands', 3)\n",
      "('Central African Republic', 3)\n",
      "('Chad', 7)\n",
      "('Chile', 38)\n",
      "('China', 219)\n",
      "('Christmas Island', 1)\n",
      "('Cocos (Keeling) Islands', 1)\n",
      "('Colombia', 72)\n",
      "('Comoros', 4)\n",
      "('Congo (Brazzaville)', 3)\n",
      "('Congo (Kinshasa)', 36)\n",
      "('Cook Islands', 8)\n",
      "('Costa Rica', 29)\n",
      "(\"Cote d'Ivoire\", 7)\n",
      "('Croatia', 14)\n",
      "('Cuba', 30)\n",
      "('Cyprus', 5)\n",
      "('Czech Republic', 27)\n",
      "('Denmark', 28)\n",
      "('Djibouti', 3)\n",
      "('Dominica', 3)\n",
      "('Dominican Republic', 14)\n",
      "('East Timor', 3)\n",
      "('Ecuador', 38)\n",
      "('Egypt', 25)\n",
      "('El Salvador', 2)\n",
      "('Equatorial Guinea', 2)\n",
      "('Eritrea', 3)\n",
      "('Estonia', 9)\n",
      "('Ethiopia', 32)\n",
      "('Falkland Islands', 5)\n",
      "('Faroe Islands', 3)\n",
      "('Fiji', 17)\n",
      "('Finland', 51)\n",
      "('France', 233)\n",
      "('French Guiana', 22)\n",
      "('French Polynesia', 36)\n",
      "('Gabon', 14)\n",
      "('Gambia', 1)\n",
      "('Georgia', 5)\n",
      "('Germany', 321)\n",
      "('Ghana', 6)\n",
      "('Gibraltar', 1)\n",
      "('Greece', 60)\n",
      "('Greenland', 29)\n",
      "('Grenada', 3)\n",
      "('Guadeloupe', 7)\n",
      "('Guam', 2)\n",
      "('Guatemala', 10)\n",
      "('Guernsey', 2)\n",
      "('Guinea', 6)\n",
      "('Guinea-Bissau', 2)\n",
      "('Guyana', 14)\n",
      "('Haiti', 14)\n",
      "('Honduras', 11)\n",
      "('Hong Kong', 13)\n",
      "('Hungary', 15)\n",
      "('Iceland', 22)\n",
      "('India', 140)\n",
      "('Indonesia', 114)\n",
      "('Iran', 81)\n",
      "('Iraq', 10)\n",
      "('Ireland', 25)\n",
      "('Isle of Man', 1)\n",
      "('Israel', 16)\n",
      "('Italy', 92)\n",
      "('Jamaica', 7)\n",
      "('Japan', 131)\n",
      "('Jersey', 1)\n",
      "('Johnston Atoll', 1)\n",
      "('Jordan', 6)\n",
      "('Kazakhstan', 28)\n",
      "('Kenya', 55)\n",
      "('Kiribati', 18)\n",
      "('Korea', 1)\n",
      "('Kuwait', 2)\n",
      "('Kyrgyzstan', 4)\n",
      "('Laos', 11)\n",
      "('Latvia', 3)\n",
      "('Lebanon', 2)\n",
      "('Lesotho', 3)\n",
      "('Liberia', 3)\n",
      "('Libya', 21)\n",
      "('Lithuania', 8)\n",
      "('Luxembourg', 1)\n",
      "('Macau', 4)\n",
      "('Macedonia', 2)\n",
      "('Madagascar', 45)\n",
      "('Malawi', 8)\n",
      "('Malaysia', 47)\n",
      "('Maldives', 42)\n",
      "('Mali', 8)\n",
      "('Malta', 8)\n",
      "('Marshall Islands', 32)\n",
      "('Martinique', 4)\n",
      "('Mauritania', 10)\n",
      "('Mauritius', 2)\n",
      "('Mayotte', 1)\n",
      "('Mexico', 94)\n",
      "('Micronesia', 5)\n",
      "('Midway Islands', 1)\n",
      "('Moldova', 3)\n",
      "('Monaco', 1)\n",
      "('Mongolia', 13)\n",
      "('Montenegro', 2)\n",
      "('Montserrat', 2)\n",
      "('Morocco', 22)\n",
      "('Mozambique', 22)\n",
      "('Myanmar', 1)\n",
      "('Namibia', 19)\n",
      "('Nauru', 1)\n",
      "('Nepal', 36)\n",
      "('Netherlands', 42)\n",
      "('Netherlands Antilles', 8)\n",
      "('New Caledonia', 11)\n",
      "('New Zealand', 56)\n",
      "('Nicaragua', 11)\n",
      "('Niger', 7)\n",
      "('Nigeria', 26)\n",
      "('Niue', 1)\n",
      "('Norfolk Island', 1)\n",
      "('North Korea', 5)\n",
      "('Northern Mariana Islands', 3)\n",
      "('Norway', 69)\n",
      "('Oman', 6)\n",
      "('Pakistan', 46)\n",
      "('Palau', 3)\n",
      "('Palestine', 1)\n",
      "('Panama', 26)\n",
      "('Papua New Guinea', 57)\n",
      "('Paraguay', 8)\n",
      "('Peru', 43)\n",
      "('Philippines', 64)\n",
      "('Poland', 34)\n",
      "('Portugal', 39)\n",
      "('Puerto Rico', 15)\n",
      "('Qatar', 3)\n",
      "('Reunion', 10)\n",
      "('Romania', 26)\n",
      "('Russia', 249)\n",
      "('Rwanda', 3)\n",
      "('Saint Helena', 1)\n",
      "('Saint Kitts and Nevis', 3)\n",
      "('Saint Lucia', 3)\n",
      "('Saint Pierre and Miquelon', 2)\n",
      "('Saint Vincent and the Grenadines', 5)\n",
      "('Samoa', 4)\n",
      "('Sao Tome and Principe', 2)\n",
      "('Saudi Arabia', 42)\n",
      "('Senegal', 9)\n",
      "('Serbia', 4)\n",
      "('Seychelles', 11)\n",
      "('Sierra Leone', 8)\n",
      "('Singapore', 6)\n",
      "('Slovakia', 10)\n",
      "('Slovenia', 5)\n",
      "('Solomon Islands', 27)\n",
      "('Somalia', 11)\n",
      "('South Africa', 103)\n",
      "('South Georgia and the Islands', 2)\n",
      "('South Korea', 31)\n",
      "('South Sudan', 2)\n",
      "('Spain', 84)\n",
      "('Sri Lanka', 15)\n",
      "('Sudan', 18)\n",
      "('Suriname', 23)\n",
      "('Svalbard', 4)\n",
      "('Swaziland', 1)\n",
      "('Sweden', 86)\n",
      "('Switzerland', 53)\n",
      "('Syria', 6)\n",
      "('Taiwan', 32)\n",
      "('Tajikistan', 5)\n",
      "('Tanzania', 27)\n",
      "('Thailand', 58)\n",
      "('Togo', 2)\n",
      "('Tonga', 6)\n",
      "('Trinidad and Tobago', 2)\n",
      "('Tunisia', 13)\n",
      "('Turkey', 77)\n",
      "('Turkmenistan', 8)\n",
      "('Turks and Caicos Islands', 6)\n",
      "('Tuvalu', 1)\n",
      "('Uganda', 9)\n",
      "('Ukraine', 33)\n",
      "('United Arab Emirates', 19)\n",
      "('United Kingdom', 210)\n",
      "('United States', 1697)\n",
      "('Uruguay', 13)\n",
      "('Uzbekistan', 12)\n",
      "('Vanuatu', 29)\n",
      "('Venezuela', 58)\n",
      "('Vietnam', 30)\n",
      "('Virgin Islands', 8)\n",
      "('Wake Island', 1)\n",
      "('Wallis and Futuna', 2)\n",
      "('West Bank', 1)\n",
      "('Western Sahara', 3)\n",
      "('Yemen', 11)\n",
      "('Zambia', 13)\n",
      "('Zimbabwe', 16)\n"
     ]
    }
   ],
   "source": [
    "cursor.execute(\"\"\"SELECT country, \n",
    "                         count(*) AS airport_count\n",
    "FROM airports\n",
    "GROUP BY 1\n",
    "ORDER BY 1\n",
    "\"\"\")\n",
    "print(*cursor.fetchall(), sep = '\\n')"
   ]
  },
  {
   "cell_type": "markdown",
   "metadata": {
    "slideshow": {
     "slide_type": "slide"
    }
   },
   "source": [
    "### SQL Joins"
   ]
  },
  {
   "cell_type": "markdown",
   "metadata": {
    "slideshow": {
     "slide_type": "fragment"
    }
   },
   "source": [
    "SQL joins can be used to both **add** data to a table and **remove** data from a table. "
   ]
  },
  {
   "cell_type": "markdown",
   "metadata": {
    "slideshow": {
     "slide_type": "fragment"
    }
   },
   "source": [
    "<img src=\"img/venn.png\" width=550>"
   ]
  },
  {
   "cell_type": "markdown",
   "metadata": {
    "slideshow": {
     "slide_type": "slide"
    }
   },
   "source": [
    "**Task** Write a query that will join the latitude and longitude data from the airports table to the information on the routes table"
   ]
  },
  {
   "cell_type": "code",
   "execution_count": 45,
   "metadata": {
    "slideshow": {
     "slide_type": "skip"
    }
   },
   "outputs": [
    {
     "name": "stdout",
     "output_type": "stream",
     "text": [
      "(0, '2B', '410', 'AER', '2965', 'KZN', '2990', None, '0', 'CR2', '43.449928', '39.956589')\n",
      "(1, '2B', '410', 'ASF', '2966', 'KZN', '2990', None, '0', 'CR2', '46.283333', '48.006278')\n",
      "(2, '2B', '410', 'ASF', '2966', 'MRV', '2962', None, '0', 'CR2', '46.283333', '48.006278')\n",
      "(3, '2B', '410', 'CEK', '2968', 'KZN', '2990', None, '0', 'CR2', '55.305836', '61.503333')\n",
      "(4, '2B', '410', 'CEK', '2968', 'OVB', '4078', None, '0', 'CR2', '55.305836', '61.503333')\n",
      "(5, '2B', '410', 'DME', '4029', 'KZN', '2990', None, '0', 'CR2', '55.408611', '37.906111')\n",
      "(6, '2B', '410', 'DME', '4029', 'NBC', '6969', None, '0', 'CR2', '55.408611', '37.906111')\n",
      "(7, '2B', '410', 'DME', '4029', 'TGK', '\\\\N', None, '0', 'CR2', '55.408611', '37.906111')\n",
      "(8, '2B', '410', 'DME', '4029', 'UUA', '6160', None, '0', 'CR2', '55.408611', '37.906111')\n",
      "(9, '2B', '410', 'EGO', '6156', 'KGD', '2952', None, '0', 'CR2', '50.6438', '36.5901')\n"
     ]
    }
   ],
   "source": [
    "cursor.execute(\"\"\"\n",
    "SELECT r.*, a.latitude AS source_lat, a.longitude AS source_long\n",
    "FROM routes r\n",
    "JOIN airports a\n",
    "ON r.source_id = a.id\n",
    "\"\"\")\n",
    "print(*cursor.fetchmany(10), sep='\\n')"
   ]
  },
  {
   "cell_type": "code",
   "execution_count": 46,
   "metadata": {},
   "outputs": [
    {
     "name": "stdout",
     "output_type": "stream",
     "text": [
      "(0, '2B', '410', 'AER', '2965', 'KZN', '2990', None, '0', 'CR2', '43.449928', '39.956589', '55.606186', '49.278728')\n",
      "(1, '2B', '410', 'ASF', '2966', 'KZN', '2990', None, '0', 'CR2', '46.283333', '48.006278', '55.606186', '49.278728')\n",
      "(2, '2B', '410', 'ASF', '2966', 'MRV', '2962', None, '0', 'CR2', '46.283333', '48.006278', '44.225072', '43.081889')\n",
      "(3, '2B', '410', 'CEK', '2968', 'KZN', '2990', None, '0', 'CR2', '55.305836', '61.503333', '55.606186', '49.278728')\n",
      "(4, '2B', '410', 'CEK', '2968', 'OVB', '4078', None, '0', 'CR2', '55.305836', '61.503333', '55.012622', '82.650656')\n",
      "(5, '2B', '410', 'DME', '4029', 'KZN', '2990', None, '0', 'CR2', '55.408611', '37.906111', '55.606186', '49.278728')\n",
      "(6, '2B', '410', 'DME', '4029', 'NBC', '6969', None, '0', 'CR2', '55.408611', '37.906111', '55.34', '52.06')\n",
      "(8, '2B', '410', 'DME', '4029', 'UUA', '6160', None, '0', 'CR2', '55.408611', '37.906111', '54.64', '52.8017')\n",
      "(9, '2B', '410', 'EGO', '6156', 'KGD', '2952', None, '0', 'CR2', '50.6438', '36.5901', '54.89005', '20.592633')\n",
      "(10, '2B', '410', 'EGO', '6156', 'KZN', '2990', None, '0', 'CR2', '50.6438', '36.5901', '55.606186', '49.278728')\n"
     ]
    }
   ],
   "source": [
    "cursor.execute(\"\"\"\n",
    "SELECT r.*, \n",
    "\tsource.latitude AS source_lat, \n",
    "\tsource.longitude AS source_long, \n",
    "\tdest.latitude AS dest_lat,\n",
    "\tdest.longitude AS dest_long\n",
    "FROM routes r\n",
    "JOIN airports source ON r.source_id = source.id\n",
    "JOIN airports dest ON r.dest_id = dest.id\n",
    "\"\"\")\n",
    "print(*cursor.fetchmany(10), sep='\\n')"
   ]
  },
  {
   "cell_type": "markdown",
   "metadata": {
    "slideshow": {
     "slide_type": "slide"
    }
   },
   "source": [
    "### Grouping statements\n",
    "\n",
    "Combines `select` and `group by` when you want aggregates by values"
   ]
  },
  {
   "cell_type": "markdown",
   "metadata": {
    "slideshow": {
     "slide_type": "fragment"
    }
   },
   "source": [
    "`select` `min(x)` ... `max()`, `sum()`, etc"
   ]
  },
  {
   "cell_type": "markdown",
   "metadata": {
    "slideshow": {
     "slide_type": "fragment"
    }
   },
   "source": [
    "`group by x`"
   ]
  },
  {
   "cell_type": "markdown",
   "metadata": {
    "slideshow": {
     "slide_type": "slide"
    }
   },
   "source": [
    "**Task**<br>\n",
    "- Which countries have the highest amount of active airlines?\n",
    "- Which countries have the highest amount of inactive airlines?\n",
    "- What about airports by timezones?"
   ]
  },
  {
   "cell_type": "code",
   "execution_count": null,
   "metadata": {
    "slideshow": {
     "slide_type": "skip"
    }
   },
   "outputs": [],
   "source": [
    "# Which countries have the highest amount of active airports?\n",
    "cursor.execute(\"\"\"\n",
    "-- your code here;\n",
    "\"\"\")\n",
    "print(*cursor.fetchall(), sep='\\n')"
   ]
  },
  {
   "cell_type": "code",
   "execution_count": null,
   "metadata": {
    "slideshow": {
     "slide_type": "skip"
    }
   },
   "outputs": [],
   "source": [
    "# Which countries have the highest amount of inactive airports?\n",
    "cursor.execute(\"\"\"\n",
    "-- your code here;\n",
    "\"\"\")\n",
    "print(*cursor.fetchall(), sep='\\n')"
   ]
  },
  {
   "cell_type": "code",
   "execution_count": null,
   "metadata": {
    "slideshow": {
     "slide_type": "skip"
    }
   },
   "outputs": [],
   "source": [
    "# What about airports by timezones?\n",
    "cursor.execute(\"\"\"\n",
    "-- your code here;\"\"\")\n",
    "print(*cursor.fetchall(), sep='\\n')"
   ]
  },
  {
   "cell_type": "code",
   "execution_count": null,
   "metadata": {},
   "outputs": [],
   "source": [
    "# It's always a good idea to close our connections when we're done\n",
    "cursor.close()\n",
    "con.close()"
   ]
  },
  {
   "cell_type": "markdown",
   "metadata": {
    "slideshow": {
     "slide_type": "slide"
    }
   },
   "source": [
    "## Goal 5: Transfering from sqlite to pandas"
   ]
  },
  {
   "cell_type": "code",
   "execution_count": 47,
   "metadata": {},
   "outputs": [],
   "source": [
    "import pandas as pd"
   ]
  },
  {
   "cell_type": "code",
   "execution_count": 49,
   "metadata": {
    "slideshow": {
     "slide_type": "fragment"
    }
   },
   "outputs": [
    {
     "data": {
      "text/html": [
       "<div>\n",
       "<style scoped>\n",
       "    .dataframe tbody tr th:only-of-type {\n",
       "        vertical-align: middle;\n",
       "    }\n",
       "\n",
       "    .dataframe tbody tr th {\n",
       "        vertical-align: top;\n",
       "    }\n",
       "\n",
       "    .dataframe thead th {\n",
       "        text-align: right;\n",
       "    }\n",
       "</style>\n",
       "<table border=\"1\" class=\"dataframe\">\n",
       "  <thead>\n",
       "    <tr style=\"text-align: right;\">\n",
       "      <th></th>\n",
       "      <th>index</th>\n",
       "      <th>id</th>\n",
       "      <th>name</th>\n",
       "      <th>city</th>\n",
       "      <th>country</th>\n",
       "      <th>code</th>\n",
       "      <th>icao</th>\n",
       "      <th>latitude</th>\n",
       "      <th>longitude</th>\n",
       "      <th>altitude</th>\n",
       "      <th>offset</th>\n",
       "      <th>dst</th>\n",
       "      <th>timezone</th>\n",
       "    </tr>\n",
       "  </thead>\n",
       "  <tbody>\n",
       "    <tr>\n",
       "      <th>0</th>\n",
       "      <td>0</td>\n",
       "      <td>1</td>\n",
       "      <td>Goroka</td>\n",
       "      <td>Goroka</td>\n",
       "      <td>Papua New Guinea</td>\n",
       "      <td>GKA</td>\n",
       "      <td>AYGA</td>\n",
       "      <td>-6.081689</td>\n",
       "      <td>145.391881</td>\n",
       "      <td>5282</td>\n",
       "      <td>10</td>\n",
       "      <td>U</td>\n",
       "      <td>Pacific/Port_Moresby</td>\n",
       "    </tr>\n",
       "    <tr>\n",
       "      <th>1</th>\n",
       "      <td>1</td>\n",
       "      <td>2</td>\n",
       "      <td>Madang</td>\n",
       "      <td>Madang</td>\n",
       "      <td>Papua New Guinea</td>\n",
       "      <td>MAG</td>\n",
       "      <td>AYMD</td>\n",
       "      <td>-5.207083</td>\n",
       "      <td>145.7887</td>\n",
       "      <td>20</td>\n",
       "      <td>10</td>\n",
       "      <td>U</td>\n",
       "      <td>Pacific/Port_Moresby</td>\n",
       "    </tr>\n",
       "    <tr>\n",
       "      <th>2</th>\n",
       "      <td>2</td>\n",
       "      <td>3</td>\n",
       "      <td>Mount Hagen</td>\n",
       "      <td>Mount Hagen</td>\n",
       "      <td>Papua New Guinea</td>\n",
       "      <td>HGU</td>\n",
       "      <td>AYMH</td>\n",
       "      <td>-5.826789</td>\n",
       "      <td>144.295861</td>\n",
       "      <td>5388</td>\n",
       "      <td>10</td>\n",
       "      <td>U</td>\n",
       "      <td>Pacific/Port_Moresby</td>\n",
       "    </tr>\n",
       "    <tr>\n",
       "      <th>3</th>\n",
       "      <td>3</td>\n",
       "      <td>4</td>\n",
       "      <td>Nadzab</td>\n",
       "      <td>Nadzab</td>\n",
       "      <td>Papua New Guinea</td>\n",
       "      <td>LAE</td>\n",
       "      <td>AYNZ</td>\n",
       "      <td>-6.569828</td>\n",
       "      <td>146.726242</td>\n",
       "      <td>239</td>\n",
       "      <td>10</td>\n",
       "      <td>U</td>\n",
       "      <td>Pacific/Port_Moresby</td>\n",
       "    </tr>\n",
       "    <tr>\n",
       "      <th>4</th>\n",
       "      <td>4</td>\n",
       "      <td>5</td>\n",
       "      <td>Port Moresby Jacksons Intl</td>\n",
       "      <td>Port Moresby</td>\n",
       "      <td>Papua New Guinea</td>\n",
       "      <td>POM</td>\n",
       "      <td>AYPY</td>\n",
       "      <td>-9.443383</td>\n",
       "      <td>147.22005</td>\n",
       "      <td>146</td>\n",
       "      <td>10</td>\n",
       "      <td>U</td>\n",
       "      <td>Pacific/Port_Moresby</td>\n",
       "    </tr>\n",
       "  </tbody>\n",
       "</table>\n",
       "</div>"
      ],
      "text/plain": [
       "   index id                        name          city           country code  \\\n",
       "0      0  1                      Goroka        Goroka  Papua New Guinea  GKA   \n",
       "1      1  2                      Madang        Madang  Papua New Guinea  MAG   \n",
       "2      2  3                 Mount Hagen   Mount Hagen  Papua New Guinea  HGU   \n",
       "3      3  4                      Nadzab        Nadzab  Papua New Guinea  LAE   \n",
       "4      4  5  Port Moresby Jacksons Intl  Port Moresby  Papua New Guinea  POM   \n",
       "\n",
       "   icao   latitude   longitude altitude offset dst              timezone  \n",
       "0  AYGA  -6.081689  145.391881     5282     10   U  Pacific/Port_Moresby  \n",
       "1  AYMD  -5.207083    145.7887       20     10   U  Pacific/Port_Moresby  \n",
       "2  AYMH  -5.826789  144.295861     5388     10   U  Pacific/Port_Moresby  \n",
       "3  AYNZ  -6.569828  146.726242      239     10   U  Pacific/Port_Moresby  \n",
       "4  AYPY  -9.443383   147.22005      146     10   U  Pacific/Port_Moresby  "
      ]
     },
     "execution_count": 49,
     "metadata": {},
     "output_type": "execute_result"
    }
   ],
   "source": [
    "pd_con = sqlite3.connect(\"data/flights.db\")\n",
    "df = pd.read_sql_query(\"select * from airports limit 5;\", pd_con)\n",
    "df"
   ]
  },
  {
   "cell_type": "markdown",
   "metadata": {
    "slideshow": {
     "slide_type": "slide"
    }
   },
   "source": [
    "**Task**: \n",
    "Convert one of the earlier queries in the lesson to a pandas data frame"
   ]
  },
  {
   "cell_type": "code",
   "execution_count": 51,
   "metadata": {},
   "outputs": [],
   "source": [
    "# Which countries have the highest amount of active airports?\n",
    "df = pd.read_sql_query('''SELECT r.*, \n",
    "\tsource.latitude AS source_lat, \n",
    "\tsource.longitude AS source_long, \n",
    "\tdest.latitude AS dest_lat,\n",
    "\tdest.longitude AS dest_long\n",
    "FROM routes r\n",
    "JOIN airports source ON r.source_id = source.id\n",
    "JOIN airports dest ON r.dest_id = dest.id\n",
    "''', pd_con)"
   ]
  },
  {
   "cell_type": "code",
   "execution_count": 52,
   "metadata": {},
   "outputs": [
    {
     "data": {
      "text/html": [
       "<div>\n",
       "<style scoped>\n",
       "    .dataframe tbody tr th:only-of-type {\n",
       "        vertical-align: middle;\n",
       "    }\n",
       "\n",
       "    .dataframe tbody tr th {\n",
       "        vertical-align: top;\n",
       "    }\n",
       "\n",
       "    .dataframe thead th {\n",
       "        text-align: right;\n",
       "    }\n",
       "</style>\n",
       "<table border=\"1\" class=\"dataframe\">\n",
       "  <thead>\n",
       "    <tr style=\"text-align: right;\">\n",
       "      <th></th>\n",
       "      <th>index</th>\n",
       "      <th>airline</th>\n",
       "      <th>airline_id</th>\n",
       "      <th>source</th>\n",
       "      <th>source_id</th>\n",
       "      <th>dest</th>\n",
       "      <th>dest_id</th>\n",
       "      <th>codeshare</th>\n",
       "      <th>stops</th>\n",
       "      <th>equipment</th>\n",
       "      <th>source_lat</th>\n",
       "      <th>source_long</th>\n",
       "      <th>dest_lat</th>\n",
       "      <th>dest_long</th>\n",
       "    </tr>\n",
       "  </thead>\n",
       "  <tbody>\n",
       "    <tr>\n",
       "      <th>0</th>\n",
       "      <td>0</td>\n",
       "      <td>2B</td>\n",
       "      <td>410</td>\n",
       "      <td>AER</td>\n",
       "      <td>2965</td>\n",
       "      <td>KZN</td>\n",
       "      <td>2990</td>\n",
       "      <td>None</td>\n",
       "      <td>0</td>\n",
       "      <td>CR2</td>\n",
       "      <td>43.449928</td>\n",
       "      <td>39.956589</td>\n",
       "      <td>55.606186</td>\n",
       "      <td>49.278728</td>\n",
       "    </tr>\n",
       "    <tr>\n",
       "      <th>1</th>\n",
       "      <td>1</td>\n",
       "      <td>2B</td>\n",
       "      <td>410</td>\n",
       "      <td>ASF</td>\n",
       "      <td>2966</td>\n",
       "      <td>KZN</td>\n",
       "      <td>2990</td>\n",
       "      <td>None</td>\n",
       "      <td>0</td>\n",
       "      <td>CR2</td>\n",
       "      <td>46.283333</td>\n",
       "      <td>48.006278</td>\n",
       "      <td>55.606186</td>\n",
       "      <td>49.278728</td>\n",
       "    </tr>\n",
       "    <tr>\n",
       "      <th>2</th>\n",
       "      <td>2</td>\n",
       "      <td>2B</td>\n",
       "      <td>410</td>\n",
       "      <td>ASF</td>\n",
       "      <td>2966</td>\n",
       "      <td>MRV</td>\n",
       "      <td>2962</td>\n",
       "      <td>None</td>\n",
       "      <td>0</td>\n",
       "      <td>CR2</td>\n",
       "      <td>46.283333</td>\n",
       "      <td>48.006278</td>\n",
       "      <td>44.225072</td>\n",
       "      <td>43.081889</td>\n",
       "    </tr>\n",
       "    <tr>\n",
       "      <th>3</th>\n",
       "      <td>3</td>\n",
       "      <td>2B</td>\n",
       "      <td>410</td>\n",
       "      <td>CEK</td>\n",
       "      <td>2968</td>\n",
       "      <td>KZN</td>\n",
       "      <td>2990</td>\n",
       "      <td>None</td>\n",
       "      <td>0</td>\n",
       "      <td>CR2</td>\n",
       "      <td>55.305836</td>\n",
       "      <td>61.503333</td>\n",
       "      <td>55.606186</td>\n",
       "      <td>49.278728</td>\n",
       "    </tr>\n",
       "    <tr>\n",
       "      <th>4</th>\n",
       "      <td>4</td>\n",
       "      <td>2B</td>\n",
       "      <td>410</td>\n",
       "      <td>CEK</td>\n",
       "      <td>2968</td>\n",
       "      <td>OVB</td>\n",
       "      <td>4078</td>\n",
       "      <td>None</td>\n",
       "      <td>0</td>\n",
       "      <td>CR2</td>\n",
       "      <td>55.305836</td>\n",
       "      <td>61.503333</td>\n",
       "      <td>55.012622</td>\n",
       "      <td>82.650656</td>\n",
       "    </tr>\n",
       "    <tr>\n",
       "      <th>...</th>\n",
       "      <td>...</td>\n",
       "      <td>...</td>\n",
       "      <td>...</td>\n",
       "      <td>...</td>\n",
       "      <td>...</td>\n",
       "      <td>...</td>\n",
       "      <td>...</td>\n",
       "      <td>...</td>\n",
       "      <td>...</td>\n",
       "      <td>...</td>\n",
       "      <td>...</td>\n",
       "      <td>...</td>\n",
       "      <td>...</td>\n",
       "      <td>...</td>\n",
       "    </tr>\n",
       "    <tr>\n",
       "      <th>67197</th>\n",
       "      <td>67658</td>\n",
       "      <td>ZL</td>\n",
       "      <td>4178</td>\n",
       "      <td>WYA</td>\n",
       "      <td>6334</td>\n",
       "      <td>ADL</td>\n",
       "      <td>3341</td>\n",
       "      <td>None</td>\n",
       "      <td>0</td>\n",
       "      <td>SF3</td>\n",
       "      <td>-33.0589</td>\n",
       "      <td>137.514</td>\n",
       "      <td>-34.945</td>\n",
       "      <td>138.530556</td>\n",
       "    </tr>\n",
       "    <tr>\n",
       "      <th>67198</th>\n",
       "      <td>67659</td>\n",
       "      <td>ZM</td>\n",
       "      <td>19016</td>\n",
       "      <td>DME</td>\n",
       "      <td>4029</td>\n",
       "      <td>FRU</td>\n",
       "      <td>2912</td>\n",
       "      <td>None</td>\n",
       "      <td>0</td>\n",
       "      <td>734</td>\n",
       "      <td>55.408611</td>\n",
       "      <td>37.906111</td>\n",
       "      <td>43.061306</td>\n",
       "      <td>74.477556</td>\n",
       "    </tr>\n",
       "    <tr>\n",
       "      <th>67199</th>\n",
       "      <td>67660</td>\n",
       "      <td>ZM</td>\n",
       "      <td>19016</td>\n",
       "      <td>FRU</td>\n",
       "      <td>2912</td>\n",
       "      <td>DME</td>\n",
       "      <td>4029</td>\n",
       "      <td>None</td>\n",
       "      <td>0</td>\n",
       "      <td>734</td>\n",
       "      <td>43.061306</td>\n",
       "      <td>74.477556</td>\n",
       "      <td>55.408611</td>\n",
       "      <td>37.906111</td>\n",
       "    </tr>\n",
       "    <tr>\n",
       "      <th>67200</th>\n",
       "      <td>67661</td>\n",
       "      <td>ZM</td>\n",
       "      <td>19016</td>\n",
       "      <td>FRU</td>\n",
       "      <td>2912</td>\n",
       "      <td>OSS</td>\n",
       "      <td>2913</td>\n",
       "      <td>None</td>\n",
       "      <td>0</td>\n",
       "      <td>734</td>\n",
       "      <td>43.061306</td>\n",
       "      <td>74.477556</td>\n",
       "      <td>40.608989</td>\n",
       "      <td>72.793269</td>\n",
       "    </tr>\n",
       "    <tr>\n",
       "      <th>67201</th>\n",
       "      <td>67662</td>\n",
       "      <td>ZM</td>\n",
       "      <td>19016</td>\n",
       "      <td>OSS</td>\n",
       "      <td>2913</td>\n",
       "      <td>FRU</td>\n",
       "      <td>2912</td>\n",
       "      <td>None</td>\n",
       "      <td>0</td>\n",
       "      <td>734</td>\n",
       "      <td>40.608989</td>\n",
       "      <td>72.793269</td>\n",
       "      <td>43.061306</td>\n",
       "      <td>74.477556</td>\n",
       "    </tr>\n",
       "  </tbody>\n",
       "</table>\n",
       "<p>67202 rows × 14 columns</p>\n",
       "</div>"
      ],
      "text/plain": [
       "       index airline airline_id source source_id dest dest_id codeshare stops  \\\n",
       "0          0      2B        410    AER      2965  KZN    2990      None     0   \n",
       "1          1      2B        410    ASF      2966  KZN    2990      None     0   \n",
       "2          2      2B        410    ASF      2966  MRV    2962      None     0   \n",
       "3          3      2B        410    CEK      2968  KZN    2990      None     0   \n",
       "4          4      2B        410    CEK      2968  OVB    4078      None     0   \n",
       "...      ...     ...        ...    ...       ...  ...     ...       ...   ...   \n",
       "67197  67658      ZL       4178    WYA      6334  ADL    3341      None     0   \n",
       "67198  67659      ZM      19016    DME      4029  FRU    2912      None     0   \n",
       "67199  67660      ZM      19016    FRU      2912  DME    4029      None     0   \n",
       "67200  67661      ZM      19016    FRU      2912  OSS    2913      None     0   \n",
       "67201  67662      ZM      19016    OSS      2913  FRU    2912      None     0   \n",
       "\n",
       "      equipment source_lat source_long   dest_lat   dest_long  \n",
       "0           CR2  43.449928   39.956589  55.606186   49.278728  \n",
       "1           CR2  46.283333   48.006278  55.606186   49.278728  \n",
       "2           CR2  46.283333   48.006278  44.225072   43.081889  \n",
       "3           CR2  55.305836   61.503333  55.606186   49.278728  \n",
       "4           CR2  55.305836   61.503333  55.012622   82.650656  \n",
       "...         ...        ...         ...        ...         ...  \n",
       "67197       SF3   -33.0589     137.514    -34.945  138.530556  \n",
       "67198       734  55.408611   37.906111  43.061306   74.477556  \n",
       "67199       734  43.061306   74.477556  55.408611   37.906111  \n",
       "67200       734  43.061306   74.477556  40.608989   72.793269  \n",
       "67201       734  40.608989   72.793269  43.061306   74.477556  \n",
       "\n",
       "[67202 rows x 14 columns]"
      ]
     },
     "execution_count": 52,
     "metadata": {},
     "output_type": "execute_result"
    }
   ],
   "source": [
    "df"
   ]
  },
  {
   "cell_type": "code",
   "execution_count": 53,
   "metadata": {},
   "outputs": [],
   "source": [
    "pd_con.close()"
   ]
  },
  {
   "cell_type": "markdown",
   "metadata": {
    "slideshow": {
     "slide_type": "slide"
    }
   },
   "source": [
    "## Bonus: SQL-like querying in Pandas\n",
    "\n",
    "`.query()`\n",
    "\n",
    "[query documentation](https://pandas.pydata.org/pandas-docs/stable/reference/api/pandas.DataFrame.query.html)"
   ]
  },
  {
   "cell_type": "code",
   "execution_count": null,
   "metadata": {
    "slideshow": {
     "slide_type": "slide"
    }
   },
   "outputs": [],
   "source": [
    "# Get data for an example\n",
    "import pandas as pd\n",
    "shelter_data=pd.read_csv('https://data.austintexas.gov/api/views/9t4d-g238/rows.csv?accessType=DOWNLOAD')"
   ]
  },
  {
   "cell_type": "code",
   "execution_count": null,
   "metadata": {
    "slideshow": {
     "slide_type": "slide"
    }
   },
   "outputs": [],
   "source": [
    "max_data = shelter_data.query('Name == \"Max\"')\n",
    "max_data.head()\n"
   ]
  },
  {
   "cell_type": "code",
   "execution_count": null,
   "metadata": {},
   "outputs": [],
   "source": [
    "#vs\n",
    "shelter_data[shelter_data['Name']==\"Max\"].head()"
   ]
  },
  {
   "cell_type": "code",
   "execution_count": null,
   "metadata": {
    "slideshow": {
     "slide_type": "slide"
    }
   },
   "outputs": [],
   "source": [
    "shelter_data.query('`Animal Type` == \"Dog\"').head()"
   ]
  },
  {
   "cell_type": "code",
   "execution_count": null,
   "metadata": {},
   "outputs": [],
   "source": []
  }
 ],
 "metadata": {
  "kernelspec": {
   "display_name": "Python 3",
   "language": "python",
   "name": "python3"
  },
  "language_info": {
   "codemirror_mode": {
    "name": "ipython",
    "version": 3
   },
   "file_extension": ".py",
   "mimetype": "text/x-python",
   "name": "python",
   "nbconvert_exporter": "python",
   "pygments_lexer": "ipython3",
   "version": "3.7.6"
  }
 },
 "nbformat": 4,
 "nbformat_minor": 4
}
