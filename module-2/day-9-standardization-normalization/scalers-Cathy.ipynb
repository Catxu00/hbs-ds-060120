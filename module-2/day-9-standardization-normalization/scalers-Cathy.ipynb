{
 "cells": [
  {
   "cell_type": "markdown",
   "metadata": {},
   "source": [
    "# Scaling data \n",
    "\n",
    "## Objectives\n",
    "\n",
    "- Understanding the effect of different scalers on the data.\n",
    "\n",
    "- Using different scaler in sklearn."
   ]
  },
  {
   "cell_type": "code",
   "execution_count": null,
   "metadata": {},
   "outputs": [],
   "source": [
    "import numpy as np\n",
    "import scipy.stats as stats\n",
    "import matplotlib.pyplot as plt\n",
    "%matplotlib inline"
   ]
  },
  {
   "cell_type": "code",
   "execution_count": null,
   "metadata": {},
   "outputs": [],
   "source": [
    "import statsmodels.api as sm\n",
    "import pandas as pd"
   ]
  },
  {
   "cell_type": "code",
   "execution_count": null,
   "metadata": {},
   "outputs": [],
   "source": [
    "df = pd.read_csv('../day-8-multiple-regression/data/Advertising.csv', index_col = 0)\n",
    "df"
   ]
  },
  {
   "cell_type": "code",
   "execution_count": null,
   "metadata": {},
   "outputs": [],
   "source": [
    "model = sm.OLS(df.Sales, sm.add_constant(df.drop(columns = 'Sales')))\n",
    "results = model.fit()\n",
    "results.summary()"
   ]
  },
  {
   "cell_type": "code",
   "execution_count": null,
   "metadata": {},
   "outputs": [],
   "source": [
    "# Question: which of these coefficients is most important? \n",
    "# Radio cuz of high coef. but it's false assumption because we don't know what the x values are. "
   ]
  },
  {
   "cell_type": "code",
   "execution_count": null,
   "metadata": {},
   "outputs": [],
   "source": [
    "df = pd.read_csv('../day-8-multiple-regression/data/Advertising.csv', index_col = 0)\n",
    "df['TV'] = df['TV']*1000"
   ]
  },
  {
   "cell_type": "code",
   "execution_count": null,
   "metadata": {},
   "outputs": [],
   "source": [
    "df.head()"
   ]
  },
  {
   "cell_type": "code",
   "execution_count": null,
   "metadata": {},
   "outputs": [],
   "source": [
    "model = sm.OLS(df.Sales, sm.add_constant(df.drop(columns = 'Sales')))\n",
    "results = model.fit()\n",
    "results.summary()"
   ]
  },
  {
   "cell_type": "code",
   "execution_count": null,
   "metadata": {},
   "outputs": [],
   "source": [
    "# Without doing anything meaningful to the data, just by scaling TV, the coefficient has changed. "
   ]
  },
  {
   "cell_type": "code",
   "execution_count": null,
   "metadata": {},
   "outputs": [],
   "source": [
    "np.random.seed(seed=43)\n",
    "X = np.random.multivariate_normal(mean=(1, 1),\n",
    "                                  cov=[[1, 0.7], [0.7, 1]],\n",
    "                                  size=200)"
   ]
  },
  {
   "cell_type": "code",
   "execution_count": null,
   "metadata": {},
   "outputs": [],
   "source": [
    "plt.scatter(X[:,0], X[:,1])\n",
    "plt.xlabel('x1')\n",
    "plt.ylabel('x2')\n",
    "plt.show()"
   ]
  },
  {
   "cell_type": "markdown",
   "metadata": {},
   "source": [
    "## Initial Distribitions of the Columns\n"
   ]
  },
  {
   "cell_type": "code",
   "execution_count": null,
   "metadata": {},
   "outputs": [],
   "source": [
    "plt.figure(figsize=(10, 6))\n",
    "plt.subplot(1, 2, 1)\n",
    "plt.title('X1')\n",
    "plt.hist(X[:, 0])\n",
    "\n",
    "plt.subplot(1, 2, 2)\n",
    "plt.title('X2')\n",
    "plt.hist(X[:, 1])\n",
    "\n",
    "plt.show()"
   ]
  },
  {
   "cell_type": "markdown",
   "metadata": {},
   "source": [
    "## Scalers in Sklearn and their effect on the data"
   ]
  },
  {
   "cell_type": "markdown",
   "metadata": {},
   "source": [
    "## Centralize"
   ]
  },
  {
   "cell_type": "code",
   "execution_count": null,
   "metadata": {},
   "outputs": [],
   "source": [
    "# take all my X and centralize them around 0.\n",
    "X_centralized = X - X.mean()\n",
    "\n",
    "X[:10]\n",
    "X_centralized[:10]"
   ]
  },
  {
   "cell_type": "code",
   "execution_count": null,
   "metadata": {},
   "outputs": [],
   "source": [
    "plt.scatter(X_centralized[:,0], X_centralized[:,1])\n",
    "\n",
    "plt.title('Centralizing the data')\n",
    "\n",
    "plt.xlabel('x1_centralized')\n",
    "plt.ylabel('x2_centralized')\n",
    "\n",
    "plt.show()"
   ]
  },
  {
   "cell_type": "markdown",
   "metadata": {},
   "source": [
    "## StandardScaler\n",
    "\n",
    "[Sklearn Documentation](https://scikit-learn.org/stable/modules/generated/sklearn.preprocessing.StandardScaler.html#sklearn.preprocessing.StandardScaler)"
   ]
  },
  {
   "cell_type": "code",
   "execution_count": null,
   "metadata": {},
   "outputs": [],
   "source": [
    "# what the StandardScaler does:\n",
    "(X_centralized/ X_centralized.std()).std()"
   ]
  },
  {
   "cell_type": "code",
   "execution_count": null,
   "metadata": {},
   "outputs": [],
   "source": [
    "from sklearn.preprocessing import StandardScaler"
   ]
  },
  {
   "cell_type": "code",
   "execution_count": null,
   "metadata": {},
   "outputs": [],
   "source": [
    "standard_scaler = StandardScaler()\n",
    "\n",
    "X_std_scaled = standard_scaler.fit_transform(X)\n",
    "\n",
    "plt.scatter(X_std_scaled[:, 0], X_std_scaled[:, 1])\n",
    "\n",
    "plt.title('Scaling with Standard Scaler')\n",
    "\n",
    "plt.xlabel('x1_standardized')\n",
    "plt.ylabel('x2_standardized')\n",
    "\n",
    "plt.show()"
   ]
  },
  {
   "cell_type": "code",
   "execution_count": null,
   "metadata": {},
   "outputs": [],
   "source": [
    "plt.figure(figsize= (10,6))\n",
    "plt.subplot(1,2,1)\n",
    "plt.title('X1')\n",
    "plt.hist(X_std_scaled[:,0])\n",
    "\n",
    "plt.subplot(1,2,2)\n",
    "plt.title('X2')\n",
    "plt.hist(X_std_scaled[:,1])\n",
    "\n",
    "plt.show()"
   ]
  },
  {
   "cell_type": "code",
   "execution_count": null,
   "metadata": {},
   "outputs": [],
   "source": [
    "# let's investigate columns separately\n",
    "\n",
    "X1_std_scaled_mean = round(X_std_scaled[:, 0].mean(), 4)\n",
    "\n",
    "X1_std_scaled_std = round(X_std_scaled[:, 0].std(), 4)\n",
    "\n",
    "print(f'Mean of X1 after standard scaling is {X1_std_scaled_mean:.4f}')\n",
    "print(f'Std of X1 after standard scaling is {X1_std_scaled_std:.4f}')"
   ]
  },
  {
   "cell_type": "code",
   "execution_count": null,
   "metadata": {},
   "outputs": [],
   "source": [
    "# let's investigate columns separately\n",
    "\n",
    "X2_std_scaled_mean = round(X_std_scaled[:, 1].mean(), 4)\n",
    "\n",
    "X2_std_scaled_std = round(X_std_scaled[:, 1].std(), 4)\n",
    "\n",
    "print(f'Mean of X2 after standard scaling is {X2_std_scaled_mean:.4f}')\n",
    "print(f'Std of X2 after standard scaling is {X2_std_scaled_std:.4f}')"
   ]
  },
  {
   "cell_type": "code",
   "execution_count": null,
   "metadata": {},
   "outputs": [],
   "source": [
    "# Let's do this with advertising data."
   ]
  },
  {
   "cell_type": "code",
   "execution_count": null,
   "metadata": {},
   "outputs": [],
   "source": [
    "df.head()"
   ]
  },
  {
   "cell_type": "code",
   "execution_count": null,
   "metadata": {},
   "outputs": [],
   "source": [
    "y = df.Sales\n",
    "X = df.drop(columns = 'Sales')\n",
    "X.head()"
   ]
  },
  {
   "cell_type": "code",
   "execution_count": null,
   "metadata": {},
   "outputs": [],
   "source": [
    "X-X.mean()"
   ]
  },
  {
   "cell_type": "code",
   "execution_count": null,
   "metadata": {},
   "outputs": [],
   "source": [
    "(X-X.mean()).TV.mean()"
   ]
  },
  {
   "cell_type": "code",
   "execution_count": null,
   "metadata": {},
   "outputs": [],
   "source": [
    "# every mean is zero\n",
    "(X-X.mean()).mean()"
   ]
  },
  {
   "cell_type": "code",
   "execution_count": null,
   "metadata": {},
   "outputs": [],
   "source": [
    "X_std = (X-X.mean())/X.std()"
   ]
  },
  {
   "cell_type": "code",
   "execution_count": null,
   "metadata": {},
   "outputs": [],
   "source": [
    "model = sm.OLS(y, sm.add_constant(X_std))\n",
    "results = model.fit()\n",
    "results.summary()"
   ]
  },
  {
   "cell_type": "code",
   "execution_count": null,
   "metadata": {},
   "outputs": [],
   "source": [
    "# here we see TV's impact is actually more important than radio"
   ]
  },
  {
   "cell_type": "code",
   "execution_count": null,
   "metadata": {},
   "outputs": [],
   "source": [
    "# this time with sklearn\n",
    "\n",
    "from sklearn.preprocessing import StandardScaler\n",
    "ss = StandardScaler()\n"
   ]
  },
  {
   "cell_type": "code",
   "execution_count": null,
   "metadata": {},
   "outputs": [],
   "source": [
    "ss.fit(X)\n",
    "X_ss  = ss.transform(X)\n",
    "# same thing as \n",
    "X_ss = ss.fit_transform(X)"
   ]
  },
  {
   "cell_type": "code",
   "execution_count": null,
   "metadata": {},
   "outputs": [],
   "source": [
    "from sklearn.linear_model import LinearRegression\n",
    "\n",
    "lm = LinearRegression()"
   ]
  },
  {
   "cell_type": "code",
   "execution_count": 41,
   "metadata": {},
   "outputs": [
    {
     "name": "stdout",
     "output_type": "stream",
     "text": [
      "[ 3.91925365  2.79206274 -0.02253861] 14.022500000000003\n"
     ]
    }
   ],
   "source": [
    "lm.fit(X_ss,y)\n",
    "print(lm.coef_,lm.intercept_)"
   ]
  },
  {
   "cell_type": "code",
   "execution_count": 58,
   "metadata": {},
   "outputs": [
    {
     "data": {
      "text/plain": [
       "array([1.89862166e+05, 6.76929369e+01, 3.05540000e+01])"
      ]
     },
     "execution_count": 58,
     "metadata": {},
     "output_type": "execute_result"
    }
   ],
   "source": [
    "ss.inverse_transform([.5,3,0])"
   ]
  },
  {
   "cell_type": "markdown",
   "metadata": {},
   "source": [
    "Note that standard scaler does __not__ necessarily makes data __normal__"
   ]
  },
  {
   "cell_type": "code",
   "execution_count": null,
   "metadata": {},
   "outputs": [],
   "source": []
  },
  {
   "cell_type": "code",
   "execution_count": 42,
   "metadata": {},
   "outputs": [
    {
     "data": {
      "image/png": "[encoded data removed]",
      "text/plain": [
       "<Figure size 432x288 with 1 Axes>"
      ]
     },
     "metadata": {
      "needs_background": "light"
     },
     "output_type": "display_data"
    }
   ],
   "source": [
    "exponential_data = np.random.exponential(scale=4, size=200)\n",
    "\n",
    "plt.hist(exponential_data)\n",
    "plt.title('Histogram of a sample from exponential distribution')\n",
    "plt.xlabel('X-values in the sample')\n",
    "plt.ylabel('Number of occurences of the numbers')\n",
    "plt.show()"
   ]
  },
  {
   "cell_type": "code",
   "execution_count": 43,
   "metadata": {},
   "outputs": [
    {
     "name": "stdout",
     "output_type": "stream",
     "text": [
      "Mean of exponential_data is 4.0656\n",
      "Std of exponential_data is 4.1547\n"
     ]
    }
   ],
   "source": [
    "# let's mean and std seperately\n",
    "\n",
    "exponential_mean = round(exponential_data.mean(), 4)\n",
    "\n",
    "exponential_std = round(exponential_data.std(), 4)\n",
    "\n",
    "print(f'Mean of exponential_data is {exponential_mean:.4f}')\n",
    "print(f'Std of exponential_data is {exponential_std:.4f}')"
   ]
  },
  {
   "cell_type": "code",
   "execution_count": 45,
   "metadata": {},
   "outputs": [
    {
     "data": {
      "image/png": "[encoded data removed]",
      "text/plain": [
       "<Figure size 432x288 with 1 Axes>"
      ]
     },
     "metadata": {
      "needs_background": "light"
     },
     "output_type": "display_data"
    }
   ],
   "source": [
    "## After Standard Scaler\n",
    "# now data is more skewed on the right hand side\n",
    "\n",
    "std_scaled_exponential = standard_scaler.fit_transform(exponential_data.reshape(-1,1))\n",
    "\n",
    "plt.hist(std_scaled_exponential)\n",
    "plt.title('Exponential Data after Standard Scaler')\n",
    "\n",
    "plt.show()"
   ]
  },
  {
   "cell_type": "code",
   "execution_count": 46,
   "metadata": {},
   "outputs": [
    {
     "name": "stdout",
     "output_type": "stream",
     "text": [
      "Mean of exponential_data after scaling is 0.0000\n",
      "Std of exponential_data after scaling is 1.0000\n"
     ]
    }
   ],
   "source": [
    "# let's mean and std seperately\n",
    "\n",
    "std_exponential_mean = round(std_scaled_exponential.mean(), 4)\n",
    "\n",
    "std_exponential_std = round(std_scaled_exponential.std(), 4)\n",
    "\n",
    "print(f'Mean of exponential_data after scaling is {std_exponential_mean:.4f}')\n",
    "print(f'Std of exponential_data after scaling is {std_exponential_std:.4f}')"
   ]
  },
  {
   "cell_type": "markdown",
   "metadata": {},
   "source": [
    "## MinMax Scaler\n",
    "\n",
    "\n",
    "[Sklearn Documentation](https://scikit-learn.org/stable/modules/generated/sklearn.preprocessing.MinMaxScaler.html#sklearn.preprocessing.MinMaxScaler)\n",
    "\n",
    "__Your Turn__\n",
    "\n",
    "- Apply minmax scaler to the data and plot it.\n",
    "\n",
    "- Check the mean and std of individual columns\n"
   ]
  },
  {
   "cell_type": "code",
   "execution_count": 47,
   "metadata": {},
   "outputs": [],
   "source": [
    "from sklearn.preprocessing import MinMaxScaler\n",
    "mms = MinMaxScaler()"
   ]
  },
  {
   "cell_type": "code",
   "execution_count": 48,
   "metadata": {},
   "outputs": [],
   "source": [
    "np.random.seed(seed=43)\n",
    "X = np.random.multivariate_normal(mean=(1, 1),\n",
    "                                  cov=[[1, 0.7], [0.7, 1]],\n",
    "                                  size=200)"
   ]
  },
  {
   "cell_type": "code",
   "execution_count": 49,
   "metadata": {},
   "outputs": [],
   "source": [
    "X_minmax = mms.fit_transform(X)"
   ]
  },
  {
   "cell_type": "code",
   "execution_count": 52,
   "metadata": {},
   "outputs": [
    {
     "data": {
      "text/plain": [
       "array([[ 1.11454234,  0.41083565],\n",
       "       [ 1.55613454,  1.1417907 ],\n",
       "       [ 0.36885354,  0.04893739],\n",
       "       [-0.237854  ,  1.31923964],\n",
       "       [ 0.00580637, -0.334408  ],\n",
       "       [ 1.14305541,  1.4957445 ],\n",
       "       [ 2.87231528,  2.20454672],\n",
       "       [ 0.59370502,  0.49741228],\n",
       "       [-0.54458569, -1.02362931],\n",
       "       [ 2.30968527,  1.62059045]])"
      ]
     },
     "execution_count": 52,
     "metadata": {},
     "output_type": "execute_result"
    }
   ],
   "source": [
    "X[:10]"
   ]
  },
  {
   "cell_type": "code",
   "execution_count": 51,
   "metadata": {},
   "outputs": [
    {
     "data": {
      "text/plain": [
       "array([[0.49637674, 0.42878688],\n",
       "       [0.5668114 , 0.5671145 ],\n",
       "       [0.37743819, 0.36030042],\n",
       "       [0.28066736, 0.60069534],\n",
       "       [0.31953158, 0.28775526],\n",
       "       [0.50092462, 0.63409753],\n",
       "       [0.77674433, 0.76823289],\n",
       "       [0.41330236, 0.44517084],\n",
       "       [0.23174317, 0.15732543],\n",
       "       [0.68700395, 0.65772366]])"
      ]
     },
     "execution_count": 51,
     "metadata": {},
     "output_type": "execute_result"
    }
   ],
   "source": [
    "X_minmax[:10]"
   ]
  },
  {
   "cell_type": "code",
   "execution_count": 53,
   "metadata": {},
   "outputs": [
    {
     "data": {
      "image/png": "[encoded data removed]",
      "text/plain": [
       "<Figure size 432x288 with 1 Axes>"
      ]
     },
     "metadata": {
      "needs_background": "light"
     },
     "output_type": "display_data"
    }
   ],
   "source": [
    "plt.scatter(X_minmax[:,0], X_minmax[:,1])\n",
    "\n",
    "plt.title('Centralizing the data')\n",
    "\n",
    "plt.xlabel('x1_minmax')\n",
    "plt.ylabel('x2_minmax')\n",
    "\n",
    "plt.show()"
   ]
  },
  {
   "cell_type": "code",
   "execution_count": 57,
   "metadata": {},
   "outputs": [
    {
     "data": {
      "text/plain": [
       "array([0.48249926, 0.54806164])"
      ]
     },
     "execution_count": 57,
     "metadata": {},
     "output_type": "execute_result"
    }
   ],
   "source": [
    "X_minmax.mean(axis = 0)"
   ]
  },
  {
   "cell_type": "code",
   "execution_count": 55,
   "metadata": {},
   "outputs": [
    {
     "data": {
      "text/plain": [
       "array([0.16666838, 0.19918957])"
      ]
     },
     "execution_count": 55,
     "metadata": {},
     "output_type": "execute_result"
    }
   ],
   "source": [
    "X_minmax.std(axis = 0)"
   ]
  },
  {
   "cell_type": "markdown",
   "metadata": {},
   "source": [
    "## Bonus: Normalizer\n",
    "\n",
    "[Sklearn Documentation](https://scikit-learn.org/stable/modules/preprocessing.html#normalization)"
   ]
  },
  {
   "cell_type": "code",
   "execution_count": null,
   "metadata": {},
   "outputs": [],
   "source": [
    "from sklearn.preprocessing import Normalizer"
   ]
  },
  {
   "cell_type": "code",
   "execution_count": null,
   "metadata": {},
   "outputs": [],
   "source": [
    "normalizer = Normalizer()\n",
    "\n",
    "X_normalized = normalizer.fit_transform(X.T).T"
   ]
  },
  {
   "cell_type": "code",
   "execution_count": null,
   "metadata": {},
   "outputs": [],
   "source": [
    "plt.scatter(X_normalized[:,0], X_normalized[:,1])\n",
    "\n",
    "plt.title('Scaling with Normalizer')\n",
    "\n",
    "plt.xlabel('X1_norm')\n",
    "plt.ylabel('X2_norm')\n",
    "\n",
    "plt.show()"
   ]
  },
  {
   "cell_type": "code",
   "execution_count": null,
   "metadata": {},
   "outputs": [],
   "source": [
    "X_normalized[:,0].mean()"
   ]
  },
  {
   "cell_type": "code",
   "execution_count": null,
   "metadata": {},
   "outputs": [],
   "source": [
    "X_normalized[:,0].std()"
   ]
  }
 ],
 "metadata": {
  "kernelspec": {
   "display_name": "Python 3",
   "language": "python",
   "name": "python3"
  },
  "language_info": {
   "codemirror_mode": {
    "name": "ipython",
    "version": 3
   },
   "file_extension": ".py",
   "mimetype": "text/x-python",
   "name": "python",
   "nbconvert_exporter": "python",
   "pygments_lexer": "ipython3",
   "version": "3.7.6"
  },
  "toc": {
   "base_numbering": 1,
   "nav_menu": {},
   "number_sections": true,
   "sideBar": true,
   "skip_h1_title": false,
   "title_cell": "Table of Contents",
   "title_sidebar": "Contents",
   "toc_cell": false,
   "toc_position": {},
   "toc_section_display": true,
   "toc_window_display": false
  }
 },
 "nbformat": 4,
 "nbformat_minor": 2
}
