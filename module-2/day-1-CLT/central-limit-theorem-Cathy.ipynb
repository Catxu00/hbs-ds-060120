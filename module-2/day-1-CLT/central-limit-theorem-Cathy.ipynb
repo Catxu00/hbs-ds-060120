{
 "cells": [
  {
   "cell_type": "markdown",
   "metadata": {},
   "source": [
    "__Agenda__\n",
    "\n",
    "- Difference between population and sample\n",
    "- How can we get a good sample?\n",
    "- Point estimators from sample\n",
    "- Sampling distribution, especially sampling distribution of the mean\n",
    "- Central Limit Theorem - statement and use of it.\n",
    "- Creating confidence intervals around sample mean using CLT\n",
    "- Recap"
   ]
  },
  {
   "cell_type": "markdown",
   "metadata": {},
   "source": [
    "\n",
    "# Sampling Distributions\n",
    "\n",
    "## Population vs Sample\n",
    "\n",
    "__population__ A population is the set of all elements of interest in a study. (Finite population and infinite population)\n",
    "\n",
    "__sample__ A sample is a subset of the population.\n",
    "\n",
    "### Scenario\n",
    "\n",
    "The mayor's office has hired HBS students to determine a way to fix traffic congestion. A good starting point is to determine out what proportion of the population of DC owns a car.\n",
    "\n",
    "In order for us to make any determinations about a population, we must first get information about it.\n",
    "\n",
    "Because it's impractical to ever usually get data about *everyone* in a population, we must take a sample.\n",
    "\n",
    "Our sample should be:\n",
    "\n",
    "* Randomly selected- every item should have an *equal* chance of being selected\n",
    "* Representative of our population\n",
    "\n",
    "<img src=\"img/sample_pop.png\" width=500>"
   ]
  },
  {
   "cell_type": "markdown",
   "metadata": {},
   "source": [
    "**Random sampling is not easy to do, let's look at an example:**\n",
    "\n",
    "Imagine you are trying to determine what proportion of DC metro area people own a car\n",
    "\n",
    "* Stand outside of Harvard Square at 12 pm and ask random people until *n* responses\n",
    "\n",
    "* Go to a randomly assigned street corner and at a random time and ask *n* people if they own a car\n",
    "\n",
    "\n",
    "__Objective of Sampling__\n",
    "\n",
    "When we gather a sample, we are trying to minimize the bias of our sample while also minimizing our cost.\n",
    "\n",
    "\n",
    "## Point Estimates\n",
    "\n",
    "!! Very important observation!!: We can consider random sampling as an 'random experiment' and then when we calculate mean, variance, standard deviation, median etc. these are functions on the outcomes of this experiment. We have a name for such functions can you remember it?\n",
    "\n",
    "<img src=\"img/sample_stats.png\" width=400>"
   ]
  },
  {
   "cell_type": "markdown",
   "metadata": {},
   "source": [
    "### It's your turn\n",
    "\n",
    "[Download data](https://www.kaggle.com/ishaanv/ISLR-Auto)\n",
    "\n",
    "[UCI-repo](https://archive.ics.uci.edu/ml/datasets/auto+mpg)"
   ]
  },
  {
   "cell_type": "code",
   "execution_count": 33,
   "metadata": {},
   "outputs": [],
   "source": [
    "# Using Auto.csv from first link"
   ]
  },
  {
   "cell_type": "code",
   "execution_count": 34,
   "metadata": {},
   "outputs": [],
   "source": [
    "import pandas as pd\n",
    "import numpy as np\n",
    "import pickle"
   ]
  },
  {
   "cell_type": "markdown",
   "metadata": {},
   "source": [
    "Take two random samples of 30 cars from auto dataset and find both sampling mean and standard deviation for mpg\n",
    "\n"
   ]
  },
  {
   "cell_type": "code",
   "execution_count": 35,
   "metadata": {},
   "outputs": [
    {
     "name": "stdout",
     "output_type": "stream",
     "text": [
      "\u001b[31mAdvertising.csv\u001b[m\u001b[m \u001b[31mIncome1.csv\u001b[m\u001b[m     \u001b[31mIncome2.csv\u001b[m\u001b[m     \u001b[31mauto-mpg.csv\u001b[m\u001b[m\r\n"
     ]
    }
   ],
   "source": [
    "!ls data"
   ]
  },
  {
   "cell_type": "code",
   "execution_count": 36,
   "metadata": {},
   "outputs": [],
   "source": [
    "auto = pd.read_csv('data/auto-mpg.csv')"
   ]
  },
  {
   "cell_type": "code",
   "execution_count": 37,
   "metadata": {},
   "outputs": [
    {
     "data": {
      "text/html": [
       "<div>\n",
       "<style scoped>\n",
       "    .dataframe tbody tr th:only-of-type {\n",
       "        vertical-align: middle;\n",
       "    }\n",
       "\n",
       "    .dataframe tbody tr th {\n",
       "        vertical-align: top;\n",
       "    }\n",
       "\n",
       "    .dataframe thead th {\n",
       "        text-align: right;\n",
       "    }\n",
       "</style>\n",
       "<table border=\"1\" class=\"dataframe\">\n",
       "  <thead>\n",
       "    <tr style=\"text-align: right;\">\n",
       "      <th></th>\n",
       "      <th>mpg</th>\n",
       "      <th>cylinders</th>\n",
       "      <th>displacement</th>\n",
       "      <th>horsepower</th>\n",
       "      <th>weight</th>\n",
       "      <th>acceleration</th>\n",
       "      <th>model year</th>\n",
       "      <th>origin</th>\n",
       "      <th>car name</th>\n",
       "    </tr>\n",
       "  </thead>\n",
       "  <tbody>\n",
       "    <tr>\n",
       "      <th>0</th>\n",
       "      <td>18.0</td>\n",
       "      <td>8</td>\n",
       "      <td>307.0</td>\n",
       "      <td>130</td>\n",
       "      <td>3504</td>\n",
       "      <td>12.0</td>\n",
       "      <td>70</td>\n",
       "      <td>1</td>\n",
       "      <td>chevrolet chevelle malibu</td>\n",
       "    </tr>\n",
       "    <tr>\n",
       "      <th>1</th>\n",
       "      <td>15.0</td>\n",
       "      <td>8</td>\n",
       "      <td>350.0</td>\n",
       "      <td>165</td>\n",
       "      <td>3693</td>\n",
       "      <td>11.5</td>\n",
       "      <td>70</td>\n",
       "      <td>1</td>\n",
       "      <td>buick skylark 320</td>\n",
       "    </tr>\n",
       "    <tr>\n",
       "      <th>2</th>\n",
       "      <td>18.0</td>\n",
       "      <td>8</td>\n",
       "      <td>318.0</td>\n",
       "      <td>150</td>\n",
       "      <td>3436</td>\n",
       "      <td>11.0</td>\n",
       "      <td>70</td>\n",
       "      <td>1</td>\n",
       "      <td>plymouth satellite</td>\n",
       "    </tr>\n",
       "    <tr>\n",
       "      <th>3</th>\n",
       "      <td>16.0</td>\n",
       "      <td>8</td>\n",
       "      <td>304.0</td>\n",
       "      <td>150</td>\n",
       "      <td>3433</td>\n",
       "      <td>12.0</td>\n",
       "      <td>70</td>\n",
       "      <td>1</td>\n",
       "      <td>amc rebel sst</td>\n",
       "    </tr>\n",
       "    <tr>\n",
       "      <th>4</th>\n",
       "      <td>17.0</td>\n",
       "      <td>8</td>\n",
       "      <td>302.0</td>\n",
       "      <td>140</td>\n",
       "      <td>3449</td>\n",
       "      <td>10.5</td>\n",
       "      <td>70</td>\n",
       "      <td>1</td>\n",
       "      <td>ford torino</td>\n",
       "    </tr>\n",
       "  </tbody>\n",
       "</table>\n",
       "</div>"
      ],
      "text/plain": [
       "    mpg  cylinders  displacement  horsepower  weight  acceleration  \\\n",
       "0  18.0          8         307.0         130    3504          12.0   \n",
       "1  15.0          8         350.0         165    3693          11.5   \n",
       "2  18.0          8         318.0         150    3436          11.0   \n",
       "3  16.0          8         304.0         150    3433          12.0   \n",
       "4  17.0          8         302.0         140    3449          10.5   \n",
       "\n",
       "   model year  origin                   car name  \n",
       "0          70       1  chevrolet chevelle malibu  \n",
       "1          70       1          buick skylark 320  \n",
       "2          70       1         plymouth satellite  \n",
       "3          70       1              amc rebel sst  \n",
       "4          70       1                ford torino  "
      ]
     },
     "execution_count": 37,
     "metadata": {},
     "output_type": "execute_result"
    }
   ],
   "source": [
    "auto.head()"
   ]
  },
  {
   "cell_type": "code",
   "execution_count": 38,
   "metadata": {},
   "outputs": [
    {
     "data": {
      "text/plain": [
       "(392, 9)"
      ]
     },
     "execution_count": 38,
     "metadata": {},
     "output_type": "execute_result"
    }
   ],
   "source": [
    "auto.shape"
   ]
  },
  {
   "cell_type": "code",
   "execution_count": 39,
   "metadata": {},
   "outputs": [
    {
     "data": {
      "text/plain": [
       "array([ 89, 272, 377, 351, 329, 146, 365, 292, 140, 119, 257, 139,  96,\n",
       "       280, 340, 302, 311, 223, 296, 316, 257, 201, 305, 361,   4,  18,\n",
       "       333, 304, 339, 331])"
      ]
     },
     "execution_count": 39,
     "metadata": {},
     "output_type": "execute_result"
    }
   ],
   "source": [
    "np.random.choice(list(auto.index),30)"
   ]
  },
  {
   "cell_type": "code",
   "execution_count": 40,
   "metadata": {},
   "outputs": [
    {
     "data": {
      "text/html": [
       "<div>\n",
       "<style scoped>\n",
       "    .dataframe tbody tr th:only-of-type {\n",
       "        vertical-align: middle;\n",
       "    }\n",
       "\n",
       "    .dataframe tbody tr th {\n",
       "        vertical-align: top;\n",
       "    }\n",
       "\n",
       "    .dataframe thead th {\n",
       "        text-align: right;\n",
       "    }\n",
       "</style>\n",
       "<table border=\"1\" class=\"dataframe\">\n",
       "  <thead>\n",
       "    <tr style=\"text-align: right;\">\n",
       "      <th></th>\n",
       "      <th>mpg</th>\n",
       "      <th>cylinders</th>\n",
       "      <th>displacement</th>\n",
       "      <th>horsepower</th>\n",
       "      <th>weight</th>\n",
       "      <th>acceleration</th>\n",
       "      <th>model year</th>\n",
       "      <th>origin</th>\n",
       "      <th>car name</th>\n",
       "    </tr>\n",
       "  </thead>\n",
       "  <tbody>\n",
       "    <tr>\n",
       "      <th>148</th>\n",
       "      <td>26.0</td>\n",
       "      <td>4</td>\n",
       "      <td>108.0</td>\n",
       "      <td>93</td>\n",
       "      <td>2391</td>\n",
       "      <td>15.5</td>\n",
       "      <td>74</td>\n",
       "      <td>3</td>\n",
       "      <td>subaru</td>\n",
       "    </tr>\n",
       "    <tr>\n",
       "      <th>267</th>\n",
       "      <td>30.9</td>\n",
       "      <td>4</td>\n",
       "      <td>105.0</td>\n",
       "      <td>75</td>\n",
       "      <td>2230</td>\n",
       "      <td>14.5</td>\n",
       "      <td>78</td>\n",
       "      <td>1</td>\n",
       "      <td>dodge omni</td>\n",
       "    </tr>\n",
       "    <tr>\n",
       "      <th>239</th>\n",
       "      <td>22.0</td>\n",
       "      <td>6</td>\n",
       "      <td>146.0</td>\n",
       "      <td>97</td>\n",
       "      <td>2815</td>\n",
       "      <td>14.5</td>\n",
       "      <td>77</td>\n",
       "      <td>3</td>\n",
       "      <td>datsun 810</td>\n",
       "    </tr>\n",
       "    <tr>\n",
       "      <th>195</th>\n",
       "      <td>29.0</td>\n",
       "      <td>4</td>\n",
       "      <td>90.0</td>\n",
       "      <td>70</td>\n",
       "      <td>1937</td>\n",
       "      <td>14.2</td>\n",
       "      <td>76</td>\n",
       "      <td>2</td>\n",
       "      <td>vw rabbit</td>\n",
       "    </tr>\n",
       "    <tr>\n",
       "      <th>181</th>\n",
       "      <td>25.0</td>\n",
       "      <td>4</td>\n",
       "      <td>116.0</td>\n",
       "      <td>81</td>\n",
       "      <td>2220</td>\n",
       "      <td>16.9</td>\n",
       "      <td>76</td>\n",
       "      <td>2</td>\n",
       "      <td>opel 1900</td>\n",
       "    </tr>\n",
       "    <tr>\n",
       "      <th>286</th>\n",
       "      <td>18.2</td>\n",
       "      <td>8</td>\n",
       "      <td>318.0</td>\n",
       "      <td>135</td>\n",
       "      <td>3830</td>\n",
       "      <td>15.2</td>\n",
       "      <td>79</td>\n",
       "      <td>1</td>\n",
       "      <td>dodge st. regis</td>\n",
       "    </tr>\n",
       "    <tr>\n",
       "      <th>152</th>\n",
       "      <td>15.0</td>\n",
       "      <td>6</td>\n",
       "      <td>250.0</td>\n",
       "      <td>72</td>\n",
       "      <td>3432</td>\n",
       "      <td>21.0</td>\n",
       "      <td>75</td>\n",
       "      <td>1</td>\n",
       "      <td>mercury monarch</td>\n",
       "    </tr>\n",
       "    <tr>\n",
       "      <th>63</th>\n",
       "      <td>15.0</td>\n",
       "      <td>8</td>\n",
       "      <td>318.0</td>\n",
       "      <td>150</td>\n",
       "      <td>4135</td>\n",
       "      <td>13.5</td>\n",
       "      <td>72</td>\n",
       "      <td>1</td>\n",
       "      <td>plymouth fury iii</td>\n",
       "    </tr>\n",
       "    <tr>\n",
       "      <th>123</th>\n",
       "      <td>11.0</td>\n",
       "      <td>8</td>\n",
       "      <td>350.0</td>\n",
       "      <td>180</td>\n",
       "      <td>3664</td>\n",
       "      <td>11.0</td>\n",
       "      <td>73</td>\n",
       "      <td>1</td>\n",
       "      <td>oldsmobile omega</td>\n",
       "    </tr>\n",
       "    <tr>\n",
       "      <th>250</th>\n",
       "      <td>19.2</td>\n",
       "      <td>6</td>\n",
       "      <td>231.0</td>\n",
       "      <td>105</td>\n",
       "      <td>3535</td>\n",
       "      <td>19.2</td>\n",
       "      <td>78</td>\n",
       "      <td>1</td>\n",
       "      <td>pontiac phoenix lj</td>\n",
       "    </tr>\n",
       "    <tr>\n",
       "      <th>40</th>\n",
       "      <td>14.0</td>\n",
       "      <td>8</td>\n",
       "      <td>318.0</td>\n",
       "      <td>150</td>\n",
       "      <td>4096</td>\n",
       "      <td>13.0</td>\n",
       "      <td>71</td>\n",
       "      <td>1</td>\n",
       "      <td>plymouth fury iii</td>\n",
       "    </tr>\n",
       "    <tr>\n",
       "      <th>223</th>\n",
       "      <td>17.5</td>\n",
       "      <td>6</td>\n",
       "      <td>250.0</td>\n",
       "      <td>110</td>\n",
       "      <td>3520</td>\n",
       "      <td>16.4</td>\n",
       "      <td>77</td>\n",
       "      <td>1</td>\n",
       "      <td>chevrolet concours</td>\n",
       "    </tr>\n",
       "    <tr>\n",
       "      <th>16</th>\n",
       "      <td>18.0</td>\n",
       "      <td>6</td>\n",
       "      <td>199.0</td>\n",
       "      <td>97</td>\n",
       "      <td>2774</td>\n",
       "      <td>15.5</td>\n",
       "      <td>70</td>\n",
       "      <td>1</td>\n",
       "      <td>amc hornet</td>\n",
       "    </tr>\n",
       "    <tr>\n",
       "      <th>223</th>\n",
       "      <td>17.5</td>\n",
       "      <td>6</td>\n",
       "      <td>250.0</td>\n",
       "      <td>110</td>\n",
       "      <td>3520</td>\n",
       "      <td>16.4</td>\n",
       "      <td>77</td>\n",
       "      <td>1</td>\n",
       "      <td>chevrolet concours</td>\n",
       "    </tr>\n",
       "    <tr>\n",
       "      <th>129</th>\n",
       "      <td>32.0</td>\n",
       "      <td>4</td>\n",
       "      <td>71.0</td>\n",
       "      <td>65</td>\n",
       "      <td>1836</td>\n",
       "      <td>21.0</td>\n",
       "      <td>74</td>\n",
       "      <td>3</td>\n",
       "      <td>toyota corolla 1200</td>\n",
       "    </tr>\n",
       "    <tr>\n",
       "      <th>360</th>\n",
       "      <td>20.2</td>\n",
       "      <td>6</td>\n",
       "      <td>200.0</td>\n",
       "      <td>88</td>\n",
       "      <td>3060</td>\n",
       "      <td>17.1</td>\n",
       "      <td>81</td>\n",
       "      <td>1</td>\n",
       "      <td>ford granada gl</td>\n",
       "    </tr>\n",
       "    <tr>\n",
       "      <th>18</th>\n",
       "      <td>27.0</td>\n",
       "      <td>4</td>\n",
       "      <td>97.0</td>\n",
       "      <td>88</td>\n",
       "      <td>2130</td>\n",
       "      <td>14.5</td>\n",
       "      <td>70</td>\n",
       "      <td>3</td>\n",
       "      <td>datsun pl510</td>\n",
       "    </tr>\n",
       "    <tr>\n",
       "      <th>346</th>\n",
       "      <td>34.7</td>\n",
       "      <td>4</td>\n",
       "      <td>105.0</td>\n",
       "      <td>63</td>\n",
       "      <td>2215</td>\n",
       "      <td>14.9</td>\n",
       "      <td>81</td>\n",
       "      <td>1</td>\n",
       "      <td>plymouth horizon 4</td>\n",
       "    </tr>\n",
       "    <tr>\n",
       "      <th>178</th>\n",
       "      <td>25.0</td>\n",
       "      <td>4</td>\n",
       "      <td>121.0</td>\n",
       "      <td>115</td>\n",
       "      <td>2671</td>\n",
       "      <td>13.5</td>\n",
       "      <td>75</td>\n",
       "      <td>2</td>\n",
       "      <td>saab 99le</td>\n",
       "    </tr>\n",
       "    <tr>\n",
       "      <th>24</th>\n",
       "      <td>21.0</td>\n",
       "      <td>6</td>\n",
       "      <td>199.0</td>\n",
       "      <td>90</td>\n",
       "      <td>2648</td>\n",
       "      <td>15.0</td>\n",
       "      <td>70</td>\n",
       "      <td>1</td>\n",
       "      <td>amc gremlin</td>\n",
       "    </tr>\n",
       "    <tr>\n",
       "      <th>112</th>\n",
       "      <td>21.0</td>\n",
       "      <td>6</td>\n",
       "      <td>155.0</td>\n",
       "      <td>107</td>\n",
       "      <td>2472</td>\n",
       "      <td>14.0</td>\n",
       "      <td>73</td>\n",
       "      <td>1</td>\n",
       "      <td>mercury capri v6</td>\n",
       "    </tr>\n",
       "    <tr>\n",
       "      <th>341</th>\n",
       "      <td>35.1</td>\n",
       "      <td>4</td>\n",
       "      <td>81.0</td>\n",
       "      <td>60</td>\n",
       "      <td>1760</td>\n",
       "      <td>16.1</td>\n",
       "      <td>81</td>\n",
       "      <td>3</td>\n",
       "      <td>honda civic 1300</td>\n",
       "    </tr>\n",
       "    <tr>\n",
       "      <th>110</th>\n",
       "      <td>18.0</td>\n",
       "      <td>3</td>\n",
       "      <td>70.0</td>\n",
       "      <td>90</td>\n",
       "      <td>2124</td>\n",
       "      <td>13.5</td>\n",
       "      <td>73</td>\n",
       "      <td>3</td>\n",
       "      <td>maxda rx3</td>\n",
       "    </tr>\n",
       "    <tr>\n",
       "      <th>138</th>\n",
       "      <td>14.0</td>\n",
       "      <td>8</td>\n",
       "      <td>304.0</td>\n",
       "      <td>150</td>\n",
       "      <td>4257</td>\n",
       "      <td>15.5</td>\n",
       "      <td>74</td>\n",
       "      <td>1</td>\n",
       "      <td>amc matador (sw)</td>\n",
       "    </tr>\n",
       "    <tr>\n",
       "      <th>99</th>\n",
       "      <td>18.0</td>\n",
       "      <td>6</td>\n",
       "      <td>250.0</td>\n",
       "      <td>88</td>\n",
       "      <td>3021</td>\n",
       "      <td>16.5</td>\n",
       "      <td>73</td>\n",
       "      <td>1</td>\n",
       "      <td>ford maverick</td>\n",
       "    </tr>\n",
       "    <tr>\n",
       "      <th>210</th>\n",
       "      <td>16.5</td>\n",
       "      <td>8</td>\n",
       "      <td>350.0</td>\n",
       "      <td>180</td>\n",
       "      <td>4380</td>\n",
       "      <td>12.1</td>\n",
       "      <td>76</td>\n",
       "      <td>1</td>\n",
       "      <td>cadillac seville</td>\n",
       "    </tr>\n",
       "    <tr>\n",
       "      <th>212</th>\n",
       "      <td>13.0</td>\n",
       "      <td>8</td>\n",
       "      <td>302.0</td>\n",
       "      <td>130</td>\n",
       "      <td>3870</td>\n",
       "      <td>15.0</td>\n",
       "      <td>76</td>\n",
       "      <td>1</td>\n",
       "      <td>ford f108</td>\n",
       "    </tr>\n",
       "    <tr>\n",
       "      <th>244</th>\n",
       "      <td>32.8</td>\n",
       "      <td>4</td>\n",
       "      <td>78.0</td>\n",
       "      <td>52</td>\n",
       "      <td>1985</td>\n",
       "      <td>19.4</td>\n",
       "      <td>78</td>\n",
       "      <td>3</td>\n",
       "      <td>mazda glc deluxe</td>\n",
       "    </tr>\n",
       "    <tr>\n",
       "      <th>294</th>\n",
       "      <td>27.4</td>\n",
       "      <td>4</td>\n",
       "      <td>121.0</td>\n",
       "      <td>80</td>\n",
       "      <td>2670</td>\n",
       "      <td>15.0</td>\n",
       "      <td>79</td>\n",
       "      <td>1</td>\n",
       "      <td>amc spirit dl</td>\n",
       "    </tr>\n",
       "    <tr>\n",
       "      <th>330</th>\n",
       "      <td>32.7</td>\n",
       "      <td>6</td>\n",
       "      <td>168.0</td>\n",
       "      <td>132</td>\n",
       "      <td>2910</td>\n",
       "      <td>11.4</td>\n",
       "      <td>80</td>\n",
       "      <td>3</td>\n",
       "      <td>datsun 280-zx</td>\n",
       "    </tr>\n",
       "  </tbody>\n",
       "</table>\n",
       "</div>"
      ],
      "text/plain": [
       "      mpg  cylinders  displacement  horsepower  weight  acceleration  \\\n",
       "148  26.0          4         108.0          93    2391          15.5   \n",
       "267  30.9          4         105.0          75    2230          14.5   \n",
       "239  22.0          6         146.0          97    2815          14.5   \n",
       "195  29.0          4          90.0          70    1937          14.2   \n",
       "181  25.0          4         116.0          81    2220          16.9   \n",
       "286  18.2          8         318.0         135    3830          15.2   \n",
       "152  15.0          6         250.0          72    3432          21.0   \n",
       "63   15.0          8         318.0         150    4135          13.5   \n",
       "123  11.0          8         350.0         180    3664          11.0   \n",
       "250  19.2          6         231.0         105    3535          19.2   \n",
       "40   14.0          8         318.0         150    4096          13.0   \n",
       "223  17.5          6         250.0         110    3520          16.4   \n",
       "16   18.0          6         199.0          97    2774          15.5   \n",
       "223  17.5          6         250.0         110    3520          16.4   \n",
       "129  32.0          4          71.0          65    1836          21.0   \n",
       "360  20.2          6         200.0          88    3060          17.1   \n",
       "18   27.0          4          97.0          88    2130          14.5   \n",
       "346  34.7          4         105.0          63    2215          14.9   \n",
       "178  25.0          4         121.0         115    2671          13.5   \n",
       "24   21.0          6         199.0          90    2648          15.0   \n",
       "112  21.0          6         155.0         107    2472          14.0   \n",
       "341  35.1          4          81.0          60    1760          16.1   \n",
       "110  18.0          3          70.0          90    2124          13.5   \n",
       "138  14.0          8         304.0         150    4257          15.5   \n",
       "99   18.0          6         250.0          88    3021          16.5   \n",
       "210  16.5          8         350.0         180    4380          12.1   \n",
       "212  13.0          8         302.0         130    3870          15.0   \n",
       "244  32.8          4          78.0          52    1985          19.4   \n",
       "294  27.4          4         121.0          80    2670          15.0   \n",
       "330  32.7          6         168.0         132    2910          11.4   \n",
       "\n",
       "     model year  origin             car name  \n",
       "148          74       3               subaru  \n",
       "267          78       1           dodge omni  \n",
       "239          77       3           datsun 810  \n",
       "195          76       2            vw rabbit  \n",
       "181          76       2            opel 1900  \n",
       "286          79       1      dodge st. regis  \n",
       "152          75       1      mercury monarch  \n",
       "63           72       1    plymouth fury iii  \n",
       "123          73       1     oldsmobile omega  \n",
       "250          78       1   pontiac phoenix lj  \n",
       "40           71       1    plymouth fury iii  \n",
       "223          77       1   chevrolet concours  \n",
       "16           70       1           amc hornet  \n",
       "223          77       1   chevrolet concours  \n",
       "129          74       3  toyota corolla 1200  \n",
       "360          81       1      ford granada gl  \n",
       "18           70       3         datsun pl510  \n",
       "346          81       1   plymouth horizon 4  \n",
       "178          75       2            saab 99le  \n",
       "24           70       1          amc gremlin  \n",
       "112          73       1     mercury capri v6  \n",
       "341          81       3     honda civic 1300  \n",
       "110          73       3            maxda rx3  \n",
       "138          74       1     amc matador (sw)  \n",
       "99           73       1        ford maverick  \n",
       "210          76       1     cadillac seville  \n",
       "212          76       1            ford f108  \n",
       "244          78       3     mazda glc deluxe  \n",
       "294          79       1        amc spirit dl  \n",
       "330          80       3        datsun 280-zx  "
      ]
     },
     "execution_count": 40,
     "metadata": {},
     "output_type": "execute_result"
    }
   ],
   "source": [
    "#Each time I run this, it'll give me a new list of 30. \n",
    "auto.loc[np.random.choice(list(auto.index),30)]"
   ]
  },
  {
   "cell_type": "code",
   "execution_count": 41,
   "metadata": {},
   "outputs": [
    {
     "data": {
      "text/html": [
       "<div>\n",
       "<style scoped>\n",
       "    .dataframe tbody tr th:only-of-type {\n",
       "        vertical-align: middle;\n",
       "    }\n",
       "\n",
       "    .dataframe tbody tr th {\n",
       "        vertical-align: top;\n",
       "    }\n",
       "\n",
       "    .dataframe thead th {\n",
       "        text-align: right;\n",
       "    }\n",
       "</style>\n",
       "<table border=\"1\" class=\"dataframe\">\n",
       "  <thead>\n",
       "    <tr style=\"text-align: right;\">\n",
       "      <th></th>\n",
       "      <th>mpg</th>\n",
       "      <th>cylinders</th>\n",
       "      <th>displacement</th>\n",
       "      <th>horsepower</th>\n",
       "      <th>weight</th>\n",
       "      <th>acceleration</th>\n",
       "      <th>model year</th>\n",
       "      <th>origin</th>\n",
       "      <th>car name</th>\n",
       "    </tr>\n",
       "  </thead>\n",
       "  <tbody>\n",
       "    <tr>\n",
       "      <th>76</th>\n",
       "      <td>22.0</td>\n",
       "      <td>4</td>\n",
       "      <td>121.0</td>\n",
       "      <td>76</td>\n",
       "      <td>2511</td>\n",
       "      <td>18.0</td>\n",
       "      <td>72</td>\n",
       "      <td>2</td>\n",
       "      <td>volkswagen 411 (sw)</td>\n",
       "    </tr>\n",
       "    <tr>\n",
       "      <th>242</th>\n",
       "      <td>43.1</td>\n",
       "      <td>4</td>\n",
       "      <td>90.0</td>\n",
       "      <td>48</td>\n",
       "      <td>1985</td>\n",
       "      <td>21.5</td>\n",
       "      <td>78</td>\n",
       "      <td>2</td>\n",
       "      <td>volkswagen rabbit custom diesel</td>\n",
       "    </tr>\n",
       "    <tr>\n",
       "      <th>115</th>\n",
       "      <td>16.0</td>\n",
       "      <td>8</td>\n",
       "      <td>400.0</td>\n",
       "      <td>230</td>\n",
       "      <td>4278</td>\n",
       "      <td>9.5</td>\n",
       "      <td>73</td>\n",
       "      <td>1</td>\n",
       "      <td>pontiac grand prix</td>\n",
       "    </tr>\n",
       "    <tr>\n",
       "      <th>138</th>\n",
       "      <td>14.0</td>\n",
       "      <td>8</td>\n",
       "      <td>304.0</td>\n",
       "      <td>150</td>\n",
       "      <td>4257</td>\n",
       "      <td>15.5</td>\n",
       "      <td>74</td>\n",
       "      <td>1</td>\n",
       "      <td>amc matador (sw)</td>\n",
       "    </tr>\n",
       "    <tr>\n",
       "      <th>0</th>\n",
       "      <td>18.0</td>\n",
       "      <td>8</td>\n",
       "      <td>307.0</td>\n",
       "      <td>130</td>\n",
       "      <td>3504</td>\n",
       "      <td>12.0</td>\n",
       "      <td>70</td>\n",
       "      <td>1</td>\n",
       "      <td>chevrolet chevelle malibu</td>\n",
       "    </tr>\n",
       "    <tr>\n",
       "      <th>162</th>\n",
       "      <td>21.0</td>\n",
       "      <td>6</td>\n",
       "      <td>231.0</td>\n",
       "      <td>110</td>\n",
       "      <td>3039</td>\n",
       "      <td>15.0</td>\n",
       "      <td>75</td>\n",
       "      <td>1</td>\n",
       "      <td>buick skyhawk</td>\n",
       "    </tr>\n",
       "    <tr>\n",
       "      <th>114</th>\n",
       "      <td>15.0</td>\n",
       "      <td>8</td>\n",
       "      <td>350.0</td>\n",
       "      <td>145</td>\n",
       "      <td>4082</td>\n",
       "      <td>13.0</td>\n",
       "      <td>73</td>\n",
       "      <td>1</td>\n",
       "      <td>chevrolet monte carlo s</td>\n",
       "    </tr>\n",
       "    <tr>\n",
       "      <th>45</th>\n",
       "      <td>22.0</td>\n",
       "      <td>4</td>\n",
       "      <td>140.0</td>\n",
       "      <td>72</td>\n",
       "      <td>2408</td>\n",
       "      <td>19.0</td>\n",
       "      <td>71</td>\n",
       "      <td>1</td>\n",
       "      <td>chevrolet vega (sw)</td>\n",
       "    </tr>\n",
       "    <tr>\n",
       "      <th>239</th>\n",
       "      <td>22.0</td>\n",
       "      <td>6</td>\n",
       "      <td>146.0</td>\n",
       "      <td>97</td>\n",
       "      <td>2815</td>\n",
       "      <td>14.5</td>\n",
       "      <td>77</td>\n",
       "      <td>3</td>\n",
       "      <td>datsun 810</td>\n",
       "    </tr>\n",
       "    <tr>\n",
       "      <th>209</th>\n",
       "      <td>16.5</td>\n",
       "      <td>6</td>\n",
       "      <td>168.0</td>\n",
       "      <td>120</td>\n",
       "      <td>3820</td>\n",
       "      <td>16.7</td>\n",
       "      <td>76</td>\n",
       "      <td>2</td>\n",
       "      <td>mercedes-benz 280s</td>\n",
       "    </tr>\n",
       "    <tr>\n",
       "      <th>67</th>\n",
       "      <td>13.0</td>\n",
       "      <td>8</td>\n",
       "      <td>350.0</td>\n",
       "      <td>155</td>\n",
       "      <td>4502</td>\n",
       "      <td>13.5</td>\n",
       "      <td>72</td>\n",
       "      <td>1</td>\n",
       "      <td>buick lesabre custom</td>\n",
       "    </tr>\n",
       "    <tr>\n",
       "      <th>192</th>\n",
       "      <td>22.5</td>\n",
       "      <td>6</td>\n",
       "      <td>232.0</td>\n",
       "      <td>90</td>\n",
       "      <td>3085</td>\n",
       "      <td>17.6</td>\n",
       "      <td>76</td>\n",
       "      <td>1</td>\n",
       "      <td>amc hornet</td>\n",
       "    </tr>\n",
       "    <tr>\n",
       "      <th>357</th>\n",
       "      <td>24.2</td>\n",
       "      <td>6</td>\n",
       "      <td>146.0</td>\n",
       "      <td>120</td>\n",
       "      <td>2930</td>\n",
       "      <td>13.8</td>\n",
       "      <td>81</td>\n",
       "      <td>3</td>\n",
       "      <td>datsun 810 maxima</td>\n",
       "    </tr>\n",
       "    <tr>\n",
       "      <th>334</th>\n",
       "      <td>27.2</td>\n",
       "      <td>4</td>\n",
       "      <td>135.0</td>\n",
       "      <td>84</td>\n",
       "      <td>2490</td>\n",
       "      <td>15.7</td>\n",
       "      <td>81</td>\n",
       "      <td>1</td>\n",
       "      <td>plymouth reliant</td>\n",
       "    </tr>\n",
       "    <tr>\n",
       "      <th>26</th>\n",
       "      <td>10.0</td>\n",
       "      <td>8</td>\n",
       "      <td>307.0</td>\n",
       "      <td>200</td>\n",
       "      <td>4376</td>\n",
       "      <td>15.0</td>\n",
       "      <td>70</td>\n",
       "      <td>1</td>\n",
       "      <td>chevy c20</td>\n",
       "    </tr>\n",
       "    <tr>\n",
       "      <th>345</th>\n",
       "      <td>34.1</td>\n",
       "      <td>4</td>\n",
       "      <td>91.0</td>\n",
       "      <td>68</td>\n",
       "      <td>1985</td>\n",
       "      <td>16.0</td>\n",
       "      <td>81</td>\n",
       "      <td>3</td>\n",
       "      <td>mazda glc 4</td>\n",
       "    </tr>\n",
       "    <tr>\n",
       "      <th>36</th>\n",
       "      <td>18.0</td>\n",
       "      <td>6</td>\n",
       "      <td>232.0</td>\n",
       "      <td>100</td>\n",
       "      <td>3288</td>\n",
       "      <td>15.5</td>\n",
       "      <td>71</td>\n",
       "      <td>1</td>\n",
       "      <td>amc matador</td>\n",
       "    </tr>\n",
       "    <tr>\n",
       "      <th>242</th>\n",
       "      <td>43.1</td>\n",
       "      <td>4</td>\n",
       "      <td>90.0</td>\n",
       "      <td>48</td>\n",
       "      <td>1985</td>\n",
       "      <td>21.5</td>\n",
       "      <td>78</td>\n",
       "      <td>2</td>\n",
       "      <td>volkswagen rabbit custom diesel</td>\n",
       "    </tr>\n",
       "    <tr>\n",
       "      <th>65</th>\n",
       "      <td>17.0</td>\n",
       "      <td>8</td>\n",
       "      <td>304.0</td>\n",
       "      <td>150</td>\n",
       "      <td>3672</td>\n",
       "      <td>11.5</td>\n",
       "      <td>72</td>\n",
       "      <td>1</td>\n",
       "      <td>amc ambassador sst</td>\n",
       "    </tr>\n",
       "    <tr>\n",
       "      <th>381</th>\n",
       "      <td>38.0</td>\n",
       "      <td>6</td>\n",
       "      <td>262.0</td>\n",
       "      <td>85</td>\n",
       "      <td>3015</td>\n",
       "      <td>17.0</td>\n",
       "      <td>82</td>\n",
       "      <td>1</td>\n",
       "      <td>oldsmobile cutlass ciera (diesel)</td>\n",
       "    </tr>\n",
       "    <tr>\n",
       "      <th>194</th>\n",
       "      <td>24.5</td>\n",
       "      <td>4</td>\n",
       "      <td>98.0</td>\n",
       "      <td>60</td>\n",
       "      <td>2164</td>\n",
       "      <td>22.1</td>\n",
       "      <td>76</td>\n",
       "      <td>1</td>\n",
       "      <td>chevrolet woody</td>\n",
       "    </tr>\n",
       "    <tr>\n",
       "      <th>255</th>\n",
       "      <td>19.4</td>\n",
       "      <td>6</td>\n",
       "      <td>232.0</td>\n",
       "      <td>90</td>\n",
       "      <td>3210</td>\n",
       "      <td>17.2</td>\n",
       "      <td>78</td>\n",
       "      <td>1</td>\n",
       "      <td>amc concord</td>\n",
       "    </tr>\n",
       "    <tr>\n",
       "      <th>312</th>\n",
       "      <td>26.4</td>\n",
       "      <td>4</td>\n",
       "      <td>140.0</td>\n",
       "      <td>88</td>\n",
       "      <td>2870</td>\n",
       "      <td>18.1</td>\n",
       "      <td>80</td>\n",
       "      <td>1</td>\n",
       "      <td>ford fairmont</td>\n",
       "    </tr>\n",
       "    <tr>\n",
       "      <th>105</th>\n",
       "      <td>12.0</td>\n",
       "      <td>8</td>\n",
       "      <td>350.0</td>\n",
       "      <td>180</td>\n",
       "      <td>4499</td>\n",
       "      <td>12.5</td>\n",
       "      <td>73</td>\n",
       "      <td>1</td>\n",
       "      <td>oldsmobile vista cruiser</td>\n",
       "    </tr>\n",
       "    <tr>\n",
       "      <th>207</th>\n",
       "      <td>19.0</td>\n",
       "      <td>4</td>\n",
       "      <td>120.0</td>\n",
       "      <td>88</td>\n",
       "      <td>3270</td>\n",
       "      <td>21.9</td>\n",
       "      <td>76</td>\n",
       "      <td>2</td>\n",
       "      <td>peugeot 504</td>\n",
       "    </tr>\n",
       "    <tr>\n",
       "      <th>116</th>\n",
       "      <td>29.0</td>\n",
       "      <td>4</td>\n",
       "      <td>68.0</td>\n",
       "      <td>49</td>\n",
       "      <td>1867</td>\n",
       "      <td>19.5</td>\n",
       "      <td>73</td>\n",
       "      <td>2</td>\n",
       "      <td>fiat 128</td>\n",
       "    </tr>\n",
       "    <tr>\n",
       "      <th>48</th>\n",
       "      <td>23.0</td>\n",
       "      <td>4</td>\n",
       "      <td>122.0</td>\n",
       "      <td>86</td>\n",
       "      <td>2220</td>\n",
       "      <td>14.0</td>\n",
       "      <td>71</td>\n",
       "      <td>1</td>\n",
       "      <td>mercury capri 2000</td>\n",
       "    </tr>\n",
       "    <tr>\n",
       "      <th>257</th>\n",
       "      <td>20.8</td>\n",
       "      <td>6</td>\n",
       "      <td>200.0</td>\n",
       "      <td>85</td>\n",
       "      <td>3070</td>\n",
       "      <td>16.7</td>\n",
       "      <td>78</td>\n",
       "      <td>1</td>\n",
       "      <td>mercury zephyr</td>\n",
       "    </tr>\n",
       "    <tr>\n",
       "      <th>381</th>\n",
       "      <td>38.0</td>\n",
       "      <td>6</td>\n",
       "      <td>262.0</td>\n",
       "      <td>85</td>\n",
       "      <td>3015</td>\n",
       "      <td>17.0</td>\n",
       "      <td>82</td>\n",
       "      <td>1</td>\n",
       "      <td>oldsmobile cutlass ciera (diesel)</td>\n",
       "    </tr>\n",
       "    <tr>\n",
       "      <th>372</th>\n",
       "      <td>38.0</td>\n",
       "      <td>4</td>\n",
       "      <td>105.0</td>\n",
       "      <td>63</td>\n",
       "      <td>2125</td>\n",
       "      <td>14.7</td>\n",
       "      <td>82</td>\n",
       "      <td>1</td>\n",
       "      <td>plymouth horizon miser</td>\n",
       "    </tr>\n",
       "  </tbody>\n",
       "</table>\n",
       "</div>"
      ],
      "text/plain": [
       "      mpg  cylinders  displacement  horsepower  weight  acceleration  \\\n",
       "76   22.0          4         121.0          76    2511          18.0   \n",
       "242  43.1          4          90.0          48    1985          21.5   \n",
       "115  16.0          8         400.0         230    4278           9.5   \n",
       "138  14.0          8         304.0         150    4257          15.5   \n",
       "0    18.0          8         307.0         130    3504          12.0   \n",
       "162  21.0          6         231.0         110    3039          15.0   \n",
       "114  15.0          8         350.0         145    4082          13.0   \n",
       "45   22.0          4         140.0          72    2408          19.0   \n",
       "239  22.0          6         146.0          97    2815          14.5   \n",
       "209  16.5          6         168.0         120    3820          16.7   \n",
       "67   13.0          8         350.0         155    4502          13.5   \n",
       "192  22.5          6         232.0          90    3085          17.6   \n",
       "357  24.2          6         146.0         120    2930          13.8   \n",
       "334  27.2          4         135.0          84    2490          15.7   \n",
       "26   10.0          8         307.0         200    4376          15.0   \n",
       "345  34.1          4          91.0          68    1985          16.0   \n",
       "36   18.0          6         232.0         100    3288          15.5   \n",
       "242  43.1          4          90.0          48    1985          21.5   \n",
       "65   17.0          8         304.0         150    3672          11.5   \n",
       "381  38.0          6         262.0          85    3015          17.0   \n",
       "194  24.5          4          98.0          60    2164          22.1   \n",
       "255  19.4          6         232.0          90    3210          17.2   \n",
       "312  26.4          4         140.0          88    2870          18.1   \n",
       "105  12.0          8         350.0         180    4499          12.5   \n",
       "207  19.0          4         120.0          88    3270          21.9   \n",
       "116  29.0          4          68.0          49    1867          19.5   \n",
       "48   23.0          4         122.0          86    2220          14.0   \n",
       "257  20.8          6         200.0          85    3070          16.7   \n",
       "381  38.0          6         262.0          85    3015          17.0   \n",
       "372  38.0          4         105.0          63    2125          14.7   \n",
       "\n",
       "     model year  origin                           car name  \n",
       "76           72       2                volkswagen 411 (sw)  \n",
       "242          78       2    volkswagen rabbit custom diesel  \n",
       "115          73       1                 pontiac grand prix  \n",
       "138          74       1                   amc matador (sw)  \n",
       "0            70       1          chevrolet chevelle malibu  \n",
       "162          75       1                      buick skyhawk  \n",
       "114          73       1            chevrolet monte carlo s  \n",
       "45           71       1                chevrolet vega (sw)  \n",
       "239          77       3                         datsun 810  \n",
       "209          76       2                 mercedes-benz 280s  \n",
       "67           72       1               buick lesabre custom  \n",
       "192          76       1                         amc hornet  \n",
       "357          81       3                  datsun 810 maxima  \n",
       "334          81       1                   plymouth reliant  \n",
       "26           70       1                          chevy c20  \n",
       "345          81       3                        mazda glc 4  \n",
       "36           71       1                        amc matador  \n",
       "242          78       2    volkswagen rabbit custom diesel  \n",
       "65           72       1                 amc ambassador sst  \n",
       "381          82       1  oldsmobile cutlass ciera (diesel)  \n",
       "194          76       1                    chevrolet woody  \n",
       "255          78       1                        amc concord  \n",
       "312          80       1                      ford fairmont  \n",
       "105          73       1           oldsmobile vista cruiser  \n",
       "207          76       2                        peugeot 504  \n",
       "116          73       2                           fiat 128  \n",
       "48           71       1                 mercury capri 2000  \n",
       "257          78       1                     mercury zephyr  \n",
       "381          82       1  oldsmobile cutlass ciera (diesel)  \n",
       "372          82       1             plymouth horizon miser  "
      ]
     },
     "execution_count": 41,
     "metadata": {},
     "output_type": "execute_result"
    }
   ],
   "source": [
    "# same effect: \n",
    "auto.sample(30, replace = True)"
   ]
  },
  {
   "cell_type": "code",
   "execution_count": 42,
   "metadata": {},
   "outputs": [],
   "source": [
    "sample1_mpg = auto.sample(30, replace = True).mpg"
   ]
  },
  {
   "cell_type": "code",
   "execution_count": 43,
   "metadata": {},
   "outputs": [
    {
     "data": {
      "text/plain": [
       "23.836666666666666"
      ]
     },
     "execution_count": 43,
     "metadata": {},
     "output_type": "execute_result"
    }
   ],
   "source": [
    "sample1_mpg.mean()"
   ]
  },
  {
   "cell_type": "code",
   "execution_count": 44,
   "metadata": {},
   "outputs": [
    {
     "data": {
      "text/plain": [
       "7.201316131304646"
      ]
     },
     "execution_count": 44,
     "metadata": {},
     "output_type": "execute_result"
    }
   ],
   "source": [
    "sample1_mpg.std()"
   ]
  },
  {
   "cell_type": "code",
   "execution_count": 45,
   "metadata": {},
   "outputs": [],
   "source": [
    "sample2_mpg = auto.sample(30, replace = True).mpg"
   ]
  },
  {
   "cell_type": "markdown",
   "metadata": {},
   "source": [
    "We \"pickled\" two samples before and use these to work with"
   ]
  },
  {
   "cell_type": "code",
   "execution_count": 46,
   "metadata": {},
   "outputs": [],
   "source": [
    "# 'rb' -'b' stands for binary\n",
    "with open('sample.pkl', 'rb') as pkl_obj:\n",
    "    sample = pickle.load(pkl_obj)"
   ]
  },
  {
   "cell_type": "markdown",
   "metadata": {},
   "source": [
    "Load the second sample"
   ]
  },
  {
   "cell_type": "code",
   "execution_count": 47,
   "metadata": {},
   "outputs": [],
   "source": [
    "# alternatively\n",
    "sample2 = pd.read_pickle('sample2.pkl')"
   ]
  },
  {
   "cell_type": "code",
   "execution_count": 48,
   "metadata": {},
   "outputs": [
    {
     "data": {
      "text/html": [
       "<div>\n",
       "<style scoped>\n",
       "    .dataframe tbody tr th:only-of-type {\n",
       "        vertical-align: middle;\n",
       "    }\n",
       "\n",
       "    .dataframe tbody tr th {\n",
       "        vertical-align: top;\n",
       "    }\n",
       "\n",
       "    .dataframe thead th {\n",
       "        text-align: right;\n",
       "    }\n",
       "</style>\n",
       "<table border=\"1\" class=\"dataframe\">\n",
       "  <thead>\n",
       "    <tr style=\"text-align: right;\">\n",
       "      <th></th>\n",
       "      <th>mpg</th>\n",
       "      <th>cylinders</th>\n",
       "      <th>displacement</th>\n",
       "      <th>horsepower</th>\n",
       "      <th>weight</th>\n",
       "      <th>acceleration</th>\n",
       "      <th>model year</th>\n",
       "      <th>origin</th>\n",
       "      <th>car name</th>\n",
       "    </tr>\n",
       "  </thead>\n",
       "  <tbody>\n",
       "    <tr>\n",
       "      <th>12</th>\n",
       "      <td>15.0</td>\n",
       "      <td>8</td>\n",
       "      <td>400.0</td>\n",
       "      <td>150</td>\n",
       "      <td>3761</td>\n",
       "      <td>9.5</td>\n",
       "      <td>70</td>\n",
       "      <td>1</td>\n",
       "      <td>chevrolet monte carlo</td>\n",
       "    </tr>\n",
       "    <tr>\n",
       "      <th>195</th>\n",
       "      <td>29.0</td>\n",
       "      <td>4</td>\n",
       "      <td>90.0</td>\n",
       "      <td>70</td>\n",
       "      <td>1937</td>\n",
       "      <td>14.2</td>\n",
       "      <td>76</td>\n",
       "      <td>2</td>\n",
       "      <td>vw rabbit</td>\n",
       "    </tr>\n",
       "    <tr>\n",
       "      <th>287</th>\n",
       "      <td>16.9</td>\n",
       "      <td>8</td>\n",
       "      <td>350.0</td>\n",
       "      <td>155</td>\n",
       "      <td>4360</td>\n",
       "      <td>14.9</td>\n",
       "      <td>79</td>\n",
       "      <td>1</td>\n",
       "      <td>buick estate wagon (sw)</td>\n",
       "    </tr>\n",
       "    <tr>\n",
       "      <th>143</th>\n",
       "      <td>32.0</td>\n",
       "      <td>4</td>\n",
       "      <td>83.0</td>\n",
       "      <td>61</td>\n",
       "      <td>2003</td>\n",
       "      <td>19.0</td>\n",
       "      <td>74</td>\n",
       "      <td>3</td>\n",
       "      <td>datsun 710</td>\n",
       "    </tr>\n",
       "    <tr>\n",
       "      <th>383</th>\n",
       "      <td>22.0</td>\n",
       "      <td>6</td>\n",
       "      <td>232.0</td>\n",
       "      <td>112</td>\n",
       "      <td>2835</td>\n",
       "      <td>14.7</td>\n",
       "      <td>82</td>\n",
       "      <td>1</td>\n",
       "      <td>ford granada l</td>\n",
       "    </tr>\n",
       "  </tbody>\n",
       "</table>\n",
       "</div>"
      ],
      "text/plain": [
       "      mpg  cylinders  displacement  horsepower  weight  acceleration  \\\n",
       "12   15.0          8         400.0         150    3761           9.5   \n",
       "195  29.0          4          90.0          70    1937          14.2   \n",
       "287  16.9          8         350.0         155    4360          14.9   \n",
       "143  32.0          4          83.0          61    2003          19.0   \n",
       "383  22.0          6         232.0         112    2835          14.7   \n",
       "\n",
       "     model year  origin                 car name  \n",
       "12           70       1    chevrolet monte carlo  \n",
       "195          76       2                vw rabbit  \n",
       "287          79       1  buick estate wagon (sw)  \n",
       "143          74       3               datsun 710  \n",
       "383          82       1           ford granada l  "
      ]
     },
     "execution_count": 48,
     "metadata": {},
     "output_type": "execute_result"
    }
   ],
   "source": [
    "sample2.head()"
   ]
  },
  {
   "cell_type": "code",
   "execution_count": 49,
   "metadata": {},
   "outputs": [
    {
     "data": {
      "text/plain": [
       "(30, 9)"
      ]
     },
     "execution_count": 49,
     "metadata": {},
     "output_type": "execute_result"
    }
   ],
   "source": [
    "sample2.shape"
   ]
  },
  {
   "cell_type": "markdown",
   "metadata": {},
   "source": [
    "Let's load the original data. In this case, we will consider this data as \"population\""
   ]
  },
  {
   "cell_type": "code",
   "execution_count": 50,
   "metadata": {},
   "outputs": [],
   "source": [
    "auto = pd.read_csv('data/auto-mpg.csv')\n",
    "mu = auto.mpg.mean()\n",
    "sigma = auto.mpg.std(ddof=1)"
   ]
  },
  {
   "cell_type": "markdown",
   "metadata": {},
   "source": [
    "Here print population parameters $\\mu$ and $\\sigma$"
   ]
  },
  {
   "cell_type": "code",
   "execution_count": 51,
   "metadata": {},
   "outputs": [
    {
     "name": "stdout",
     "output_type": "stream",
     "text": [
      "population mean: 23.4459\n",
      "population standard deviation: 7.8050\n"
     ]
    }
   ],
   "source": [
    "print(f'population mean: {mu:.4f}', f'population standard deviation: {sigma:.4f}', sep = '\\n')"
   ]
  },
  {
   "cell_type": "markdown",
   "metadata": {},
   "source": [
    "The difference between the sample mean and the population mean is known as the **Sampling Error**.  \n",
    "\n",
    ">When using the sample mean to estimate the population mean, some possible error will be involved since random sample means are also random.\n",
    "\n",
    "### It's your turn again\n",
    "\n",
    "Repeat the sampling process you did above 1000 times and plot the result."
   ]
  },
  {
   "cell_type": "code",
   "execution_count": 52,
   "metadata": {},
   "outputs": [],
   "source": [
    "import matplotlib.pyplot as plt\n",
    "plt.style.use('fivethirtyeight')\n",
    "\n",
    "%matplotlib inline"
   ]
  },
  {
   "cell_type": "code",
   "execution_count": 53,
   "metadata": {},
   "outputs": [
    {
     "data": {
      "text/plain": [
       "(array([13., 78., 73., 58., 53., 48., 37., 22.,  4.,  6.]),\n",
       " array([ 9.  , 12.76, 16.52, 20.28, 24.04, 27.8 , 31.56, 35.32, 39.08,\n",
       "        42.84, 46.6 ]),\n",
       " <a list of 10 Patch objects>)"
      ]
     },
     "execution_count": 53,
     "metadata": {},
     "output_type": "execute_result"
    },
    {
     "data": {
      "image/png": "[encoded data removed]",
      "text/plain": [
       "<Figure size 432x288 with 1 Axes>"
      ]
     },
     "metadata": {
      "needs_background": "light"
     },
     "output_type": "display_data"
    }
   ],
   "source": [
    "plt.hist(auto.mpg)"
   ]
  },
  {
   "cell_type": "code",
   "execution_count": 54,
   "metadata": {},
   "outputs": [
    {
     "data": {
      "text/plain": [
       "7.805007486571799"
      ]
     },
     "execution_count": 54,
     "metadata": {},
     "output_type": "execute_result"
    }
   ],
   "source": [
    "auto.mpg.std()"
   ]
  },
  {
   "cell_type": "code",
   "execution_count": 55,
   "metadata": {},
   "outputs": [],
   "source": [
    "sample_means = []\n",
    "for i in range(1000):\n",
    "    mean = auto.sample(n=30).mpg.mean()\n",
    "    sample_means.append(mean)"
   ]
  },
  {
   "cell_type": "code",
   "execution_count": 56,
   "metadata": {},
   "outputs": [],
   "source": [
    "# list comprehension:\n",
    "sample_means2 = [auto.sample(n=30).mpg.mean() for i in range(1000)]"
   ]
  },
  {
   "cell_type": "code",
   "execution_count": 57,
   "metadata": {},
   "outputs": [
    {
     "data": {
      "text/plain": [
       "(array([  2.,   1.,   2.,  20.,  33.,  39.,  70.,  87., 119., 134., 132.,\n",
       "        124.,  82.,  55.,  48.,  26.,   8.,  11.,   6.,   1.]),\n",
       " array([18.85333333, 19.3155    , 19.77766667, 20.23983333, 20.702     ,\n",
       "        21.16416667, 21.62633333, 22.0885    , 22.55066667, 23.01283333,\n",
       "        23.475     , 23.93716667, 24.39933333, 24.8615    , 25.32366667,\n",
       "        25.78583333, 26.248     , 26.71016667, 27.17233333, 27.6345    ,\n",
       "        28.09666667]),\n",
       " <a list of 20 Patch objects>)"
      ]
     },
     "execution_count": 57,
     "metadata": {},
     "output_type": "execute_result"
    },
    {
     "data": {
      "image/png": "[encoded data removed]",
      "text/plain": [
       "<Figure size 432x288 with 1 Axes>"
      ]
     },
     "metadata": {
      "needs_background": "light"
     },
     "output_type": "display_data"
    }
   ],
   "source": [
    "# sample mean distribution looks like a normal distribution!\n",
    "plt.hist(sample_means, bins = 20)"
   ]
  },
  {
   "cell_type": "code",
   "execution_count": 58,
   "metadata": {},
   "outputs": [
    {
     "data": {
      "text/plain": [
       "1.41322453026783"
      ]
     },
     "execution_count": 58,
     "metadata": {},
     "output_type": "execute_result"
    }
   ],
   "source": [
    "np.std(sample_means, ddof=1)"
   ]
  },
  {
   "cell_type": "code",
   "execution_count": 59,
   "metadata": {},
   "outputs": [
    {
     "data": {
      "text/plain": [
       "1.4493521144718897"
      ]
     },
     "execution_count": 59,
     "metadata": {},
     "output_type": "execute_result"
    }
   ],
   "source": [
    "# standard error calc. If change n from 30 to 100, the std error above will go down a lot.\n",
    "# how did we get from auto.mpg.std() to np.std(sample_means, ddof=1)\n",
    "# experiment with different sample size n\n",
    "7.805/np.sqrt(30-1)"
   ]
  },
  {
   "cell_type": "code",
   "execution_count": 60,
   "metadata": {},
   "outputs": [],
   "source": [
    "import matplotlib.pyplot as plt\n",
    "plt.style.use('fivethirtyeight')\n",
    "\n",
    "%matplotlib inline"
   ]
  },
  {
   "cell_type": "code",
   "execution_count": 61,
   "metadata": {},
   "outputs": [
    {
     "data": {
      "text/plain": [
       "(array([  3.,  22.,  72., 157., 253., 256., 137.,  74.,  19.,   7.]),\n",
       " array([18.85333333, 19.77766667, 20.702     , 21.62633333, 22.55066667,\n",
       "        23.475     , 24.39933333, 25.32366667, 26.248     , 27.17233333,\n",
       "        28.09666667]),\n",
       " <a list of 10 Patch objects>)"
      ]
     },
     "execution_count": 61,
     "metadata": {},
     "output_type": "execute_result"
    },
    {
     "data": {
      "image/png": "[encoded data removed]",
      "text/plain": [
       "<Figure size 432x288 with 1 Axes>"
      ]
     },
     "metadata": {
      "needs_background": "light"
     },
     "output_type": "display_data"
    }
   ],
   "source": [
    "plt.hist(sample_means)"
   ]
  },
  {
   "cell_type": "code",
   "execution_count": 62,
   "metadata": {},
   "outputs": [
    {
     "data": {
      "text/plain": [
       "23.44591836734694"
      ]
     },
     "execution_count": 62,
     "metadata": {},
     "output_type": "execute_result"
    }
   ],
   "source": [
    "auto.mpg.mean()"
   ]
  },
  {
   "cell_type": "code",
   "execution_count": 63,
   "metadata": {},
   "outputs": [
    {
     "data": {
      "text/plain": [
       "24.146666666666665"
      ]
     },
     "execution_count": 63,
     "metadata": {},
     "output_type": "execute_result"
    }
   ],
   "source": [
    "sample.mpg.mean() \n",
    "# average of 100 sample means is close to auto mean"
   ]
  },
  {
   "cell_type": "code",
   "execution_count": 64,
   "metadata": {},
   "outputs": [
    {
     "data": {
      "text/plain": [
       "(30, 9)"
      ]
     },
     "execution_count": 64,
     "metadata": {},
     "output_type": "execute_result"
    }
   ],
   "source": [
    "sample.shape"
   ]
  },
  {
   "cell_type": "code",
   "execution_count": 65,
   "metadata": {},
   "outputs": [
    {
     "data": {
      "text/plain": [
       "list"
      ]
     },
     "execution_count": 65,
     "metadata": {},
     "output_type": "execute_result"
    }
   ],
   "source": [
    "type(sample_means)"
   ]
  },
  {
   "cell_type": "code",
   "execution_count": 67,
   "metadata": {},
   "outputs": [
    {
     "data": {
      "image/png": "[encoded data removed]",
      "text/plain": [
       "<Figure size 432x288 with 1 Axes>"
      ]
     },
     "metadata": {
      "needs_background": "light"
     },
     "output_type": "display_data"
    }
   ],
   "source": [
    "# %load -r 9-22 supplement.py\n",
    "# n=30 is a magic number that makes distribution more normal\n",
    "# taking repeating samples from auto dataset\n",
    "thousand_rand_samp = [auto.sample(n=5, replace = True).mpg.mean() for i in range(1000)]\n",
    "\n",
    "bars = plt.hist(thousand_rand_samp, bins = 15)\n",
    "\n",
    "plt.vlines(x=mu, ymin=0,\n",
    "           ymax=bars[0].max() + 1,\n",
    "           color='r', label='pop mean')\n",
    "plt.xticks(range(17, 29))\n",
    "plt.xlabel('sample_means')\n",
    "plt.ylabel('frequencies of sample means')\n",
    "\n",
    "plt.legend()\n",
    "plt.show()"
   ]
  },
  {
   "cell_type": "code",
   "execution_count": 68,
   "metadata": {},
   "outputs": [
    {
     "data": {
      "image/png": "[encoded data removed]",
      "text/plain": [
       "<Figure size 432x288 with 1 Axes>"
      ]
     },
     "metadata": {
      "needs_background": "light"
     },
     "output_type": "display_data"
    }
   ],
   "source": [
    "# the n only becomes truly useful when it gets close to 30\n",
    "thousand_rand_samp = [auto.sample(n=30, replace = True).mpg.mean() for i in range(1000)]\n",
    "\n",
    "bars = plt.hist(thousand_rand_samp)\n",
    "\n",
    "plt.vlines(x=mu, ymin=0,\n",
    "           ymax=bars[0].max() + 1,\n",
    "           color='r', label='pop mean')\n",
    "plt.xticks(range(17, 29))\n",
    "plt.xlabel('sample_means')\n",
    "plt.ylabel('frequencies of sample means')\n",
    "\n",
    "plt.legend()\n",
    "plt.show()"
   ]
  },
  {
   "cell_type": "code",
   "execution_count": 37,
   "metadata": {},
   "outputs": [
    {
     "data": {
      "text/plain": [
       "1.424992887297358"
      ]
     },
     "execution_count": 37,
     "metadata": {},
     "output_type": "execute_result"
    }
   ],
   "source": [
    "sigma = auto.mpg.std()\n",
    "\n",
    "\n",
    "standard_error = sigma / (np.sqrt(30))\n",
    "\n",
    "standard_error"
   ]
  },
  {
   "cell_type": "code",
   "execution_count": 38,
   "metadata": {},
   "outputs": [],
   "source": [
    "# Calculate confidence interval\n",
    "# The band gets narrower and narrower as sample size goes up!\n",
    "confidence_interval_lower = sample.mpg.mean() - 2*standard_error\n",
    "\n",
    "confidence_interval_upper = sample.mpg.mean() + 2*standard_error"
   ]
  },
  {
   "cell_type": "code",
   "execution_count": 39,
   "metadata": {},
   "outputs": [
    {
     "data": {
      "text/plain": [
       "21.296680892071947"
      ]
     },
     "execution_count": 39,
     "metadata": {},
     "output_type": "execute_result"
    }
   ],
   "source": [
    "confidence_interval_lower"
   ]
  },
  {
   "cell_type": "code",
   "execution_count": 40,
   "metadata": {},
   "outputs": [
    {
     "data": {
      "text/plain": [
       "26.996652441261382"
      ]
     },
     "execution_count": 40,
     "metadata": {},
     "output_type": "execute_result"
    }
   ],
   "source": [
    "confidence_interval_upper"
   ]
  },
  {
   "cell_type": "code",
   "execution_count": null,
   "metadata": {},
   "outputs": [],
   "source": [
    "confidence_interval_lower_2 = sample2.mpg.mean() - 2*standard_error\n",
    "\n",
    "confidence_interval_upper_2 = sample2.mpg.mean() + 2*standard_error"
   ]
  },
  {
   "cell_type": "code",
   "execution_count": null,
   "metadata": {},
   "outputs": [],
   "source": [
    "sample3 = auto.sample(n=30)\n",
    "\n",
    "confidence_interval_lower_3 = sample3.mpg.mean() - 2*standard_error\n",
    "\n",
    "confidence_interval_upper_3 = sample3.mpg.mean() + 2*standard_error"
   ]
  },
  {
   "cell_type": "code",
   "execution_count": null,
   "metadata": {},
   "outputs": [],
   "source": [
    "confidence_interval_lower_3"
   ]
  },
  {
   "cell_type": "code",
   "execution_count": null,
   "metadata": {},
   "outputs": [],
   "source": [
    "confidence_interval_upper_3"
   ]
  },
  {
   "cell_type": "code",
   "execution_count": null,
   "metadata": {},
   "outputs": [],
   "source": [
    "auto.mpg.mean()"
   ]
  },
  {
   "cell_type": "markdown",
   "metadata": {},
   "source": [
    "# Central Limit Theorem\n",
    "\n",
    "The Central Limit Theorem states: \n",
    ">When you add **a large number** of independent random variables, irrespective of the original distribution of these variables, **their sampling mean distribution tends towards a normal distribution** with mean equals to the mean of the original population and the standard deviation equals to $\\frac{\\sigma}{\\sqrt{n}}$.\n",
    "\n",
    "\n",
    "\n",
    "\n",
    "\n",
    "The standard error of the mean is the standard deviation of the sampling distribution.\n",
    "The issue is that a sample is not an exact replica of the population. We need to account for the fact that in order to make our estimate of the $\\mu$ value possible. Let's break it down:\n",
    "\n",
    "## Standard Error\n",
    "\n",
    "$$\\sigma _{\\bar{X}} = \\frac{\\sigma }{\\sqrt{n}}$$\n",
    "\n",
    "* $ \\sigma _{x}$ = standard error of $\\bar{x} $\n",
    "* $ \\sigma $ = standard deviation of population\n",
    "\n",
    "\n",
    "**What if we do not know the population sigma?**<br>\n",
    "If we do not know the population standard deviation, we can approximate for it by used the sample standard deviation.\n",
    "\n",
    "$\\sigma _{x} ≈ \\frac{s}{\\sqrt{n}}$\n",
    "\n",
    "* s = sample standard deviation\n",
    "\n",
    "But in this case, distribution shape is not 'normal' anymore. In this case the shape will be call 'T-distribution'. We will study this later in more details.\n",
    "\n",
    "\n",
    "**Sample size impact on standard error of mean**<br>\n",
    "\n",
    "Q: How should sample size influence standard error of the mean?\n",
    "\n",
    "\n",
    "![error](./img/diminishing_error.png)\n",
    "Important implication: The Standard Error of the mean remains the same as long as the population standard deviation is known and sample size remains the same.\n",
    "\n",
    "\n",
    "__Note-1__ In the case of finite sampling, we need to adjust the formula for standard error:\n",
    "\n",
    "<img src=\"img/standard_deviation_of_x_bar.png\" width=\"650\">\n",
    "\n",
    "\n",
    "__Note-2__ Note that in CLT the shape of initial distribution is not important! With enough sample size we can always achieve a distribution very close to normal one.\n",
    "\n",
    "<img src=\"img/clt_with_different.png\" width=\"650\">\n",
    "\n",
    "\n",
    "## Interval Estimation - Confidence Intervals\n",
    "\n",
    "Q: Let's assume that we have a sample of size=49 and we know the standard deviation of the population is $\\sigma = 5$. If we know that sampling mean is $\\bar{x} = 20$. What might be a good estimate for the population mean if we also know that the population mean is bigger than 20?\n",
    "\n",
    "Hint: What do we mean by 'a good estimate'?"
   ]
  },
  {
   "cell_type": "markdown",
   "metadata": {},
   "source": [
    "[Z-scores](https://www.mathsisfun.com/data/standard-normal-distribution-table.html)\n",
    "\n",
    "<img src=\"img/interval_estimation.png\" width=\"650\">"
   ]
  },
  {
   "cell_type": "markdown",
   "metadata": {},
   "source": [
    "Objective is to create a 99% confidence interval around the sample mean of mpg."
   ]
  },
  {
   "cell_type": "code",
   "execution_count": 41,
   "metadata": {},
   "outputs": [
    {
     "data": {
      "text/plain": [
       "24.146666666666665"
      ]
     },
     "execution_count": 41,
     "metadata": {},
     "output_type": "execute_result"
    }
   ],
   "source": [
    "x_bar = sample.mpg.mean()\n",
    "x_bar"
   ]
  },
  {
   "cell_type": "code",
   "execution_count": 52,
   "metadata": {},
   "outputs": [
    {
     "data": {
      "text/plain": [
       "7.805007486571799"
      ]
     },
     "execution_count": 52,
     "metadata": {},
     "output_type": "execute_result"
    }
   ],
   "source": [
    "sigma_mpg = auto.mpg.std(ddof=1)\n",
    "sigma_mpg"
   ]
  },
  {
   "cell_type": "code",
   "execution_count": 53,
   "metadata": {},
   "outputs": [
    {
     "data": {
      "text/plain": [
       "7.805007486571799"
      ]
     },
     "execution_count": 53,
     "metadata": {},
     "output_type": "execute_result"
    }
   ],
   "source": [
    "sigma"
   ]
  },
  {
   "cell_type": "code",
   "execution_count": 43,
   "metadata": {},
   "outputs": [
    {
     "data": {
      "text/plain": [
       "30"
      ]
     },
     "execution_count": 43,
     "metadata": {},
     "output_type": "execute_result"
    }
   ],
   "source": [
    "n = sample.shape[0]\n",
    "n"
   ]
  },
  {
   "cell_type": "code",
   "execution_count": 45,
   "metadata": {},
   "outputs": [
    {
     "data": {
      "text/plain": [
       "1.4493535046933719"
      ]
     },
     "execution_count": 45,
     "metadata": {},
     "output_type": "execute_result"
    }
   ],
   "source": [
    "# step size\n",
    "sigma_sampling_mean = sigma / np.sqrt(n-1)\n",
    "sigma_sampling_mean"
   ]
  },
  {
   "cell_type": "code",
   "execution_count": null,
   "metadata": {},
   "outputs": [],
   "source": [
    "# confidence level %99\n",
    "z_alpha_2 ="
   ]
  },
  {
   "cell_type": "code",
   "execution_count": null,
   "metadata": {},
   "outputs": [],
   "source": [
    "plt.hist(sample_means)"
   ]
  },
  {
   "cell_type": "code",
   "execution_count": 47,
   "metadata": {},
   "outputs": [],
   "source": [
    "import scipy.stats as stats\n"
   ]
  },
  {
   "cell_type": "code",
   "execution_count": 49,
   "metadata": {},
   "outputs": [
    {
     "data": {
      "text/plain": [
       "2.3263478740408408"
      ]
     },
     "execution_count": 49,
     "metadata": {},
     "output_type": "execute_result"
    }
   ],
   "source": [
    "# confidence level %99\n",
    "z_alpha_2 = -stats.norm.ppf(0.01)\n",
    "z_alpha_2"
   ]
  },
  {
   "cell_type": "code",
   "execution_count": 50,
   "metadata": {},
   "outputs": [
    {
     "data": {
      "text/plain": [
       "(20.7749662222896, 27.51836711104373)"
      ]
     },
     "execution_count": 50,
     "metadata": {},
     "output_type": "execute_result"
    }
   ],
   "source": [
    "(x_bar - z_alpha_2 * sigma_sampling_mean, x_bar + z_alpha_2 * sigma_sampling_mean)"
   ]
  },
  {
   "cell_type": "code",
   "execution_count": null,
   "metadata": {},
   "outputs": [],
   "source": [
    "auto.mpg.mean()"
   ]
  },
  {
   "cell_type": "code",
   "execution_count": 51,
   "metadata": {},
   "outputs": [
    {
     "name": "stdout",
     "output_type": "stream",
     "text": [
      "1.959963984540054\n"
     ]
    },
    {
     "data": {
      "image/png": "[encoded data removed]",
      "text/plain": [
       "<Figure size 432x288 with 1 Axes>"
      ]
     },
     "metadata": {
      "needs_background": "light"
     },
     "output_type": "display_data"
    }
   ],
   "source": [
    "import matplotlib.pyplot as plt\n",
    "import numpy as np\n",
    "import scipy.stats as stats\n",
    "import math\n",
    "%matplotlib inline\n",
    "\n",
    "\n",
    "# suppose population mu is 21\n",
    "mu = 21\n",
    "# sample mean gives us a point estimator\n",
    "point_estimator = 20\n",
    "\n",
    "# we know population variance is 49\n",
    "std_error = 5/(np.sqrt(49))\n",
    "\n",
    "\n",
    "# how much confidence do we require\n",
    "confidence = 0.95\n",
    "\n",
    "# alpha\n",
    "alpha = 1 - confidence\n",
    "\n",
    "# due to symmetry we divided alpha by 2\n",
    "# note that to find z_alpha_over_2 we used\n",
    "# standard normal distribution\n",
    "\n",
    "z_alpha_over_2 = np.abs(stats.norm.ppf(alpha/2))\n",
    "\n",
    "print(z_alpha_over_2)\n",
    "\n",
    "\n",
    "# upper bound gives us a value so that\n",
    "# 2*(the area between point_estimator - upper_bound) = confidence\n",
    "\n",
    "upper_bound = point_estimator + z_alpha_over_2 * std_error\n",
    "\n",
    "# now let's plot these\n",
    "\n",
    "# a normal distribution with mean=mu and std=sigma\n",
    "x = np.linspace(mu - 4*std_error, mu + 4*std_error, 100)\n",
    "plt.plot(x, stats.norm.pdf(x, mu, std_error))\n",
    "\n",
    "# a vertical line to mark point estimator\n",
    "plt.vlines(point_estimator, ymin=0,\n",
    "           ymax=stats.norm.pdf(point_estimator, mu, std_error))\n",
    "\n",
    "# a vertical line for population mu\n",
    "plt.vlines(mu, ymin=0,\n",
    "           ymax=stats.norm.pdf(mu, mu, std_error),\n",
    "           color='g')\n",
    "\n",
    "# a vertical line for upper bound\n",
    "plt.vlines(upper_bound, ymin=0,\n",
    "           ymax=stats.norm.pdf(upper_bound,\n",
    "                               mu, std_error))\n",
    "\n",
    "\n",
    "# fill the area between upper_bound and point_estimator\n",
    "plt.fill_between(x=np.linspace(point_estimator, upper_bound, 100),\n",
    "                 y1=stats.norm.pdf(np.linspace(point_estimator,\n",
    "                                               upper_bound, 100), mu, std_error),\n",
    "                 facecolor='blue',\n",
    "                 alpha=0.35,\n",
    "                 label='btwn point estimator and\\n upper bound')\n",
    "\n",
    "# fill the area between point estimator and the left of it\n",
    "plt.fill_between(x=np.linspace(mu - 4*std_error, point_estimator, 100),\n",
    "                 y1=stats.norm.pdf(np.linspace(\n",
    "                     mu - 4*std_error, point_estimator, 100), mu, std_error),\n",
    "                 facecolor='red',\n",
    "                 alpha=0.35,\n",
    "                 label='red area %.3f' % (stats.norm.cdf(point_estimator, mu, std_error)))\n",
    "\n",
    "plt.legend(loc='upper right')\n",
    "plt.show()"
   ]
  },
  {
   "cell_type": "markdown",
   "metadata": {},
   "source": [
    "\n"
   ]
  }
 ],
 "metadata": {
  "kernelspec": {
   "display_name": "Python 3",
   "language": "python",
   "name": "python3"
  },
  "language_info": {
   "codemirror_mode": {
    "name": "ipython",
    "version": 3
   },
   "file_extension": ".py",
   "mimetype": "text/x-python",
   "name": "python",
   "nbconvert_exporter": "python",
   "pygments_lexer": "ipython3",
   "version": "3.7.6"
  },
  "toc": {
   "base_numbering": 1,
   "nav_menu": {},
   "number_sections": true,
   "sideBar": true,
   "skip_h1_title": false,
   "title_cell": "Table of Contents",
   "title_sidebar": "Contents",
   "toc_cell": false,
   "toc_position": {},
   "toc_section_display": true,
   "toc_window_display": false
  }
 },
 "nbformat": 4,
 "nbformat_minor": 2
}
