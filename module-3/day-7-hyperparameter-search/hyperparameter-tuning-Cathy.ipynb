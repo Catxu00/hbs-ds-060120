{
 "cells": [
  {
   "cell_type": "markdown",
   "metadata": {},
   "source": [
    "# Objectives\n",
    "\n",
    "- Assess the performance of machine learning models\n",
    "\n",
    "- Diagnose the common problems in machine learning algorithms \n",
    "\n",
    "- Evaluate the predictive models using the different performance metrics\n"
   ]
  },
  {
   "cell_type": "code",
   "execution_count": 1,
   "metadata": {},
   "outputs": [],
   "source": [
    "import pandas as pd"
   ]
  },
  {
   "cell_type": "code",
   "execution_count": 6,
   "metadata": {},
   "outputs": [],
   "source": [
    "df = pd.read_csv('http://archive.ics.uci.edu/ml/machine-learning-databases/breast-cancer-wisconsin/wdbc.data',\n",
    "                 header=None, index_col=0)"
   ]
  },
  {
   "cell_type": "code",
   "execution_count": 7,
   "metadata": {},
   "outputs": [
    {
     "data": {
      "text/html": [
       "<div>\n",
       "<style scoped>\n",
       "    .dataframe tbody tr th:only-of-type {\n",
       "        vertical-align: middle;\n",
       "    }\n",
       "\n",
       "    .dataframe tbody tr th {\n",
       "        vertical-align: top;\n",
       "    }\n",
       "\n",
       "    .dataframe thead th {\n",
       "        text-align: right;\n",
       "    }\n",
       "</style>\n",
       "<table border=\"1\" class=\"dataframe\">\n",
       "  <thead>\n",
       "    <tr style=\"text-align: right;\">\n",
       "      <th></th>\n",
       "      <th>1</th>\n",
       "      <th>2</th>\n",
       "      <th>3</th>\n",
       "      <th>4</th>\n",
       "      <th>5</th>\n",
       "      <th>6</th>\n",
       "      <th>7</th>\n",
       "      <th>8</th>\n",
       "      <th>9</th>\n",
       "      <th>10</th>\n",
       "      <th>...</th>\n",
       "      <th>22</th>\n",
       "      <th>23</th>\n",
       "      <th>24</th>\n",
       "      <th>25</th>\n",
       "      <th>26</th>\n",
       "      <th>27</th>\n",
       "      <th>28</th>\n",
       "      <th>29</th>\n",
       "      <th>30</th>\n",
       "      <th>31</th>\n",
       "    </tr>\n",
       "    <tr>\n",
       "      <th>0</th>\n",
       "      <th></th>\n",
       "      <th></th>\n",
       "      <th></th>\n",
       "      <th></th>\n",
       "      <th></th>\n",
       "      <th></th>\n",
       "      <th></th>\n",
       "      <th></th>\n",
       "      <th></th>\n",
       "      <th></th>\n",
       "      <th></th>\n",
       "      <th></th>\n",
       "      <th></th>\n",
       "      <th></th>\n",
       "      <th></th>\n",
       "      <th></th>\n",
       "      <th></th>\n",
       "      <th></th>\n",
       "      <th></th>\n",
       "      <th></th>\n",
       "      <th></th>\n",
       "    </tr>\n",
       "  </thead>\n",
       "  <tbody>\n",
       "    <tr>\n",
       "      <th>842302</th>\n",
       "      <td>M</td>\n",
       "      <td>17.99</td>\n",
       "      <td>10.38</td>\n",
       "      <td>122.80</td>\n",
       "      <td>1001.0</td>\n",
       "      <td>0.11840</td>\n",
       "      <td>0.27760</td>\n",
       "      <td>0.3001</td>\n",
       "      <td>0.14710</td>\n",
       "      <td>0.2419</td>\n",
       "      <td>...</td>\n",
       "      <td>25.38</td>\n",
       "      <td>17.33</td>\n",
       "      <td>184.60</td>\n",
       "      <td>2019.0</td>\n",
       "      <td>0.1622</td>\n",
       "      <td>0.6656</td>\n",
       "      <td>0.7119</td>\n",
       "      <td>0.2654</td>\n",
       "      <td>0.4601</td>\n",
       "      <td>0.11890</td>\n",
       "    </tr>\n",
       "    <tr>\n",
       "      <th>842517</th>\n",
       "      <td>M</td>\n",
       "      <td>20.57</td>\n",
       "      <td>17.77</td>\n",
       "      <td>132.90</td>\n",
       "      <td>1326.0</td>\n",
       "      <td>0.08474</td>\n",
       "      <td>0.07864</td>\n",
       "      <td>0.0869</td>\n",
       "      <td>0.07017</td>\n",
       "      <td>0.1812</td>\n",
       "      <td>...</td>\n",
       "      <td>24.99</td>\n",
       "      <td>23.41</td>\n",
       "      <td>158.80</td>\n",
       "      <td>1956.0</td>\n",
       "      <td>0.1238</td>\n",
       "      <td>0.1866</td>\n",
       "      <td>0.2416</td>\n",
       "      <td>0.1860</td>\n",
       "      <td>0.2750</td>\n",
       "      <td>0.08902</td>\n",
       "    </tr>\n",
       "    <tr>\n",
       "      <th>84300903</th>\n",
       "      <td>M</td>\n",
       "      <td>19.69</td>\n",
       "      <td>21.25</td>\n",
       "      <td>130.00</td>\n",
       "      <td>1203.0</td>\n",
       "      <td>0.10960</td>\n",
       "      <td>0.15990</td>\n",
       "      <td>0.1974</td>\n",
       "      <td>0.12790</td>\n",
       "      <td>0.2069</td>\n",
       "      <td>...</td>\n",
       "      <td>23.57</td>\n",
       "      <td>25.53</td>\n",
       "      <td>152.50</td>\n",
       "      <td>1709.0</td>\n",
       "      <td>0.1444</td>\n",
       "      <td>0.4245</td>\n",
       "      <td>0.4504</td>\n",
       "      <td>0.2430</td>\n",
       "      <td>0.3613</td>\n",
       "      <td>0.08758</td>\n",
       "    </tr>\n",
       "    <tr>\n",
       "      <th>84348301</th>\n",
       "      <td>M</td>\n",
       "      <td>11.42</td>\n",
       "      <td>20.38</td>\n",
       "      <td>77.58</td>\n",
       "      <td>386.1</td>\n",
       "      <td>0.14250</td>\n",
       "      <td>0.28390</td>\n",
       "      <td>0.2414</td>\n",
       "      <td>0.10520</td>\n",
       "      <td>0.2597</td>\n",
       "      <td>...</td>\n",
       "      <td>14.91</td>\n",
       "      <td>26.50</td>\n",
       "      <td>98.87</td>\n",
       "      <td>567.7</td>\n",
       "      <td>0.2098</td>\n",
       "      <td>0.8663</td>\n",
       "      <td>0.6869</td>\n",
       "      <td>0.2575</td>\n",
       "      <td>0.6638</td>\n",
       "      <td>0.17300</td>\n",
       "    </tr>\n",
       "    <tr>\n",
       "      <th>84358402</th>\n",
       "      <td>M</td>\n",
       "      <td>20.29</td>\n",
       "      <td>14.34</td>\n",
       "      <td>135.10</td>\n",
       "      <td>1297.0</td>\n",
       "      <td>0.10030</td>\n",
       "      <td>0.13280</td>\n",
       "      <td>0.1980</td>\n",
       "      <td>0.10430</td>\n",
       "      <td>0.1809</td>\n",
       "      <td>...</td>\n",
       "      <td>22.54</td>\n",
       "      <td>16.67</td>\n",
       "      <td>152.20</td>\n",
       "      <td>1575.0</td>\n",
       "      <td>0.1374</td>\n",
       "      <td>0.2050</td>\n",
       "      <td>0.4000</td>\n",
       "      <td>0.1625</td>\n",
       "      <td>0.2364</td>\n",
       "      <td>0.07678</td>\n",
       "    </tr>\n",
       "  </tbody>\n",
       "</table>\n",
       "<p>5 rows × 31 columns</p>\n",
       "</div>"
      ],
      "text/plain": [
       "         1      2      3       4       5        6        7       8        9   \\\n",
       "0                                                                              \n",
       "842302    M  17.99  10.38  122.80  1001.0  0.11840  0.27760  0.3001  0.14710   \n",
       "842517    M  20.57  17.77  132.90  1326.0  0.08474  0.07864  0.0869  0.07017   \n",
       "84300903  M  19.69  21.25  130.00  1203.0  0.10960  0.15990  0.1974  0.12790   \n",
       "84348301  M  11.42  20.38   77.58   386.1  0.14250  0.28390  0.2414  0.10520   \n",
       "84358402  M  20.29  14.34  135.10  1297.0  0.10030  0.13280  0.1980  0.10430   \n",
       "\n",
       "              10  ...     22     23      24      25      26      27      28  \\\n",
       "0                 ...                                                         \n",
       "842302    0.2419  ...  25.38  17.33  184.60  2019.0  0.1622  0.6656  0.7119   \n",
       "842517    0.1812  ...  24.99  23.41  158.80  1956.0  0.1238  0.1866  0.2416   \n",
       "84300903  0.2069  ...  23.57  25.53  152.50  1709.0  0.1444  0.4245  0.4504   \n",
       "84348301  0.2597  ...  14.91  26.50   98.87   567.7  0.2098  0.8663  0.6869   \n",
       "84358402  0.1809  ...  22.54  16.67  152.20  1575.0  0.1374  0.2050  0.4000   \n",
       "\n",
       "              29      30       31  \n",
       "0                                  \n",
       "842302    0.2654  0.4601  0.11890  \n",
       "842517    0.1860  0.2750  0.08902  \n",
       "84300903  0.2430  0.3613  0.08758  \n",
       "84348301  0.2575  0.6638  0.17300  \n",
       "84358402  0.1625  0.2364  0.07678  \n",
       "\n",
       "[5 rows x 31 columns]"
      ]
     },
     "execution_count": 7,
     "metadata": {},
     "output_type": "execute_result"
    }
   ],
   "source": [
    "df.head()"
   ]
  },
  {
   "cell_type": "code",
   "execution_count": 8,
   "metadata": {},
   "outputs": [],
   "source": [
    "target = df[1]"
   ]
  },
  {
   "cell_type": "code",
   "execution_count": 9,
   "metadata": {},
   "outputs": [
    {
     "data": {
      "text/plain": [
       "B    357\n",
       "M    212\n",
       "Name: 1, dtype: int64"
      ]
     },
     "execution_count": 9,
     "metadata": {},
     "output_type": "execute_result"
    }
   ],
   "source": [
    "target.value_counts()"
   ]
  },
  {
   "cell_type": "code",
   "execution_count": 11,
   "metadata": {},
   "outputs": [],
   "source": [
    "from sklearn.preprocessing import LabelEncoder"
   ]
  },
  {
   "cell_type": "markdown",
   "metadata": {},
   "source": [
    "Take the independent variables as X and the column 1 as dependent variable. Use LabelEncoder for converting labels into integers."
   ]
  },
  {
   "cell_type": "code",
   "execution_count": 12,
   "metadata": {},
   "outputs": [
    {
     "name": "stdout",
     "output_type": "stream",
     "text": [
      " Actual y labels: ['M' 'M' 'M' 'M' 'M']\n",
      " Transformed y values: [1 1 1 1 1]\n",
      " All labels available in the data ['B' 'M']\n"
     ]
    }
   ],
   "source": [
    "# the 2: is column name 2, not position since .loc is used. \n",
    "X = df.loc[:,2:].values\n",
    "y = df.loc[:, 1].values\n",
    "le = LabelEncoder() # instantiate LabelEncoder \n",
    "y = le.fit_transform(y) # Fit le object and then transform labels to integers \n",
    "print(' Actual y labels: {}\\n'.format(df.loc[:, 1].values[:5]),\n",
    "      'Transformed y values: {}\\n'.format(y[:5]),\n",
    "      'All labels available in the data {}'.format(le.classes_))"
   ]
  },
  {
   "cell_type": "code",
   "execution_count": null,
   "metadata": {},
   "outputs": [],
   "source": [
    "# This is the same as, LabelEncoder just allows us to put it in a pipeline. \n",
    "df[1].map({'M':1, 'B':0})"
   ]
  },
  {
   "cell_type": "code",
   "execution_count": 13,
   "metadata": {},
   "outputs": [
    {
     "name": "stdout",
     "output_type": "stream",
     "text": [
      "(array([0, 1]), array([357, 212]))\n",
      "(array(['B', 'M'], dtype=object), array([357, 212]))\n"
     ]
    }
   ],
   "source": [
    "import numpy as np\n",
    "print(np.unique(y, return_counts = True)) # number of 1's and 0's after transformation\n",
    "print(np.unique(df.loc[:, 1], return_counts = True)) # Counts for each label in the original data"
   ]
  },
  {
   "cell_type": "code",
   "execution_count": 14,
   "metadata": {},
   "outputs": [
    {
     "data": {
      "text/plain": [
       "0.37258347978910367"
      ]
     },
     "execution_count": 14,
     "metadata": {},
     "output_type": "execute_result"
    }
   ],
   "source": [
    "y.mean()"
   ]
  },
  {
   "cell_type": "markdown",
   "metadata": {},
   "source": [
    "__Train test split__"
   ]
  },
  {
   "cell_type": "code",
   "execution_count": 15,
   "metadata": {},
   "outputs": [],
   "source": [
    "from sklearn.model_selection import train_test_split"
   ]
  },
  {
   "cell_type": "code",
   "execution_count": 16,
   "metadata": {},
   "outputs": [],
   "source": [
    "X_train, X_test, y_train, y_test = train_test_split(X, y, stratify = y, random_state = 1)"
   ]
  },
  {
   "cell_type": "markdown",
   "metadata": {},
   "source": [
    "__Pipelines: Transformers and Estimators__ "
   ]
  },
  {
   "cell_type": "code",
   "execution_count": 63,
   "metadata": {},
   "outputs": [],
   "source": [
    "# preprocessing tools\n",
    "from sklearn.preprocessing import StandardScaler # for scaling the features\n",
    "from sklearn.preprocessing import PolynomialFeatures # for checking interaction effect between features\n",
    "\n",
    "## models\n",
    "from sklearn.linear_model import LogisticRegression\n",
    "from sklearn.neighbors import KNeighborsClassifier\n",
    "from sklearn.tree import DecisionTreeClassifier\n",
    "    \n",
    "# for pipelines\n",
    "from sklearn.pipeline import make_pipeline"
   ]
  },
  {
   "cell_type": "code",
   "execution_count": 64,
   "metadata": {},
   "outputs": [
    {
     "data": {
      "text/plain": [
       "0.9976525821596244"
      ]
     },
     "execution_count": 64,
     "metadata": {},
     "output_type": "execute_result"
    }
   ],
   "source": [
    "## Let's start with Logistic Regression'\n",
    "\n",
    "log_pipe = make_pipeline(StandardScaler(), # if we want to use regularization we need scaler \n",
    "                         PolynomialFeatures(degree=2, interaction_only= True), # we will only check the interactions, \n",
    "                         LogisticRegression(random_state = 1, solver = 'lbfgs'))\n",
    "\n",
    "## Without further ado check the baseline\n",
    "\n",
    "log_pipe.fit(X_train, y_train) # pipe behaves like sklearn estimator.\n",
    "\n",
    "y_pred = log_pipe.predict(X_train) # predictions of vanilla log_reg model.\n",
    "\n",
    "log_pipe.score(X_train, y_train) # score looks pretty impressive can we expect similar performance on the test?"
   ]
  },
  {
   "cell_type": "markdown",
   "metadata": {},
   "source": [
    "__An overview look for the pipelines__\n",
    "\n",
    "<img src='img/pipelines.png' width = 450/>\n",
    "\n",
    "[Source: Python Machine Learning](https://www.amazon.com/dp/1789955750?tag=duckduckgo-ffab-20&linkCode=osi&th=1&psc=1)"
   ]
  },
  {
   "cell_type": "markdown",
   "metadata": {},
   "source": [
    "__Cross validation with pipelines__"
   ]
  },
  {
   "cell_type": "markdown",
   "metadata": {},
   "source": [
    "__Holdout Cross_Validation__\n",
    "<img src= 'img/cross_validation.png' width = 450/>"
   ]
  },
  {
   "cell_type": "markdown",
   "metadata": {},
   "source": [
    "__Kfold Cross_Validation__\n",
    "\n",
    "<img src = 'img/kfold_cross.png' width= 450/>"
   ]
  },
  {
   "cell_type": "markdown",
   "metadata": {},
   "source": [
    "__Understanding Over or Underfitting__"
   ]
  },
  {
   "cell_type": "code",
   "execution_count": null,
   "metadata": {},
   "outputs": [],
   "source": [
    "import numpy as np"
   ]
  },
  {
   "cell_type": "code",
   "execution_count": null,
   "metadata": {},
   "outputs": [],
   "source": [
    "from sklearn.model_selection import validation_curve\n",
    "\n",
    "parameters = [0.01, 0.1, 1, 10, 100] # we will be checking the regularization parameter in Log_reg\n",
    "\n",
    "# we could do the same thing with\n",
    "\n",
    "parameters = np.logspace(-3,2,5)\n",
    "\n",
    "np.set_printoptions(suppress= True)\n",
    "\n",
    "parameters"
   ]
  },
  {
   "cell_type": "markdown",
   "metadata": {},
   "source": [
    "Now let's see how the train and validation scores are changing as we change C - Values:"
   ]
  },
  {
   "cell_type": "code",
   "execution_count": null,
   "metadata": {},
   "outputs": [],
   "source": [
    "train_scores, test_scores = validation_curve(estimator=log_pipe,\n",
    "                                             X=X_train,\n",
    "                                             y=y_train,\n",
    "                                             # this is the way for accessing a parameter of a\n",
    "                                             param_name='logisticregression__C',\n",
    "                                             # transformer within pipeline\n",
    "                                             param_range=parameters,\n",
    "                                             cv=10,  # note that this can take too long if your data is big\n",
    "                                             verbose=1,  # algorithms will update us about the progress\n",
    "                                             n_jobs=-1  # we will be using the other processing units in parallel\n",
    "                                             )"
   ]
  },
  {
   "cell_type": "markdown",
   "metadata": {},
   "source": [
    "Now we can simply plot the results"
   ]
  },
  {
   "cell_type": "code",
   "execution_count": null,
   "metadata": {},
   "outputs": [],
   "source": [
    "import matplotlib.pyplot as plt\n",
    "%matplotlib inline\n",
    "plt.plot(parameters, train_scores.mean(axis= 1), label = 'train')\n",
    "plt.xscale('log')\n",
    "plt.plot(parameters, test_scores.mean(axis = 1), label = 'test')\n",
    "plt.legend()\n",
    "plt.tight_layout()\n"
   ]
  },
  {
   "cell_type": "markdown",
   "metadata": {},
   "source": [
    "__Fine-Tuning ML models via gridsearch__"
   ]
  },
  {
   "cell_type": "markdown",
   "metadata": {},
   "source": [
    "GridSearch approach is very straight forward.\n",
    "\n",
    "__Step1:__ Decide an estimator to use.\n",
    "\n",
    "Suppose we would like to use a decision_tree classifier.\n",
    "\n",
    "__Step2:__ Create a parameter grid\n",
    "\n",
    "Suppose for the decision trees we would like to find best values for: \n",
    "\n",
    "max_depth = [2, 3, 4, 5, 6, 7, 8, 9, 10, 11]\n",
    "\n",
    "and \n",
    "\n",
    "max_features = ['auto', 'sqrt', 'log2', 25]\n",
    "\n",
    "param_grid = {'max_depth': [2, 3, 4, 5, 6, 7, 8, 9, 10, 11]\n",
    "              'max_features': ['auto', 'sqrt', 'log2', 25]\n",
    "              }\n",
    "              \n",
    "__Step3:__ Instantiate GridSearchCV with these parameters.\n",
    "\n",
    "__Step4:__ Fit gridsearchcv object.\n"
   ]
  },
  {
   "cell_type": "code",
   "execution_count": 18,
   "metadata": {},
   "outputs": [],
   "source": [
    "from sklearn.model_selection import GridSearchCV"
   ]
  },
  {
   "cell_type": "code",
   "execution_count": 56,
   "metadata": {},
   "outputs": [
    {
     "name": "stdout",
     "output_type": "stream",
     "text": [
      "Fitting 5 folds for each of 50 candidates, totalling 250 fits\n"
     ]
    },
    {
     "name": "stderr",
     "output_type": "stream",
     "text": [
      "[Parallel(n_jobs=-1)]: Using backend LokyBackend with 8 concurrent workers.\n",
      "[Parallel(n_jobs=-1)]: Done  34 tasks      | elapsed:    1.3s\n",
      "[Parallel(n_jobs=-1)]: Done 250 out of 250 | elapsed:    1.6s finished\n"
     ]
    }
   ],
   "source": [
    "tree_clf = DecisionTreeClassifier(min_samples_leaf=10, random_state=1)\n",
    "\n",
    "max_depth_params = range(2, 12)  # values between 2 to 11 total: 10 values\n",
    "\n",
    "max_features_param = [None, 'sqrt', 'log2', 1, 5]  # total of 4 values\n",
    "\n",
    "# the names of the params in '' has to be exactly the same as in classifier features.\n",
    "param_grid = {'max_depth': max_depth_params,\n",
    "              'max_features': max_features_param}\n",
    "\n",
    "gridsearch = GridSearchCV(estimator=tree_clf,\n",
    "                          param_grid=param_grid,\n",
    "                          n_jobs=-1,  # paralllel computation\n",
    "                          verbose=1,  # gives feedback\n",
    "                          cv=5,  # cross-validate, default 5\n",
    "                          scoring='roc_auc',  # you can use multiple scoring too, default is accuracy\n",
    "                          return_train_score=True)\n",
    "\n",
    "gridsearch = gridsearch.fit(X_train, y_train)"
   ]
  },
  {
   "cell_type": "markdown",
   "metadata": {},
   "source": [
    "Here we have 50 different candidates (classifier), and each is trained on 5 folds. So 250 trees were built."
   ]
  },
  {
   "cell_type": "code",
   "execution_count": 24,
   "metadata": {},
   "outputs": [
    {
     "data": {
      "text/plain": [
       "{'max_depth': 6, 'max_features': 'log2'}"
      ]
     },
     "execution_count": 24,
     "metadata": {},
     "output_type": "execute_result"
    }
   ],
   "source": [
    "gridsearch.best_params_"
   ]
  },
  {
   "cell_type": "code",
   "execution_count": 57,
   "metadata": {},
   "outputs": [
    {
     "name": "stdout",
     "output_type": "stream",
     "text": [
      "0.9759062366154956\n",
      "DecisionTreeClassifier(max_depth=6, max_features='log2', min_samples_leaf=10,\n",
      "                       random_state=1)\n"
     ]
    }
   ],
   "source": [
    "print(gridsearch.best_score_) # note if you use multiple this doesn't work\n",
    "print(gridsearch.best_estimator_) # doesn't work for multiple scoring"
   ]
  },
  {
   "cell_type": "code",
   "execution_count": 32,
   "metadata": {},
   "outputs": [],
   "source": [
    "# Try GridSearch on Logistic Regression"
   ]
  },
  {
   "cell_type": "code",
   "execution_count": 33,
   "metadata": {},
   "outputs": [],
   "source": [
    "from sklearn.linear_model import LogisticRegression\n",
    "lr_clf = LogisticRegression()"
   ]
  },
  {
   "cell_type": "code",
   "execution_count": 43,
   "metadata": {},
   "outputs": [],
   "source": [
    "# parameter grid\n",
    "param_grid = {'penalty': ['l1','l2', 'elasticnet', None],\n",
    "              'C': np.logspace(start=5, stop=14, base=10, num=10)} # gives me numbers starting from 10\n",
    " "
   ]
  },
  {
   "cell_type": "code",
   "execution_count": 45,
   "metadata": {},
   "outputs": [
    {
     "data": {
      "text/plain": [
       "array([1.e-02, 1.e-01, 1.e+00, 1.e+01, 1.e+02, 1.e+03, 1.e+04, 1.e+05,\n",
       "       1.e+06, 1.e+07])"
      ]
     },
     "execution_count": 45,
     "metadata": {},
     "output_type": "execute_result"
    }
   ],
   "source": [
    "np.logspace(start=-2, stop=7, base=10, num=10)"
   ]
  },
  {
   "cell_type": "code",
   "execution_count": 46,
   "metadata": {},
   "outputs": [],
   "source": [
    "gridsearch_lr = GridSearchCV(lr_clf, param_grid, cv=5, n_jobs=-1)"
   ]
  },
  {
   "cell_type": "code",
   "execution_count": 47,
   "metadata": {},
   "outputs": [
    {
     "name": "stderr",
     "output_type": "stream",
     "text": [
      "/opt/anaconda3/lib/python3.7/site-packages/sklearn/linear_model/_logistic.py:764: ConvergenceWarning: lbfgs failed to converge (status=1):\n",
      "STOP: TOTAL NO. of ITERATIONS REACHED LIMIT.\n",
      "\n",
      "Increase the number of iterations (max_iter) or scale the data as shown in:\n",
      "    https://scikit-learn.org/stable/modules/preprocessing.html\n",
      "Please also refer to the documentation for alternative solver options:\n",
      "    https://scikit-learn.org/stable/modules/linear_model.html#logistic-regression\n",
      "  extra_warning_msg=_LOGISTIC_SOLVER_CONVERGENCE_MSG)\n"
     ]
    },
    {
     "data": {
      "text/plain": [
       "GridSearchCV(cv=5, estimator=LogisticRegression(), n_jobs=-1,\n",
       "             param_grid={'C': array([1.e+05, 1.e+06, 1.e+07, 1.e+08, 1.e+09, 1.e+10, 1.e+11, 1.e+12,\n",
       "       1.e+13, 1.e+14]),\n",
       "                         'penalty': ['l1', 'l2', 'elasticnet', None]})"
      ]
     },
     "execution_count": 47,
     "metadata": {},
     "output_type": "execute_result"
    }
   ],
   "source": [
    "gridsearch_lr.fit(X_train, y_train)"
   ]
  },
  {
   "cell_type": "code",
   "execution_count": 48,
   "metadata": {},
   "outputs": [
    {
     "data": {
      "text/plain": [
       "{'C': 10000000000.0, 'penalty': 'l2'}"
      ]
     },
     "execution_count": 48,
     "metadata": {},
     "output_type": "execute_result"
    }
   ],
   "source": [
    "gridsearch_lr.best_params_"
   ]
  },
  {
   "cell_type": "code",
   "execution_count": null,
   "metadata": {},
   "outputs": [],
   "source": [
    "# We get the same result every time because there's no randomness to logistic regression! \n",
    "# same for kNN\n",
    "# It's a stochastic model, and won't be flaky due to random state. "
   ]
  },
  {
   "cell_type": "code",
   "execution_count": null,
   "metadata": {},
   "outputs": [],
   "source": []
  },
  {
   "cell_type": "markdown",
   "metadata": {},
   "source": [
    "going back to the decision tree's gridsearch:"
   ]
  },
  {
   "cell_type": "code",
   "execution_count": 49,
   "metadata": {},
   "outputs": [
    {
     "data": {
      "text/plain": [
       "{'mean_fit_time': array([0.00480213, 0.00334206, 0.00196843, 0.00153599, 0.00173268,\n",
       "        0.00456839, 0.00189342, 0.00150919, 0.00126443, 0.00172014,\n",
       "        0.00603695, 0.00183091, 0.00184875, 0.00116668, 0.00184889,\n",
       "        0.00502667, 0.00153618, 0.00172253, 0.00120521, 0.00172858,\n",
       "        0.00564232, 0.00172324, 0.00172968, 0.00122623, 0.00188966,\n",
       "        0.00508895, 0.00174112, 0.00190663, 0.0012506 , 0.00179448,\n",
       "        0.00553713, 0.00216475, 0.00188065, 0.00127358, 0.0020535 ,\n",
       "        0.00574322, 0.00193729, 0.00218258, 0.00128798, 0.00184383,\n",
       "        0.00580072, 0.00207205, 0.00182157, 0.0016026 , 0.00214925,\n",
       "        0.00580583, 0.00195966, 0.00150456, 0.00135183, 0.00175071]),\n",
       " 'std_fit_time': array([1.78436530e-03, 2.85138974e-03, 2.99834560e-04, 1.25353007e-04,\n",
       "        1.41047319e-04, 7.41026116e-05, 5.07484721e-04, 1.47154991e-04,\n",
       "        1.66845901e-04, 1.70949307e-04, 1.59698491e-03, 1.23416529e-04,\n",
       "        2.50181030e-04, 1.92591842e-04, 1.21806874e-04, 4.90134757e-04,\n",
       "        2.46780224e-04, 7.77072536e-05, 1.53599678e-04, 1.46744216e-04,\n",
       "        1.02376270e-03, 6.23584511e-05, 8.11380706e-05, 1.42648400e-04,\n",
       "        2.03447501e-04, 6.62561252e-04, 2.10336400e-04, 7.69566498e-04,\n",
       "        2.02531361e-04, 6.53375839e-05, 6.24512456e-04, 5.47271069e-04,\n",
       "        3.46338320e-04, 2.94218187e-05, 4.10631912e-04, 7.70245962e-04,\n",
       "        1.29542852e-04, 1.03364364e-03, 3.72163383e-05, 1.24925384e-04,\n",
       "        1.03904820e-03, 2.19705503e-04, 1.35263028e-04, 4.10642831e-04,\n",
       "        2.19629176e-04, 1.00814969e-03, 1.63835627e-04, 3.10807588e-04,\n",
       "        1.04917504e-04, 1.72631055e-04]),\n",
       " 'mean_score_time': array([0.0025085 , 0.00480223, 0.00235944, 0.0024766 , 0.00210781,\n",
       "        0.00198779, 0.00172   , 0.00186224, 0.00192609, 0.00188632,\n",
       "        0.00185905, 0.00226493, 0.0019464 , 0.00182977, 0.002002  ,\n",
       "        0.00187654, 0.00174289, 0.00194321, 0.00173645, 0.00194306,\n",
       "        0.00182605, 0.00173616, 0.00199151, 0.00190973, 0.00218596,\n",
       "        0.00167623, 0.00174284, 0.00173535, 0.00166221, 0.00189018,\n",
       "        0.00193901, 0.00208006, 0.00257168, 0.00201974, 0.00235963,\n",
       "        0.00181975, 0.00201612, 0.00301723, 0.00191727, 0.001969  ,\n",
       "        0.00232434, 0.00261889, 0.00201097, 0.00215321, 0.00213156,\n",
       "        0.00229931, 0.00205698, 0.00162435, 0.00178599, 0.00178523]),\n",
       " 'std_score_time': array([2.51413883e-04, 4.91122029e-03, 5.88624124e-04, 3.43608625e-04,\n",
       "        7.85235707e-05, 2.80558504e-04, 2.56042391e-04, 2.28520665e-04,\n",
       "        1.75267892e-04, 3.14521421e-04, 1.91793223e-04, 5.96254282e-04,\n",
       "        3.24583582e-05, 2.26248082e-04, 3.50486697e-04, 2.26156399e-04,\n",
       "        2.36393790e-04, 1.61391423e-04, 1.78931477e-04, 8.67529697e-05,\n",
       "        2.44209161e-04, 2.45040812e-04, 2.28735261e-04, 7.39009914e-05,\n",
       "        4.34968613e-04, 1.29838704e-04, 1.91144682e-04, 1.73261956e-04,\n",
       "        3.76621020e-04, 1.15040460e-04, 1.19790605e-04, 2.49661964e-04,\n",
       "        1.14679424e-03, 3.22258342e-04, 4.69826154e-04, 2.91471276e-04,\n",
       "        1.99884961e-04, 1.40365534e-03, 3.43490268e-05, 6.81988167e-05,\n",
       "        7.15921886e-04, 8.61604694e-04, 8.27315355e-05, 1.36006329e-04,\n",
       "        1.41376677e-04, 2.24477695e-04, 2.52967465e-04, 3.85051925e-04,\n",
       "        2.28380807e-04, 1.42512372e-04]),\n",
       " 'param_max_depth': masked_array(data=[2, 2, 2, 2, 2, 3, 3, 3, 3, 3, 4, 4, 4, 4, 4, 5, 5, 5,\n",
       "                    5, 5, 6, 6, 6, 6, 6, 7, 7, 7, 7, 7, 8, 8, 8, 8, 8, 9,\n",
       "                    9, 9, 9, 9, 10, 10, 10, 10, 10, 11, 11, 11, 11, 11],\n",
       "              mask=[False, False, False, False, False, False, False, False,\n",
       "                    False, False, False, False, False, False, False, False,\n",
       "                    False, False, False, False, False, False, False, False,\n",
       "                    False, False, False, False, False, False, False, False,\n",
       "                    False, False, False, False, False, False, False, False,\n",
       "                    False, False, False, False, False, False, False, False,\n",
       "                    False, False],\n",
       "        fill_value='?',\n",
       "             dtype=object),\n",
       " 'param_max_features': masked_array(data=[None, 'sqrt', 'log2', 1, 5, None, 'sqrt', 'log2', 1, 5,\n",
       "                    None, 'sqrt', 'log2', 1, 5, None, 'sqrt', 'log2', 1, 5,\n",
       "                    None, 'sqrt', 'log2', 1, 5, None, 'sqrt', 'log2', 1, 5,\n",
       "                    None, 'sqrt', 'log2', 1, 5, None, 'sqrt', 'log2', 1, 5,\n",
       "                    None, 'sqrt', 'log2', 1, 5, None, 'sqrt', 'log2', 1, 5],\n",
       "              mask=[False, False, False, False, False, False, False, False,\n",
       "                    False, False, False, False, False, False, False, False,\n",
       "                    False, False, False, False, False, False, False, False,\n",
       "                    False, False, False, False, False, False, False, False,\n",
       "                    False, False, False, False, False, False, False, False,\n",
       "                    False, False, False, False, False, False, False, False,\n",
       "                    False, False],\n",
       "        fill_value='?',\n",
       "             dtype=object),\n",
       " 'params': [{'max_depth': 2, 'max_features': None},\n",
       "  {'max_depth': 2, 'max_features': 'sqrt'},\n",
       "  {'max_depth': 2, 'max_features': 'log2'},\n",
       "  {'max_depth': 2, 'max_features': 1},\n",
       "  {'max_depth': 2, 'max_features': 5},\n",
       "  {'max_depth': 3, 'max_features': None},\n",
       "  {'max_depth': 3, 'max_features': 'sqrt'},\n",
       "  {'max_depth': 3, 'max_features': 'log2'},\n",
       "  {'max_depth': 3, 'max_features': 1},\n",
       "  {'max_depth': 3, 'max_features': 5},\n",
       "  {'max_depth': 4, 'max_features': None},\n",
       "  {'max_depth': 4, 'max_features': 'sqrt'},\n",
       "  {'max_depth': 4, 'max_features': 'log2'},\n",
       "  {'max_depth': 4, 'max_features': 1},\n",
       "  {'max_depth': 4, 'max_features': 5},\n",
       "  {'max_depth': 5, 'max_features': None},\n",
       "  {'max_depth': 5, 'max_features': 'sqrt'},\n",
       "  {'max_depth': 5, 'max_features': 'log2'},\n",
       "  {'max_depth': 5, 'max_features': 1},\n",
       "  {'max_depth': 5, 'max_features': 5},\n",
       "  {'max_depth': 6, 'max_features': None},\n",
       "  {'max_depth': 6, 'max_features': 'sqrt'},\n",
       "  {'max_depth': 6, 'max_features': 'log2'},\n",
       "  {'max_depth': 6, 'max_features': 1},\n",
       "  {'max_depth': 6, 'max_features': 5},\n",
       "  {'max_depth': 7, 'max_features': None},\n",
       "  {'max_depth': 7, 'max_features': 'sqrt'},\n",
       "  {'max_depth': 7, 'max_features': 'log2'},\n",
       "  {'max_depth': 7, 'max_features': 1},\n",
       "  {'max_depth': 7, 'max_features': 5},\n",
       "  {'max_depth': 8, 'max_features': None},\n",
       "  {'max_depth': 8, 'max_features': 'sqrt'},\n",
       "  {'max_depth': 8, 'max_features': 'log2'},\n",
       "  {'max_depth': 8, 'max_features': 1},\n",
       "  {'max_depth': 8, 'max_features': 5},\n",
       "  {'max_depth': 9, 'max_features': None},\n",
       "  {'max_depth': 9, 'max_features': 'sqrt'},\n",
       "  {'max_depth': 9, 'max_features': 'log2'},\n",
       "  {'max_depth': 9, 'max_features': 1},\n",
       "  {'max_depth': 9, 'max_features': 5},\n",
       "  {'max_depth': 10, 'max_features': None},\n",
       "  {'max_depth': 10, 'max_features': 'sqrt'},\n",
       "  {'max_depth': 10, 'max_features': 'log2'},\n",
       "  {'max_depth': 10, 'max_features': 1},\n",
       "  {'max_depth': 10, 'max_features': 5},\n",
       "  {'max_depth': 11, 'max_features': None},\n",
       "  {'max_depth': 11, 'max_features': 'sqrt'},\n",
       "  {'max_depth': 11, 'max_features': 'log2'},\n",
       "  {'max_depth': 11, 'max_features': 1},\n",
       "  {'max_depth': 11, 'max_features': 5}],\n",
       " 'split0_test_score': array([0.93663194, 0.9224537 , 0.94907407, 0.94907407, 0.9224537 ,\n",
       "        0.96469907, 0.93229167, 0.95949074, 0.95428241, 0.93229167,\n",
       "        0.97858796, 0.96759259, 0.96412037, 0.96469907, 0.96759259,\n",
       "        0.97858796, 0.96498843, 0.97366898, 0.97019676, 0.96498843,\n",
       "        0.97858796, 0.96498843, 0.97366898, 0.97974537, 0.96498843,\n",
       "        0.97858796, 0.96498843, 0.97366898, 0.97309028, 0.96498843,\n",
       "        0.97858796, 0.96498843, 0.97366898, 0.97309028, 0.96498843,\n",
       "        0.97858796, 0.96498843, 0.97366898, 0.97309028, 0.96498843,\n",
       "        0.97858796, 0.96498843, 0.97366898, 0.97309028, 0.96498843,\n",
       "        0.97858796, 0.96498843, 0.97366898, 0.97309028, 0.96498843]),\n",
       " 'split1_test_score': array([0.95430425, 0.94545991, 0.96668632, 0.97317217, 0.94545991,\n",
       "        0.96580189, 0.95459906, 0.97435142, 0.95725236, 0.95459906,\n",
       "        0.96580189, 0.95224057, 0.95813679, 0.97582547, 0.95224057,\n",
       "        0.96580189, 0.94162736, 0.97729953, 0.96668632, 0.94162736,\n",
       "        0.96580189, 0.94162736, 0.97729953, 0.96668632, 0.94162736,\n",
       "        0.96580189, 0.94162736, 0.97729953, 0.96668632, 0.94162736,\n",
       "        0.96580189, 0.94162736, 0.97729953, 0.96668632, 0.94162736,\n",
       "        0.96580189, 0.94162736, 0.97729953, 0.96668632, 0.94162736,\n",
       "        0.96580189, 0.94162736, 0.97729953, 0.96668632, 0.94162736,\n",
       "        0.96580189, 0.94162736, 0.97729953, 0.96668632, 0.94162736]),\n",
       " 'split2_test_score': array([0.92099057, 0.90123821, 0.91951651, 0.92570755, 0.90123821,\n",
       "        0.95194575, 0.91391509, 0.93189858, 0.93779481, 0.91391509,\n",
       "        0.94457547, 0.91214623, 0.95666274, 0.921875  , 0.91214623,\n",
       "        0.96668632, 0.87588443, 0.94162736, 0.94604953, 0.87588443,\n",
       "        0.96668632, 0.87588443, 0.94162736, 0.94722877, 0.87588443,\n",
       "        0.96668632, 0.87588443, 0.94162736, 0.94663915, 0.87588443,\n",
       "        0.96668632, 0.87588443, 0.94162736, 0.94663915, 0.87588443,\n",
       "        0.96668632, 0.87588443, 0.94162736, 0.94663915, 0.87588443,\n",
       "        0.96668632, 0.87588443, 0.94162736, 0.94663915, 0.87588443,\n",
       "        0.96668632, 0.87588443, 0.94162736, 0.94663915, 0.87588443]),\n",
       " 'split3_test_score': array([0.94221698, 0.93926887, 0.9790684 , 0.97670991, 0.93926887,\n",
       "        0.99410377, 0.97110849, 0.99528302, 0.97965802, 0.97110849,\n",
       "        0.99351415, 0.953125  , 0.99262972, 0.98820755, 0.953125  ,\n",
       "        0.98525943, 0.92541274, 0.99410377, 0.9946934 , 0.92541274,\n",
       "        0.98525943, 0.92541274, 0.99410377, 0.97199292, 0.92541274,\n",
       "        0.98525943, 0.92541274, 0.99410377, 0.98997642, 0.92541274,\n",
       "        0.98525943, 0.92541274, 0.99410377, 0.98997642, 0.92541274,\n",
       "        0.98525943, 0.92541274, 0.99410377, 0.98997642, 0.92541274,\n",
       "        0.98525943, 0.92541274, 0.99410377, 0.98997642, 0.92541274,\n",
       "        0.98525943, 0.92541274, 0.99410377, 0.98997642, 0.92541274]),\n",
       " 'split4_test_score': array([0.95071685, 0.9557945 , 0.97729988, 0.97849462, 0.9557945 ,\n",
       "        0.9495221 , 0.96594982, 0.97849462, 0.99551971, 0.96594982,\n",
       "        0.97640382, 0.98267622, 0.99103943, 0.97998805, 0.98267622,\n",
       "        0.97431302, 0.96863799, 0.9874552 , 0.989546  , 0.96863799,\n",
       "        0.97371565, 0.96863799, 0.99283154, 0.99492234, 0.96863799,\n",
       "        0.97371565, 0.96863799, 0.99103943, 0.99492234, 0.96863799,\n",
       "        0.97371565, 0.96863799, 0.99103943, 0.99492234, 0.96863799,\n",
       "        0.97371565, 0.96863799, 0.99103943, 0.99492234, 0.96863799,\n",
       "        0.97371565, 0.96863799, 0.99103943, 0.99492234, 0.96863799,\n",
       "        0.97371565, 0.96863799, 0.99103943, 0.99492234, 0.96863799]),\n",
       " 'mean_test_score': array([0.94097212, 0.93284304, 0.95832904, 0.96063166, 0.93284304,\n",
       "        0.96521452, 0.94757283, 0.96790368, 0.96490146, 0.94757283,\n",
       "        0.97177666, 0.95355612, 0.97251781, 0.96611903, 0.95355612,\n",
       "        0.97412973, 0.93531019, 0.97483097, 0.9734344 , 0.93531019,\n",
       "        0.97401025, 0.93531019, 0.97590624, 0.97211515, 0.93531019,\n",
       "        0.97401025, 0.93531019, 0.97554781, 0.9742629 , 0.93531019,\n",
       "        0.97401025, 0.93531019, 0.97554781, 0.9742629 , 0.93531019,\n",
       "        0.97401025, 0.93531019, 0.97554781, 0.9742629 , 0.93531019,\n",
       "        0.97401025, 0.93531019, 0.97554781, 0.9742629 , 0.93531019,\n",
       "        0.97401025, 0.93531019, 0.97554781, 0.9742629 , 0.93531019]),\n",
       " 'std_test_score': array([0.01176737, 0.01915228, 0.02214464, 0.02043591, 0.01915228,\n",
       "        0.01585883, 0.02148193, 0.02130969, 0.02030407, 0.02148193,\n",
       "        0.01622298, 0.02350191, 0.01597656, 0.02338383, 0.02350191,\n",
       "        0.00732853, 0.03364767, 0.01811483, 0.01742113, 0.03364767,\n",
       "        0.00732944, 0.03364767, 0.01897158, 0.01566657, 0.03364767,\n",
       "        0.00732944, 0.03364767, 0.01866285, 0.01729496, 0.03364767,\n",
       "        0.00732944, 0.03364767, 0.01866285, 0.01729496, 0.03364767,\n",
       "        0.00732944, 0.03364767, 0.01866285, 0.01729496, 0.03364767,\n",
       "        0.00732944, 0.03364767, 0.01866285, 0.01729496, 0.03364767,\n",
       "        0.00732944, 0.03364767, 0.01866285, 0.01729496, 0.03364767]),\n",
       " 'rank_test_score': array([34, 49, 29, 28, 49, 26, 32, 24, 27, 32, 23, 30, 21, 25, 30, 13, 35,\n",
       "         7, 20, 35, 14, 35,  1, 22, 35, 14, 35,  2,  8, 35, 14, 35,  2,  8,\n",
       "        35, 14, 35,  2,  8, 35, 14, 35,  2,  8, 35, 14, 35,  2,  8, 35],\n",
       "       dtype=int32),\n",
       " 'split0_train_score': array([0.9695575 , 0.95451185, 0.96639681, 0.96689586, 0.95451185,\n",
       "        0.98408562, 0.97565709, 0.9829766 , 0.98293963, 0.97565709,\n",
       "        0.99096152, 0.98587853, 0.98913164, 0.98733873, 0.98587853,\n",
       "        0.9942516 , 0.9885032 , 0.99279139, 0.988725  , 0.9885032 ,\n",
       "        0.9942516 , 0.9885032 , 0.99279139, 0.9896307 , 0.9885032 ,\n",
       "        0.9942516 , 0.9885032 , 0.99279139, 0.99044398, 0.9885032 ,\n",
       "        0.9942516 , 0.9885032 , 0.99279139, 0.99044398, 0.9885032 ,\n",
       "        0.9942516 , 0.9885032 , 0.99279139, 0.99044398, 0.9885032 ,\n",
       "        0.9942516 , 0.9885032 , 0.99279139, 0.99044398, 0.9885032 ,\n",
       "        0.9942516 , 0.9885032 , 0.99279139, 0.99044398, 0.9885032 ]),\n",
       " 'split1_train_score': array([0.97954228, 0.95617779, 0.95757598, 0.96131062, 0.95617779,\n",
       "        0.99413128, 0.97323203, 0.98263301, 0.97878799, 0.97323203,\n",
       "        0.99413128, 0.98009419, 0.99116933, 0.98883288, 0.98009419,\n",
       "        0.99413128, 0.98794981, 0.99102215, 0.99197881, 0.98794981,\n",
       "        0.99413128, 0.98794981, 0.99102215, 0.99197881, 0.98794981,\n",
       "        0.99413128, 0.98794981, 0.99102215, 0.99197881, 0.98794981,\n",
       "        0.99413128, 0.98794981, 0.99102215, 0.99197881, 0.98794981,\n",
       "        0.99413128, 0.98794981, 0.99102215, 0.99197881, 0.98794981,\n",
       "        0.99413128, 0.98794981, 0.99102215, 0.99197881, 0.98794981,\n",
       "        0.99413128, 0.98794981, 0.99102215, 0.99197881, 0.98794981]),\n",
       " 'split2_train_score': array([0.97179704, 0.95925013, 0.97268011, 0.97442785, 0.95925013,\n",
       "        0.98769225, 0.98084848, 0.98940319, 0.98381043, 0.98084848,\n",
       "        0.99405769, 0.98920082, 0.99179483, 0.98839135, 0.98920082,\n",
       "        0.99460961, 0.98999191, 0.99350578, 0.98969755, 0.98999191,\n",
       "        0.99460961, 0.98999191, 0.99350578, 0.99056222, 0.98999191,\n",
       "        0.99460961, 0.98999191, 0.99350578, 0.99104055, 0.98999191,\n",
       "        0.99460961, 0.98999191, 0.99350578, 0.99104055, 0.98999191,\n",
       "        0.99460961, 0.98999191, 0.99350578, 0.99104055, 0.98999191,\n",
       "        0.99460961, 0.98999191, 0.99350578, 0.99104055, 0.98999191,\n",
       "        0.99460961, 0.98999191, 0.99350578, 0.99104055, 0.98999191]),\n",
       " 'split3_train_score': array([0.9680992 , 0.95695047, 0.95969166, 0.96178895, 0.95695047,\n",
       "        0.98344249, 0.9800206 , 0.97759217, 0.97374715, 0.9800206 ,\n",
       "        0.99010229, 0.98748988, 0.98614688, 0.98114284, 0.98748988,\n",
       "        0.99328501, 0.99177644, 0.99015748, 0.98531901, 0.99177644,\n",
       "        0.99328501, 0.99177644, 0.99015748, 0.98826257, 0.99177644,\n",
       "        0.99328501, 0.99177644, 0.99015748, 0.99037825, 0.99177644,\n",
       "        0.99328501, 0.99177644, 0.99015748, 0.99037825, 0.99177644,\n",
       "        0.99328501, 0.99177644, 0.99015748, 0.99037825, 0.99177644,\n",
       "        0.99328501, 0.99177644, 0.99015748, 0.99037825, 0.99177644,\n",
       "        0.99328501, 0.99177644, 0.99015748, 0.99037825, 0.99177644]),\n",
       " 'split4_train_score': array([0.95534404, 0.94732981, 0.95792987, 0.96101086, 0.94732981,\n",
       "        0.97733275, 0.96979533, 0.97557218, 0.97241784, 0.96979533,\n",
       "        0.98782277, 0.98571376, 0.98235769, 0.98145907, 0.98571376,\n",
       "        0.99108715, 0.98516359, 0.98408157, 0.98642899, 0.98516359,\n",
       "        0.99427817, 0.98516359, 0.98861136, 0.98796948, 0.98516359,\n",
       "        0.99427817, 0.98516359, 0.98804284, 0.98796948, 0.98516359,\n",
       "        0.99427817, 0.98516359, 0.98804284, 0.98796948, 0.98516359,\n",
       "        0.99427817, 0.98516359, 0.98804284, 0.98796948, 0.98516359,\n",
       "        0.99427817, 0.98516359, 0.98804284, 0.98796948, 0.98516359,\n",
       "        0.99427817, 0.98516359, 0.98804284, 0.98796948, 0.98516359]),\n",
       " 'mean_train_score': array([0.96886801, 0.95484401, 0.96285489, 0.96508683, 0.95484401,\n",
       "        0.98533688, 0.97591071, 0.98163543, 0.97834061, 0.97591071,\n",
       "        0.99141511, 0.98567544, 0.98812007, 0.98543297, 0.98567544,\n",
       "        0.99347293, 0.98867699, 0.99031167, 0.98842987, 0.98867699,\n",
       "        0.99411113, 0.98867699, 0.99121763, 0.98968075, 0.98867699,\n",
       "        0.99411113, 0.98867699, 0.99110393, 0.99036221, 0.98867699,\n",
       "        0.99411113, 0.98867699, 0.99110393, 0.99036221, 0.98867699,\n",
       "        0.99411113, 0.98867699, 0.99110393, 0.99036221, 0.98867699,\n",
       "        0.99411113, 0.98867699, 0.99110393, 0.99036221, 0.98867699,\n",
       "        0.99411113, 0.98867699, 0.99110393, 0.99036221, 0.98867699]),\n",
       " 'std_train_score': array([0.00782922, 0.00405471, 0.00585165, 0.00514347, 0.00405471,\n",
       "        0.00551561, 0.00414512, 0.00482168, 0.00463571, 0.00414512,\n",
       "        0.0024164 , 0.00306312, 0.00349066, 0.00341   , 0.00306312,\n",
       "        0.00126957, 0.00220175, 0.00333748, 0.00236517, 0.00220175,\n",
       "        0.00044249, 0.00220175, 0.00177015, 0.00148326, 0.00220175,\n",
       "        0.00044249, 0.00220175, 0.00194366, 0.00132707, 0.00220175,\n",
       "        0.00044249, 0.00220175, 0.00194366, 0.00132707, 0.00220175,\n",
       "        0.00044249, 0.00220175, 0.00194366, 0.00132707, 0.00220175,\n",
       "        0.00044249, 0.00220175, 0.00194366, 0.00132707, 0.00220175,\n",
       "        0.00044249, 0.00220175, 0.00194366, 0.00132707, 0.00220175])}"
      ]
     },
     "execution_count": 49,
     "metadata": {},
     "output_type": "execute_result"
    }
   ],
   "source": [
    "gridsearch.cv_results_"
   ]
  },
  {
   "cell_type": "code",
   "execution_count": 58,
   "metadata": {},
   "outputs": [],
   "source": [
    "cv_results_df = pd.DataFrame(gridsearch.cv_results_)"
   ]
  },
  {
   "cell_type": "code",
   "execution_count": 59,
   "metadata": {},
   "outputs": [
    {
     "data": {
      "text/html": [
       "<div>\n",
       "<style scoped>\n",
       "    .dataframe tbody tr th:only-of-type {\n",
       "        vertical-align: middle;\n",
       "    }\n",
       "\n",
       "    .dataframe tbody tr th {\n",
       "        vertical-align: top;\n",
       "    }\n",
       "\n",
       "    .dataframe thead th {\n",
       "        text-align: right;\n",
       "    }\n",
       "</style>\n",
       "<table border=\"1\" class=\"dataframe\">\n",
       "  <thead>\n",
       "    <tr style=\"text-align: right;\">\n",
       "      <th></th>\n",
       "      <th>mean_fit_time</th>\n",
       "      <th>std_fit_time</th>\n",
       "      <th>mean_score_time</th>\n",
       "      <th>std_score_time</th>\n",
       "      <th>param_max_depth</th>\n",
       "      <th>param_max_features</th>\n",
       "      <th>params</th>\n",
       "      <th>split0_test_score</th>\n",
       "      <th>split1_test_score</th>\n",
       "      <th>split2_test_score</th>\n",
       "      <th>...</th>\n",
       "      <th>mean_test_score</th>\n",
       "      <th>std_test_score</th>\n",
       "      <th>rank_test_score</th>\n",
       "      <th>split0_train_score</th>\n",
       "      <th>split1_train_score</th>\n",
       "      <th>split2_train_score</th>\n",
       "      <th>split3_train_score</th>\n",
       "      <th>split4_train_score</th>\n",
       "      <th>mean_train_score</th>\n",
       "      <th>std_train_score</th>\n",
       "    </tr>\n",
       "  </thead>\n",
       "  <tbody>\n",
       "    <tr>\n",
       "      <th>0</th>\n",
       "      <td>0.004723</td>\n",
       "      <td>0.000188</td>\n",
       "      <td>0.002889</td>\n",
       "      <td>0.000146</td>\n",
       "      <td>2</td>\n",
       "      <td>None</td>\n",
       "      <td>{'max_depth': 2, 'max_features': None}</td>\n",
       "      <td>0.936632</td>\n",
       "      <td>0.954304</td>\n",
       "      <td>0.920991</td>\n",
       "      <td>...</td>\n",
       "      <td>0.940972</td>\n",
       "      <td>0.011767</td>\n",
       "      <td>34</td>\n",
       "      <td>0.969558</td>\n",
       "      <td>0.979542</td>\n",
       "      <td>0.971797</td>\n",
       "      <td>0.968099</td>\n",
       "      <td>0.955344</td>\n",
       "      <td>0.968868</td>\n",
       "      <td>0.007829</td>\n",
       "    </tr>\n",
       "    <tr>\n",
       "      <th>1</th>\n",
       "      <td>0.003751</td>\n",
       "      <td>0.001705</td>\n",
       "      <td>0.003469</td>\n",
       "      <td>0.001379</td>\n",
       "      <td>2</td>\n",
       "      <td>sqrt</td>\n",
       "      <td>{'max_depth': 2, 'max_features': 'sqrt'}</td>\n",
       "      <td>0.922454</td>\n",
       "      <td>0.945460</td>\n",
       "      <td>0.901238</td>\n",
       "      <td>...</td>\n",
       "      <td>0.932843</td>\n",
       "      <td>0.019152</td>\n",
       "      <td>49</td>\n",
       "      <td>0.954512</td>\n",
       "      <td>0.956178</td>\n",
       "      <td>0.959250</td>\n",
       "      <td>0.956950</td>\n",
       "      <td>0.947330</td>\n",
       "      <td>0.954844</td>\n",
       "      <td>0.004055</td>\n",
       "    </tr>\n",
       "    <tr>\n",
       "      <th>2</th>\n",
       "      <td>0.002247</td>\n",
       "      <td>0.000620</td>\n",
       "      <td>0.002686</td>\n",
       "      <td>0.000719</td>\n",
       "      <td>2</td>\n",
       "      <td>log2</td>\n",
       "      <td>{'max_depth': 2, 'max_features': 'log2'}</td>\n",
       "      <td>0.949074</td>\n",
       "      <td>0.966686</td>\n",
       "      <td>0.919517</td>\n",
       "      <td>...</td>\n",
       "      <td>0.958329</td>\n",
       "      <td>0.022145</td>\n",
       "      <td>29</td>\n",
       "      <td>0.966397</td>\n",
       "      <td>0.957576</td>\n",
       "      <td>0.972680</td>\n",
       "      <td>0.959692</td>\n",
       "      <td>0.957930</td>\n",
       "      <td>0.962855</td>\n",
       "      <td>0.005852</td>\n",
       "    </tr>\n",
       "    <tr>\n",
       "      <th>3</th>\n",
       "      <td>0.001537</td>\n",
       "      <td>0.000082</td>\n",
       "      <td>0.003225</td>\n",
       "      <td>0.001607</td>\n",
       "      <td>2</td>\n",
       "      <td>1</td>\n",
       "      <td>{'max_depth': 2, 'max_features': 1}</td>\n",
       "      <td>0.949074</td>\n",
       "      <td>0.973172</td>\n",
       "      <td>0.925708</td>\n",
       "      <td>...</td>\n",
       "      <td>0.960632</td>\n",
       "      <td>0.020436</td>\n",
       "      <td>28</td>\n",
       "      <td>0.966896</td>\n",
       "      <td>0.961311</td>\n",
       "      <td>0.974428</td>\n",
       "      <td>0.961789</td>\n",
       "      <td>0.961011</td>\n",
       "      <td>0.965087</td>\n",
       "      <td>0.005143</td>\n",
       "    </tr>\n",
       "    <tr>\n",
       "      <th>4</th>\n",
       "      <td>0.003522</td>\n",
       "      <td>0.002707</td>\n",
       "      <td>0.006134</td>\n",
       "      <td>0.004424</td>\n",
       "      <td>2</td>\n",
       "      <td>5</td>\n",
       "      <td>{'max_depth': 2, 'max_features': 5}</td>\n",
       "      <td>0.922454</td>\n",
       "      <td>0.945460</td>\n",
       "      <td>0.901238</td>\n",
       "      <td>...</td>\n",
       "      <td>0.932843</td>\n",
       "      <td>0.019152</td>\n",
       "      <td>49</td>\n",
       "      <td>0.954512</td>\n",
       "      <td>0.956178</td>\n",
       "      <td>0.959250</td>\n",
       "      <td>0.956950</td>\n",
       "      <td>0.947330</td>\n",
       "      <td>0.954844</td>\n",
       "      <td>0.004055</td>\n",
       "    </tr>\n",
       "  </tbody>\n",
       "</table>\n",
       "<p>5 rows × 22 columns</p>\n",
       "</div>"
      ],
      "text/plain": [
       "   mean_fit_time  std_fit_time  mean_score_time  std_score_time  \\\n",
       "0       0.004723      0.000188         0.002889        0.000146   \n",
       "1       0.003751      0.001705         0.003469        0.001379   \n",
       "2       0.002247      0.000620         0.002686        0.000719   \n",
       "3       0.001537      0.000082         0.003225        0.001607   \n",
       "4       0.003522      0.002707         0.006134        0.004424   \n",
       "\n",
       "  param_max_depth param_max_features  \\\n",
       "0               2               None   \n",
       "1               2               sqrt   \n",
       "2               2               log2   \n",
       "3               2                  1   \n",
       "4               2                  5   \n",
       "\n",
       "                                     params  split0_test_score  \\\n",
       "0    {'max_depth': 2, 'max_features': None}           0.936632   \n",
       "1  {'max_depth': 2, 'max_features': 'sqrt'}           0.922454   \n",
       "2  {'max_depth': 2, 'max_features': 'log2'}           0.949074   \n",
       "3       {'max_depth': 2, 'max_features': 1}           0.949074   \n",
       "4       {'max_depth': 2, 'max_features': 5}           0.922454   \n",
       "\n",
       "   split1_test_score  split2_test_score  ...  mean_test_score  std_test_score  \\\n",
       "0           0.954304           0.920991  ...         0.940972        0.011767   \n",
       "1           0.945460           0.901238  ...         0.932843        0.019152   \n",
       "2           0.966686           0.919517  ...         0.958329        0.022145   \n",
       "3           0.973172           0.925708  ...         0.960632        0.020436   \n",
       "4           0.945460           0.901238  ...         0.932843        0.019152   \n",
       "\n",
       "   rank_test_score  split0_train_score  split1_train_score  \\\n",
       "0               34            0.969558            0.979542   \n",
       "1               49            0.954512            0.956178   \n",
       "2               29            0.966397            0.957576   \n",
       "3               28            0.966896            0.961311   \n",
       "4               49            0.954512            0.956178   \n",
       "\n",
       "   split2_train_score  split3_train_score  split4_train_score  \\\n",
       "0            0.971797            0.968099            0.955344   \n",
       "1            0.959250            0.956950            0.947330   \n",
       "2            0.972680            0.959692            0.957930   \n",
       "3            0.974428            0.961789            0.961011   \n",
       "4            0.959250            0.956950            0.947330   \n",
       "\n",
       "   mean_train_score  std_train_score  \n",
       "0          0.968868         0.007829  \n",
       "1          0.954844         0.004055  \n",
       "2          0.962855         0.005852  \n",
       "3          0.965087         0.005143  \n",
       "4          0.954844         0.004055  \n",
       "\n",
       "[5 rows x 22 columns]"
      ]
     },
     "execution_count": 59,
     "metadata": {},
     "output_type": "execute_result"
    }
   ],
   "source": [
    "cv_results_df.head()"
   ]
  },
  {
   "cell_type": "code",
   "execution_count": 60,
   "metadata": {},
   "outputs": [],
   "source": [
    "columns = ['params', 'mean_test_score', \n",
    "          'std_test_score', 'rank_test_score',\n",
    "          'mean_train_score', 'std_train_score']"
   ]
  },
  {
   "cell_type": "code",
   "execution_count": 61,
   "metadata": {},
   "outputs": [
    {
     "data": {
      "text/plain": [
       "0.9553990610328639"
      ]
     },
     "execution_count": 61,
     "metadata": {},
     "output_type": "execute_result"
    }
   ],
   "source": [
    "# Recall that gridsearch.best_estimator is an decisiontreeclassifier object\n",
    "# so score returns 'accuracy' by default\n",
    "gridsearch.best_estimator_.score(X_train, y_train)"
   ]
  },
  {
   "cell_type": "code",
   "execution_count": 62,
   "metadata": {},
   "outputs": [
    {
     "data": {
      "text/html": [
       "<div>\n",
       "<style scoped>\n",
       "    .dataframe tbody tr th:only-of-type {\n",
       "        vertical-align: middle;\n",
       "    }\n",
       "\n",
       "    .dataframe tbody tr th {\n",
       "        vertical-align: top;\n",
       "    }\n",
       "\n",
       "    .dataframe thead th {\n",
       "        text-align: right;\n",
       "    }\n",
       "</style>\n",
       "<table border=\"1\" class=\"dataframe\">\n",
       "  <thead>\n",
       "    <tr style=\"text-align: right;\">\n",
       "      <th></th>\n",
       "      <th>params</th>\n",
       "      <th>mean_test_score</th>\n",
       "      <th>std_test_score</th>\n",
       "      <th>rank_test_score</th>\n",
       "      <th>mean_train_score</th>\n",
       "      <th>std_train_score</th>\n",
       "    </tr>\n",
       "  </thead>\n",
       "  <tbody>\n",
       "    <tr>\n",
       "      <th>22</th>\n",
       "      <td>{'max_depth': 6, 'max_features': 'log2'}</td>\n",
       "      <td>0.975906</td>\n",
       "      <td>0.018972</td>\n",
       "      <td>1</td>\n",
       "      <td>0.991218</td>\n",
       "      <td>0.001770</td>\n",
       "    </tr>\n",
       "    <tr>\n",
       "      <th>37</th>\n",
       "      <td>{'max_depth': 9, 'max_features': 'log2'}</td>\n",
       "      <td>0.975548</td>\n",
       "      <td>0.018663</td>\n",
       "      <td>2</td>\n",
       "      <td>0.991104</td>\n",
       "      <td>0.001944</td>\n",
       "    </tr>\n",
       "    <tr>\n",
       "      <th>27</th>\n",
       "      <td>{'max_depth': 7, 'max_features': 'log2'}</td>\n",
       "      <td>0.975548</td>\n",
       "      <td>0.018663</td>\n",
       "      <td>2</td>\n",
       "      <td>0.991104</td>\n",
       "      <td>0.001944</td>\n",
       "    </tr>\n",
       "    <tr>\n",
       "      <th>32</th>\n",
       "      <td>{'max_depth': 8, 'max_features': 'log2'}</td>\n",
       "      <td>0.975548</td>\n",
       "      <td>0.018663</td>\n",
       "      <td>2</td>\n",
       "      <td>0.991104</td>\n",
       "      <td>0.001944</td>\n",
       "    </tr>\n",
       "    <tr>\n",
       "      <th>42</th>\n",
       "      <td>{'max_depth': 10, 'max_features': 'log2'}</td>\n",
       "      <td>0.975548</td>\n",
       "      <td>0.018663</td>\n",
       "      <td>2</td>\n",
       "      <td>0.991104</td>\n",
       "      <td>0.001944</td>\n",
       "    </tr>\n",
       "    <tr>\n",
       "      <th>47</th>\n",
       "      <td>{'max_depth': 11, 'max_features': 'log2'}</td>\n",
       "      <td>0.975548</td>\n",
       "      <td>0.018663</td>\n",
       "      <td>2</td>\n",
       "      <td>0.991104</td>\n",
       "      <td>0.001944</td>\n",
       "    </tr>\n",
       "    <tr>\n",
       "      <th>17</th>\n",
       "      <td>{'max_depth': 5, 'max_features': 'log2'}</td>\n",
       "      <td>0.974831</td>\n",
       "      <td>0.018115</td>\n",
       "      <td>7</td>\n",
       "      <td>0.990312</td>\n",
       "      <td>0.003337</td>\n",
       "    </tr>\n",
       "    <tr>\n",
       "      <th>28</th>\n",
       "      <td>{'max_depth': 7, 'max_features': 1}</td>\n",
       "      <td>0.974263</td>\n",
       "      <td>0.017295</td>\n",
       "      <td>8</td>\n",
       "      <td>0.990362</td>\n",
       "      <td>0.001327</td>\n",
       "    </tr>\n",
       "    <tr>\n",
       "      <th>48</th>\n",
       "      <td>{'max_depth': 11, 'max_features': 1}</td>\n",
       "      <td>0.974263</td>\n",
       "      <td>0.017295</td>\n",
       "      <td>8</td>\n",
       "      <td>0.990362</td>\n",
       "      <td>0.001327</td>\n",
       "    </tr>\n",
       "    <tr>\n",
       "      <th>43</th>\n",
       "      <td>{'max_depth': 10, 'max_features': 1}</td>\n",
       "      <td>0.974263</td>\n",
       "      <td>0.017295</td>\n",
       "      <td>8</td>\n",
       "      <td>0.990362</td>\n",
       "      <td>0.001327</td>\n",
       "    </tr>\n",
       "  </tbody>\n",
       "</table>\n",
       "</div>"
      ],
      "text/plain": [
       "                                       params  mean_test_score  \\\n",
       "22   {'max_depth': 6, 'max_features': 'log2'}         0.975906   \n",
       "37   {'max_depth': 9, 'max_features': 'log2'}         0.975548   \n",
       "27   {'max_depth': 7, 'max_features': 'log2'}         0.975548   \n",
       "32   {'max_depth': 8, 'max_features': 'log2'}         0.975548   \n",
       "42  {'max_depth': 10, 'max_features': 'log2'}         0.975548   \n",
       "47  {'max_depth': 11, 'max_features': 'log2'}         0.975548   \n",
       "17   {'max_depth': 5, 'max_features': 'log2'}         0.974831   \n",
       "28        {'max_depth': 7, 'max_features': 1}         0.974263   \n",
       "48       {'max_depth': 11, 'max_features': 1}         0.974263   \n",
       "43       {'max_depth': 10, 'max_features': 1}         0.974263   \n",
       "\n",
       "    std_test_score  rank_test_score  mean_train_score  std_train_score  \n",
       "22        0.018972                1          0.991218         0.001770  \n",
       "37        0.018663                2          0.991104         0.001944  \n",
       "27        0.018663                2          0.991104         0.001944  \n",
       "32        0.018663                2          0.991104         0.001944  \n",
       "42        0.018663                2          0.991104         0.001944  \n",
       "47        0.018663                2          0.991104         0.001944  \n",
       "17        0.018115                7          0.990312         0.003337  \n",
       "28        0.017295                8          0.990362         0.001327  \n",
       "48        0.017295                8          0.990362         0.001327  \n",
       "43        0.017295                8          0.990362         0.001327  "
      ]
     },
     "execution_count": 62,
     "metadata": {},
     "output_type": "execute_result"
    }
   ],
   "source": [
    "cv_results_df[columns].sort_values(by = 'rank_test_score').head(10)"
   ]
  },
  {
   "cell_type": "code",
   "execution_count": 53,
   "metadata": {},
   "outputs": [],
   "source": [
    "import matplotlib.pyplot as plt\n",
    "%matplotlib inline"
   ]
  },
  {
   "cell_type": "code",
   "execution_count": 54,
   "metadata": {},
   "outputs": [
    {
     "data": {
      "image/png": "[encoded data removed]",
      "text/plain": [
       "<Figure size 432x288 with 1 Axes>"
      ]
     },
     "metadata": {
      "needs_background": "light"
     },
     "output_type": "display_data"
    }
   ],
   "source": [
    "roc_test_scores = gridsearch.cv_results_['mean_test_score']\n",
    "\n",
    "roc_training_scores = gridsearch.cv_results_['mean_train_score']\n",
    "\n",
    "plt.plot(range(50), roc_test_scores, label = 'test')\n",
    "plt.plot(range(50), roc_training_scores, label = 'train')\n",
    "\n",
    "\n",
    "plt.legend()\n",
    "plt.tight_layout()\n",
    "\n",
    "# df above shows the best test score is by model 22"
   ]
  },
  {
   "cell_type": "markdown",
   "metadata": {},
   "source": [
    "We can also use pipelines with GridSearchCV. "
   ]
  },
  {
   "cell_type": "code",
   "execution_count": 65,
   "metadata": {},
   "outputs": [
    {
     "data": {
      "text/plain": [
       "Pipeline(steps=[('standardscaler', StandardScaler()),\n",
       "                ('polynomialfeatures',\n",
       "                 PolynomialFeatures(interaction_only=True)),\n",
       "                ('logisticregression', LogisticRegression(random_state=1))])"
      ]
     },
     "execution_count": 65,
     "metadata": {},
     "output_type": "execute_result"
    }
   ],
   "source": [
    "log_pipe\n",
    "# we can now treat log_pipe as estimator. "
   ]
  },
  {
   "cell_type": "code",
   "execution_count": 66,
   "metadata": {},
   "outputs": [
    {
     "name": "stdout",
     "output_type": "stream",
     "text": [
      "Fitting 10 folds for each of 20 candidates, totalling 200 fits\n"
     ]
    },
    {
     "name": "stderr",
     "output_type": "stream",
     "text": [
      "[Parallel(n_jobs=-1)]: Using backend LokyBackend with 8 concurrent workers.\n",
      "[Parallel(n_jobs=-1)]: Done  34 tasks      | elapsed:    0.6s\n",
      "[Parallel(n_jobs=-1)]: Done 200 out of 200 | elapsed:    3.5s finished\n"
     ]
    }
   ],
   "source": [
    "# Problem: params are buried in this pipeline. Use 'dunder' to access the parameters: \n",
    "\n",
    "param_grid = {'logisticregression__C': np.logspace(-3, 2, 10),  \n",
    "              'polynomialfeatures__interaction_only': [True, False]}\n",
    "\n",
    "\n",
    "gridsearch = GridSearchCV(estimator = log_pipe, \n",
    "                          param_grid = param_grid, # now param_grid changes feature sin both logreg and polynomial features.\n",
    "                          n_jobs = -1, \n",
    "                          verbose = 1,\n",
    "                          cv = 10, \n",
    "                          scoring = 'roc_auc', \n",
    "                          return_train_score= True)\n",
    "\n",
    "gridsearch = gridsearch.fit(X_train, y_train)"
   ]
  },
  {
   "cell_type": "markdown",
   "metadata": {},
   "source": [
    "10 features for C, and 2 features for PolynomialFeatures. \n",
    "Each is cross-validated 10 times, giving me 200 models in total. "
   ]
  },
  {
   "cell_type": "code",
   "execution_count": 67,
   "metadata": {},
   "outputs": [
    {
     "data": {
      "text/plain": [
       "Pipeline(steps=[('standardscaler', StandardScaler()),\n",
       "                ('polynomialfeatures',\n",
       "                 PolynomialFeatures(interaction_only=True)),\n",
       "                ('logisticregression',\n",
       "                 LogisticRegression(C=0.1668100537200059, random_state=1))])"
      ]
     },
     "execution_count": 67,
     "metadata": {},
     "output_type": "execute_result"
    }
   ],
   "source": [
    "## let's see best score and best parameters\n",
    "\n",
    "gridsearch.best_estimator_"
   ]
  },
  {
   "cell_type": "code",
   "execution_count": 68,
   "metadata": {},
   "outputs": [
    {
     "data": {
      "text/plain": [
       "0.9927884615384615"
      ]
     },
     "execution_count": 68,
     "metadata": {},
     "output_type": "execute_result"
    }
   ],
   "source": [
    "gridsearch.best_score_"
   ]
  },
  {
   "cell_type": "code",
   "execution_count": 69,
   "metadata": {},
   "outputs": [
    {
     "data": {
      "text/plain": [
       "{'mean_fit_time': array([0.23314476, 0.033391  , 0.03565662, 0.03708072, 0.04108763,\n",
       "        0.04397817, 0.0516525 , 0.0601299 , 0.08966694, 0.10501003,\n",
       "        0.16284707, 0.20552266, 0.23399892, 0.18854856, 0.14775465,\n",
       "        0.13321748, 0.14389296, 0.14006033, 0.13246207, 0.10249004]),\n",
       " 'std_fit_time': array([0.10569658, 0.00282959, 0.0025174 , 0.00306224, 0.00278363,\n",
       "        0.00656174, 0.00571835, 0.01005623, 0.03044763, 0.03371277,\n",
       "        0.04237091, 0.0259248 , 0.04434956, 0.07648705, 0.0500177 ,\n",
       "        0.01682935, 0.01747918, 0.01850265, 0.03016288, 0.02870554]),\n",
       " 'mean_score_time': array([0.00366855, 0.00416646, 0.00397916, 0.00381827, 0.00386271,\n",
       "        0.00374758, 0.00514612, 0.00449693, 0.00551407, 0.00825512,\n",
       "        0.00739281, 0.01101055, 0.01018538, 0.00775592, 0.00476556,\n",
       "        0.00565722, 0.00584295, 0.00436702, 0.00425682, 0.00377128]),\n",
       " 'std_score_time': array([0.00031043, 0.00090315, 0.00067975, 0.00093948, 0.00038716,\n",
       "        0.00022721, 0.00211803, 0.00176302, 0.00212201, 0.00478297,\n",
       "        0.0029412 , 0.00647437, 0.00547226, 0.00343884, 0.00095515,\n",
       "        0.00124842, 0.00261542, 0.00113635, 0.00114322, 0.00169231]),\n",
       " 'param_logisticregression__C': masked_array(data=[0.001, 0.001, 0.003593813663804626,\n",
       "                    0.003593813663804626, 0.01291549665014884,\n",
       "                    0.01291549665014884, 0.046415888336127795,\n",
       "                    0.046415888336127795, 0.1668100537200059,\n",
       "                    0.1668100537200059, 0.5994842503189409,\n",
       "                    0.5994842503189409, 2.1544346900318843,\n",
       "                    2.1544346900318843, 7.742636826811277,\n",
       "                    7.742636826811277, 27.825594022071257,\n",
       "                    27.825594022071257, 100.0, 100.0],\n",
       "              mask=[False, False, False, False, False, False, False, False,\n",
       "                    False, False, False, False, False, False, False, False,\n",
       "                    False, False, False, False],\n",
       "        fill_value='?',\n",
       "             dtype=object),\n",
       " 'param_polynomialfeatures__interaction_only': masked_array(data=[True, False, True, False, True, False, True, False,\n",
       "                    True, False, True, False, True, False, True, False,\n",
       "                    True, False, True, False],\n",
       "              mask=[False, False, False, False, False, False, False, False,\n",
       "                    False, False, False, False, False, False, False, False,\n",
       "                    False, False, False, False],\n",
       "        fill_value='?',\n",
       "             dtype=object),\n",
       " 'params': [{'logisticregression__C': 0.001,\n",
       "   'polynomialfeatures__interaction_only': True},\n",
       "  {'logisticregression__C': 0.001,\n",
       "   'polynomialfeatures__interaction_only': False},\n",
       "  {'logisticregression__C': 0.003593813663804626,\n",
       "   'polynomialfeatures__interaction_only': True},\n",
       "  {'logisticregression__C': 0.003593813663804626,\n",
       "   'polynomialfeatures__interaction_only': False},\n",
       "  {'logisticregression__C': 0.01291549665014884,\n",
       "   'polynomialfeatures__interaction_only': True},\n",
       "  {'logisticregression__C': 0.01291549665014884,\n",
       "   'polynomialfeatures__interaction_only': False},\n",
       "  {'logisticregression__C': 0.046415888336127795,\n",
       "   'polynomialfeatures__interaction_only': True},\n",
       "  {'logisticregression__C': 0.046415888336127795,\n",
       "   'polynomialfeatures__interaction_only': False},\n",
       "  {'logisticregression__C': 0.1668100537200059,\n",
       "   'polynomialfeatures__interaction_only': True},\n",
       "  {'logisticregression__C': 0.1668100537200059,\n",
       "   'polynomialfeatures__interaction_only': False},\n",
       "  {'logisticregression__C': 0.5994842503189409,\n",
       "   'polynomialfeatures__interaction_only': True},\n",
       "  {'logisticregression__C': 0.5994842503189409,\n",
       "   'polynomialfeatures__interaction_only': False},\n",
       "  {'logisticregression__C': 2.1544346900318843,\n",
       "   'polynomialfeatures__interaction_only': True},\n",
       "  {'logisticregression__C': 2.1544346900318843,\n",
       "   'polynomialfeatures__interaction_only': False},\n",
       "  {'logisticregression__C': 7.742636826811277,\n",
       "   'polynomialfeatures__interaction_only': True},\n",
       "  {'logisticregression__C': 7.742636826811277,\n",
       "   'polynomialfeatures__interaction_only': False},\n",
       "  {'logisticregression__C': 27.825594022071257,\n",
       "   'polynomialfeatures__interaction_only': True},\n",
       "  {'logisticregression__C': 27.825594022071257,\n",
       "   'polynomialfeatures__interaction_only': False},\n",
       "  {'logisticregression__C': 100.0,\n",
       "   'polynomialfeatures__interaction_only': True},\n",
       "  {'logisticregression__C': 100.0,\n",
       "   'polynomialfeatures__interaction_only': False}],\n",
       " 'split0_test_score': array([0.99768519, 0.99768519, 1.        , 1.        , 1.        ,\n",
       "        1.        , 1.        , 1.        , 1.        , 1.        ,\n",
       "        1.        , 1.        , 1.        , 1.        , 1.        ,\n",
       "        1.        , 1.        , 1.        , 1.        , 1.        ]),\n",
       " 'split1_test_score': array([0.99074074, 0.98842593, 0.99768519, 0.99537037, 1.        ,\n",
       "        1.        , 1.        , 1.        , 1.        , 1.        ,\n",
       "        1.        , 1.        , 1.        , 1.        , 1.        ,\n",
       "        1.        , 1.        , 1.        , 1.        , 1.        ]),\n",
       " 'split2_test_score': array([1.        , 1.        , 1.        , 1.        , 1.        ,\n",
       "        1.        , 0.99768519, 0.99768519, 0.99768519, 0.99768519,\n",
       "        0.99305556, 0.99537037, 0.99074074, 0.99537037, 0.99074074,\n",
       "        0.99537037, 0.99074074, 0.99305556, 0.99074074, 0.99305556]),\n",
       " 'split3_test_score': array([0.96296296, 0.96296296, 0.96759259, 0.96527778, 0.97916667,\n",
       "        0.97685185, 0.98148148, 0.98148148, 0.98611111, 0.98148148,\n",
       "        0.9837963 , 0.97685185, 0.9837963 , 0.97685185, 0.97916667,\n",
       "        0.97453704, 0.97222222, 0.97453704, 0.96990741, 0.97222222]),\n",
       " 'split4_test_score': array([0.93518519, 0.93981481, 0.96759259, 0.96296296, 0.97453704,\n",
       "        0.97222222, 0.98148148, 0.97685185, 0.9837963 , 0.98148148,\n",
       "        0.98842593, 0.98611111, 0.98842593, 0.98611111, 0.98842593,\n",
       "        0.98611111, 0.98842593, 0.98611111, 0.98611111, 0.9837963 ]),\n",
       " 'split5_test_score': array([0.97453704, 0.97916667, 0.97222222, 0.97222222, 0.96990741,\n",
       "        0.96990741, 0.96990741, 0.96759259, 0.96990741, 0.96527778,\n",
       "        0.96759259, 0.96759259, 0.96990741, 0.96759259, 0.96990741,\n",
       "        0.96296296, 0.96527778, 0.96759259, 0.96759259, 0.96759259]),\n",
       " 'split6_test_score': array([0.99519231, 0.99759615, 0.99759615, 0.99759615, 0.99759615,\n",
       "        0.99759615, 1.        , 1.        , 0.99278846, 0.99759615,\n",
       "        0.97836538, 0.98557692, 0.96875   , 0.97355769, 0.96634615,\n",
       "        0.96634615, 0.96153846, 0.96394231, 0.96153846, 0.96394231]),\n",
       " 'split7_test_score': array([0.97596154, 0.97596154, 0.98798077, 0.99038462, 0.99278846,\n",
       "        0.99759615, 0.99519231, 0.99759615, 0.99759615, 0.99759615,\n",
       "        1.        , 1.        , 1.        , 1.        , 1.        ,\n",
       "        1.        , 1.        , 1.        , 1.        , 1.        ]),\n",
       " 'split8_test_score': array([0.99038462, 0.99519231, 0.99519231, 0.99759615, 1.        ,\n",
       "        1.        , 1.        , 1.        , 1.        , 1.        ,\n",
       "        1.        , 1.        , 1.        , 1.        , 1.        ,\n",
       "        1.        , 1.        , 1.        , 1.        , 1.        ]),\n",
       " 'split9_test_score': array([1., 1., 1., 1., 1., 1., 1., 1., 1., 1., 1., 1., 1., 1., 1., 1., 1.,\n",
       "        1., 1., 1.]),\n",
       " 'mean_test_score': array([0.98226496, 0.98368056, 0.98858618, 0.98814103, 0.99139957,\n",
       "        0.99141738, 0.99257479, 0.99212073, 0.99278846, 0.99211182,\n",
       "        0.99112358, 0.99115028, 0.99016204, 0.98994836, 0.98945869,\n",
       "        0.98853276, 0.98782051, 0.98852386, 0.98758903, 0.9880609 ]),\n",
       " 'std_test_score': array([0.01964754, 0.01873724, 0.01322137, 0.0143808 , 0.01142832,\n",
       "        0.01219815, 0.01033716, 0.01148616, 0.00950845, 0.01134101,\n",
       "        0.01084035, 0.01106916, 0.01181746, 0.01220349, 0.01257249,\n",
       "        0.01432496, 0.01480818, 0.01386675, 0.01474248, 0.01416815]),\n",
       " 'rank_test_score': array([20, 19, 12, 15,  6,  5,  2,  3,  1,  4,  8,  7,  9, 10, 11, 13, 17,\n",
       "        14, 18, 16], dtype=int32),\n",
       " 'split0_train_score': array([0.98951049, 0.98986014, 0.99498834, 0.99507576, 0.99740676,\n",
       "        0.99752331, 0.99912587, 0.99915501, 0.99979604, 0.99985431,\n",
       "        1.        , 1.        , 1.        , 1.        , 1.        ,\n",
       "        1.        , 1.        , 1.        , 1.        , 1.        ]),\n",
       " 'split1_train_score': array([0.99073427, 0.9905303 , 0.99527972, 0.99498834, 0.99729021,\n",
       "        0.99734848, 0.99892191, 0.99903846, 0.9997669 , 0.99979604,\n",
       "        1.        , 1.        , 1.        , 1.        , 1.        ,\n",
       "        1.        , 1.        , 1.        , 1.        , 1.        ]),\n",
       " 'split2_train_score': array([0.99149184, 0.9909965 , 0.99577506, 0.99589161, 0.99781469,\n",
       "        0.99801865, 0.99912587, 0.99924242, 0.99985431, 0.99991259,\n",
       "        1.        , 1.        , 1.        , 1.        , 1.        ,\n",
       "        1.        , 1.        , 1.        , 1.        , 1.        ]),\n",
       " 'split3_train_score': array([0.99315268, 0.99300699, 0.9967366 , 0.99688228, 0.99863054,\n",
       "        0.99877622, 0.99967949, 0.99979604, 1.        , 1.        ,\n",
       "        1.        , 1.        , 1.        , 1.        , 1.        ,\n",
       "        1.        , 1.        , 1.        , 1.        , 1.        ]),\n",
       " 'split4_train_score': array([0.99236597, 0.99219114, 0.99638695, 0.99641608, 0.99825175,\n",
       "        0.99825175, 0.99918415, 0.9993007 , 0.99985431, 0.99988345,\n",
       "        1.        , 1.        , 1.        , 1.        , 1.        ,\n",
       "        1.        , 1.        , 1.        , 1.        , 1.        ]),\n",
       " 'split5_train_score': array([0.99149184, 0.99125874, 0.9965035 , 0.99653263, 0.9983683 ,\n",
       "        0.99831002, 0.99950466, 0.99956294, 0.9997669 , 0.9997669 ,\n",
       "        1.        , 1.        , 1.        , 1.        , 1.        ,\n",
       "        1.        , 1.        , 1.        , 1.        , 1.        ]),\n",
       " 'split6_train_score': array([0.99059861, 0.99007631, 0.99573456, 0.99561849, 0.99799785,\n",
       "        0.99793982, 0.99924557, 0.9993036 , 0.9998259 , 0.99985492,\n",
       "        1.        , 1.        , 1.        , 1.        , 1.        ,\n",
       "        1.        , 1.        , 1.        , 1.        , 1.        ]),\n",
       " 'split7_train_score': array([0.99167223, 0.99085976, 0.99558947, 0.99573456, 0.99762064,\n",
       "        0.99770769, 0.99915852, 0.99927458, 0.99973885, 0.99979688,\n",
       "        1.        , 1.        , 1.        , 1.        , 1.        ,\n",
       "        1.        , 1.        , 1.        , 1.        , 1.        ]),\n",
       " 'split8_train_score': array([0.99030845, 0.99019238, 0.99498012, 0.99498012, 0.99724342,\n",
       "        0.99735949, 0.99892638, 0.99907147, 0.99976787, 0.99973885,\n",
       "        1.        , 1.        , 1.        , 1.        , 1.        ,\n",
       "        1.        , 1.        , 1.        , 1.        , 1.        ]),\n",
       " 'split9_train_score': array([0.99088542, 0.99027778, 0.99525463, 0.99545718, 0.99733796,\n",
       "        0.9974537 , 0.99907407, 0.99918981, 0.99979745, 0.99982639,\n",
       "        1.        , 1.        , 1.        , 1.        , 1.        ,\n",
       "        1.        , 1.        , 1.        , 1.        , 1.        ]),\n",
       " 'mean_train_score': array([0.99122118, 0.99092501, 0.99572289, 0.99575771, 0.99779621,\n",
       "        0.99786891, 0.99919465, 0.9992935 , 0.99981685, 0.99984303,\n",
       "        1.        , 1.        , 1.        , 1.        , 1.        ,\n",
       "        1.        , 1.        , 1.        , 1.        , 1.        ]),\n",
       " 'std_train_score': array([9.94391712e-04, 9.49956438e-04, 6.00458324e-04, 6.39407635e-04,\n",
       "        4.71805218e-04, 4.51663235e-04, 2.24840895e-04, 2.17378229e-04,\n",
       "        7.12147463e-05, 7.25562608e-05, 0.00000000e+00, 0.00000000e+00,\n",
       "        0.00000000e+00, 0.00000000e+00, 0.00000000e+00, 0.00000000e+00,\n",
       "        0.00000000e+00, 0.00000000e+00, 0.00000000e+00, 0.00000000e+00])}"
      ]
     },
     "execution_count": 69,
     "metadata": {},
     "output_type": "execute_result"
    }
   ],
   "source": [
    "gridsearch.cv_results_"
   ]
  },
  {
   "cell_type": "code",
   "execution_count": 71,
   "metadata": {},
   "outputs": [
    {
     "data": {
      "text/html": [
       "<div>\n",
       "<style scoped>\n",
       "    .dataframe tbody tr th:only-of-type {\n",
       "        vertical-align: middle;\n",
       "    }\n",
       "\n",
       "    .dataframe tbody tr th {\n",
       "        vertical-align: top;\n",
       "    }\n",
       "\n",
       "    .dataframe thead th {\n",
       "        text-align: right;\n",
       "    }\n",
       "</style>\n",
       "<table border=\"1\" class=\"dataframe\">\n",
       "  <thead>\n",
       "    <tr style=\"text-align: right;\">\n",
       "      <th></th>\n",
       "      <th>params</th>\n",
       "      <th>mean_test_score</th>\n",
       "      <th>std_test_score</th>\n",
       "      <th>rank_test_score</th>\n",
       "      <th>mean_train_score</th>\n",
       "      <th>std_train_score</th>\n",
       "    </tr>\n",
       "  </thead>\n",
       "  <tbody>\n",
       "    <tr>\n",
       "      <th>8</th>\n",
       "      <td>{'logisticregression__C': 0.1668100537200059, ...</td>\n",
       "      <td>0.992788</td>\n",
       "      <td>0.009508</td>\n",
       "      <td>1</td>\n",
       "      <td>0.999817</td>\n",
       "      <td>0.000071</td>\n",
       "    </tr>\n",
       "    <tr>\n",
       "      <th>6</th>\n",
       "      <td>{'logisticregression__C': 0.046415888336127795...</td>\n",
       "      <td>0.992575</td>\n",
       "      <td>0.010337</td>\n",
       "      <td>2</td>\n",
       "      <td>0.999195</td>\n",
       "      <td>0.000225</td>\n",
       "    </tr>\n",
       "    <tr>\n",
       "      <th>7</th>\n",
       "      <td>{'logisticregression__C': 0.046415888336127795...</td>\n",
       "      <td>0.992121</td>\n",
       "      <td>0.011486</td>\n",
       "      <td>3</td>\n",
       "      <td>0.999294</td>\n",
       "      <td>0.000217</td>\n",
       "    </tr>\n",
       "    <tr>\n",
       "      <th>9</th>\n",
       "      <td>{'logisticregression__C': 0.1668100537200059, ...</td>\n",
       "      <td>0.992112</td>\n",
       "      <td>0.011341</td>\n",
       "      <td>4</td>\n",
       "      <td>0.999843</td>\n",
       "      <td>0.000073</td>\n",
       "    </tr>\n",
       "    <tr>\n",
       "      <th>5</th>\n",
       "      <td>{'logisticregression__C': 0.01291549665014884,...</td>\n",
       "      <td>0.991417</td>\n",
       "      <td>0.012198</td>\n",
       "      <td>5</td>\n",
       "      <td>0.997869</td>\n",
       "      <td>0.000452</td>\n",
       "    </tr>\n",
       "    <tr>\n",
       "      <th>4</th>\n",
       "      <td>{'logisticregression__C': 0.01291549665014884,...</td>\n",
       "      <td>0.991400</td>\n",
       "      <td>0.011428</td>\n",
       "      <td>6</td>\n",
       "      <td>0.997796</td>\n",
       "      <td>0.000472</td>\n",
       "    </tr>\n",
       "    <tr>\n",
       "      <th>11</th>\n",
       "      <td>{'logisticregression__C': 0.5994842503189409, ...</td>\n",
       "      <td>0.991150</td>\n",
       "      <td>0.011069</td>\n",
       "      <td>7</td>\n",
       "      <td>1.000000</td>\n",
       "      <td>0.000000</td>\n",
       "    </tr>\n",
       "    <tr>\n",
       "      <th>10</th>\n",
       "      <td>{'logisticregression__C': 0.5994842503189409, ...</td>\n",
       "      <td>0.991124</td>\n",
       "      <td>0.010840</td>\n",
       "      <td>8</td>\n",
       "      <td>1.000000</td>\n",
       "      <td>0.000000</td>\n",
       "    </tr>\n",
       "    <tr>\n",
       "      <th>12</th>\n",
       "      <td>{'logisticregression__C': 2.1544346900318843, ...</td>\n",
       "      <td>0.990162</td>\n",
       "      <td>0.011817</td>\n",
       "      <td>9</td>\n",
       "      <td>1.000000</td>\n",
       "      <td>0.000000</td>\n",
       "    </tr>\n",
       "    <tr>\n",
       "      <th>13</th>\n",
       "      <td>{'logisticregression__C': 2.1544346900318843, ...</td>\n",
       "      <td>0.989948</td>\n",
       "      <td>0.012203</td>\n",
       "      <td>10</td>\n",
       "      <td>1.000000</td>\n",
       "      <td>0.000000</td>\n",
       "    </tr>\n",
       "  </tbody>\n",
       "</table>\n",
       "</div>"
      ],
      "text/plain": [
       "                                               params  mean_test_score  \\\n",
       "8   {'logisticregression__C': 0.1668100537200059, ...         0.992788   \n",
       "6   {'logisticregression__C': 0.046415888336127795...         0.992575   \n",
       "7   {'logisticregression__C': 0.046415888336127795...         0.992121   \n",
       "9   {'logisticregression__C': 0.1668100537200059, ...         0.992112   \n",
       "5   {'logisticregression__C': 0.01291549665014884,...         0.991417   \n",
       "4   {'logisticregression__C': 0.01291549665014884,...         0.991400   \n",
       "11  {'logisticregression__C': 0.5994842503189409, ...         0.991150   \n",
       "10  {'logisticregression__C': 0.5994842503189409, ...         0.991124   \n",
       "12  {'logisticregression__C': 2.1544346900318843, ...         0.990162   \n",
       "13  {'logisticregression__C': 2.1544346900318843, ...         0.989948   \n",
       "\n",
       "    std_test_score  rank_test_score  mean_train_score  std_train_score  \n",
       "8         0.009508                1          0.999817         0.000071  \n",
       "6         0.010337                2          0.999195         0.000225  \n",
       "7         0.011486                3          0.999294         0.000217  \n",
       "9         0.011341                4          0.999843         0.000073  \n",
       "5         0.012198                5          0.997869         0.000452  \n",
       "4         0.011428                6          0.997796         0.000472  \n",
       "11        0.011069                7          1.000000         0.000000  \n",
       "10        0.010840                8          1.000000         0.000000  \n",
       "12        0.011817                9          1.000000         0.000000  \n",
       "13        0.012203               10          1.000000         0.000000  "
      ]
     },
     "execution_count": 71,
     "metadata": {},
     "output_type": "execute_result"
    }
   ],
   "source": [
    "colums = ['params', 'mean_test_score', \n",
    "          'std_test_score', 'rank_test_score',\n",
    "          'mean_train_score', 'std_train_score']\n",
    "\n",
    "log_reg_results = pd.DataFrame(gridsearch.cv_results_)[colums]\n",
    "log_reg_results.sort_values(by = 'rank_test_score').head(10)"
   ]
  },
  {
   "cell_type": "code",
   "execution_count": 74,
   "metadata": {},
   "outputs": [
    {
     "data": {
      "image/png": "[encoded data removed]",
      "text/plain": [
       "<Figure size 432x288 with 1 Axes>"
      ]
     },
     "metadata": {
      "needs_background": "light"
     },
     "output_type": "display_data"
    }
   ],
   "source": [
    "roc_test_scores = gridsearch.cv_results_['mean_test_score']\n",
    "\n",
    "roc_training_scores = gridsearch.cv_results_['mean_train_score']\n",
    "\n",
    "plt.plot(range(20), roc_test_scores, label = 'test')\n",
    "plt.plot(range(20), roc_training_scores, label = 'train')\n",
    "\n",
    "\n",
    "plt.legend()\n",
    "plt.tight_layout()\n",
    "\n",
    "# can use this graph to pick the model with highest test score."
   ]
  },
  {
   "cell_type": "markdown",
   "metadata": {},
   "source": [
    "Now cross validate using the best estimator."
   ]
  },
  {
   "cell_type": "code",
   "execution_count": 75,
   "metadata": {},
   "outputs": [],
   "source": [
    "from sklearn.model_selection import cross_val_score"
   ]
  },
  {
   "cell_type": "code",
   "execution_count": null,
   "metadata": {},
   "outputs": [],
   "source": [
    "gs = GridSearchCV(estimator= log_pipe, param_grid = param_grid, scoring = 'roc_auc', cv = 2 )\n",
    "\n",
    "scores = cross_val_score(gs, X_train, y_train, scoring = 'roc_auc', cv = 5)\n",
    "\n",
    "print('CV accuracy: %.3f +/- %.3f'%(np.mean(scores), np.std(scores)))"
   ]
  },
  {
   "cell_type": "code",
   "execution_count": 76,
   "metadata": {},
   "outputs": [],
   "source": [
    "y_test_pred = gridsearch.best_estimator_.predict_proba(X_test)[:, 1]"
   ]
  },
  {
   "cell_type": "code",
   "execution_count": 77,
   "metadata": {},
   "outputs": [
    {
     "data": {
      "text/plain": [
       "array([2.68780962e-02, 2.03205286e-02, 1.00000000e+00, 4.27869365e-03,\n",
       "       7.01409091e-04])"
      ]
     },
     "execution_count": 77,
     "metadata": {},
     "output_type": "execute_result"
    }
   ],
   "source": [
    "y_test_pred[:5]"
   ]
  },
  {
   "cell_type": "code",
   "execution_count": 78,
   "metadata": {},
   "outputs": [],
   "source": [
    "from sklearn.metrics import roc_auc_score"
   ]
  },
  {
   "cell_type": "code",
   "execution_count": 79,
   "metadata": {},
   "outputs": [
    {
     "data": {
      "text/plain": [
       "0.9926624737945493"
      ]
     },
     "execution_count": 79,
     "metadata": {},
     "output_type": "execute_result"
    }
   ],
   "source": [
    "roc_auc_score(y_test, y_test_pred)"
   ]
  },
  {
   "cell_type": "markdown",
   "metadata": {},
   "source": [
    "## Extras"
   ]
  },
  {
   "cell_type": "markdown",
   "metadata": {},
   "source": [
    "[Faster Hyperparameter tuning: Randomized Approach](https://scikit-learn.org/stable/modules/generated/sklearn.model_selection.RandomizedSearchCV.html)\n",
    "\n",
    "[Learning the hyperparameter space](https://towardsdatascience.com/automated-machine-learning-hyperparameter-tuning-in-python-dfda59b72f8a)\n",
    "\n",
    "[Using sklearn for plotting learning curves](https://scikit-learn.org/stable/modules/generated/sklearn.model_selection.learning_curve.html)\n",
    "\n",
    "[YellowBrick Validation Curve](https://www.scikit-yb.org/en/latest/api/model_selection/validation_curve.html)"
   ]
  }
 ],
 "metadata": {
  "kernelspec": {
   "display_name": "Python 3",
   "language": "python",
   "name": "python3"
  },
  "language_info": {
   "codemirror_mode": {
    "name": "ipython",
    "version": 3
   },
   "file_extension": ".py",
   "mimetype": "text/x-python",
   "name": "python",
   "nbconvert_exporter": "python",
   "pygments_lexer": "ipython3",
   "version": "3.7.6"
  },
  "toc": {
   "base_numbering": 1,
   "nav_menu": {},
   "number_sections": true,
   "sideBar": true,
   "skip_h1_title": false,
   "title_cell": "Table of Contents",
   "title_sidebar": "Contents",
   "toc_cell": false,
   "toc_position": {},
   "toc_section_display": true,
   "toc_window_display": false
  }
 },
 "nbformat": 4,
 "nbformat_minor": 4
}
